{
 "cells": [
  {
   "cell_type": "markdown",
   "metadata": {},
   "source": [
    "### Advanced Machine Learning\n",
    "\n",
    "# Home Exercise #2\n",
    "\n",
    "Assignment Due: 18/04/21 23:59\n",
    "\n",
    "Jonathan Schler"
   ]
  },
  {
   "cell_type": "code",
   "execution_count": 1,
   "metadata": {
    "collapsed": false,
    "jupyter": {
     "outputs_hidden": false
    },
    "pycharm": {
     "name": "#%%\n"
    }
   },
   "outputs": [],
   "source": [
    "student1Name=\"Matan Mizrachi\" # student1 name here\n",
    "student1ID=\"207299363\" # student1 ID here\n",
    "\n",
    "\n",
    "student2Name=\"Ron Yosef\" # student2 name here\n",
    "student2ID=\"318466711\" # student2 ID here\n",
    "\n",
    "# ********************************************************** #\n",
    "# This exercise wasnt solved linearly. \n",
    "# ********************************************************** #"
   ]
  },
  {
   "cell_type": "markdown",
   "metadata": {},
   "source": [
    "The goal of this homework is to provide a realistic setting for a machine learning task. Therefore instructions will not specify the exact steps to carry out. Instead, it is part of theassignment to identify promising features, models and preprocessing methods and apply themas appropriate."
   ]
  },
  {
   "cell_type": "markdown",
   "metadata": {},
   "source": [
    "The overall goal is to predict whether a specific credit card transaction is fraudulent or not. Please use the data from this dataset provided on Kaggle here:https://www.kaggle.com/kartik2112/fraud-detection. The Kaggle page also contains a description of the dataset. You will use the train set for training the model and test set for validation."
   ]
  },
  {
   "cell_type": "markdown",
   "metadata": {},
   "source": [
    "You are free to manipulate the train dataset as you think is appropriate. You do not have to use the wholedataset, you can subsample if you want. While the modelling process is likely iterative, please lay out the  following tasks in the given order to facilitate grading."
   ]
  },
  {
   "cell_type": "markdown",
   "metadata": {},
   "source": [
    "## Task 1 Identify Features\n",
    "Assemble a dataset consisting of features and target (for example in a dataframe or in two arrays X and y). What features are relevant for the prediction task? What features should be excluded because they leak the target information? Show visualizations or statistics to support your selection"
   ]
  },
  {
   "cell_type": "code",
   "execution_count": 1,
   "metadata": {
    "collapsed": false,
    "jupyter": {
     "outputs_hidden": false
    },
    "pycharm": {
     "name": "#%%\n"
    }
   },
   "outputs": [],
   "source": [
    "import pandas as pd\n",
    "import numpy as np\n",
    "import seaborn as sns\n",
    "from matplotlib import pyplot as plt\n",
    "from imblearn.over_sampling import SMOTE\n",
    "from sklearn.model_selection import cross_val_score, train_test_split, cross_validate\n",
    "from sklearn.linear_model import LogisticRegression\n",
    "from sklearn.pipeline import make_pipeline, Pipeline\n",
    "from sklearn.preprocessing import StandardScaler\n",
    "# Pick up from last point of pre processing (should be used for the final product):\n",
    "\n",
    "def preProcess(x_df: pd.DataFrame, encode=False) -> pd.DataFrame:\n",
    "    x = x_df.copy()\n",
    "\n",
    "    as_time = pd.to_datetime(x['unix_time'], unit='s')\n",
    "\n",
    "    x['zip'] = x['zip'].astype(object)\n",
    "    x['hour_minute_sec'] = as_time.apply(lambda z: z.hour) + as_time.apply(lambda z: z.minute/60) + as_time.apply(lambda z: z.second/3600)\n",
    "    x['sub_category'] = x['category'].apply(lambda z: z if len(z.split('_')) == 0 else z.split('_')[-1])\n",
    "    x['street_name'] = x['street'].apply(lambda z: ' '.join(z.split(' ')[1:]))\n",
    "    x['street_number'] = x['street'].apply(lambda z: int(z.split(' ')[0]))\n",
    "    x.drop(columns=['street'], inplace=True)\n",
    "    \n",
    "    credit_cards = pd.DataFrame()\n",
    "    credit_cards['cc_num'] = x['cc_num'].copy()\n",
    "    \n",
    "    credit_cards['unix_time'] = x['unix_time']\n",
    "    credit_cards = credit_cards.iloc[np.argsort(credit_cards['unix_time'])]\n",
    "    \n",
    "    credit_cards['diff'] = credit_cards.groupby(by=['cc_num']).diff()['unix_time']\n",
    "    is_nan = credit_cards.isna()['diff']\n",
    "    credit_cards.fillna(value=0, inplace=True)\n",
    "    credit_cards['time_diff'] = pd.to_datetime(credit_cards['diff'], unit='s')\n",
    "    credit_cards['time_diff'] = credit_cards['time_diff'].apply(lambda z: z.day + z.hour/24 + z.minute/(24*60) + z.second/(24*3600))\n",
    "    credit_cards.loc[is_nan] = 0\n",
    "    \n",
    "    x['time_diff'] = credit_cards['time_diff'].copy()\n",
    "    \n",
    "    credit_cards = None\n",
    "    x = x.drop(columns=['unix_time'], inplace=False)\n",
    "\n",
    "    categorical = x.dtypes == object\n",
    "    x.loc[:, categorical] = x.loc[:, categorical].apply(lambda z: z.astype('category'))\n",
    "    \n",
    "    if encode:\n",
    "        x.loc[:, categorical] = x.loc[:, categorical].apply(lambda z: z.cat.codes) \n",
    "    \n",
    "    return x\n",
    "\n",
    "\n",
    "# redundent.\n",
    "def openResults() -> pd.DataFrame:\n",
    "    return pd.read_csv('current_results.csv', index_col=0)"
   ]
  },
  {
   "cell_type": "markdown",
   "metadata": {},
   "source": [
    "First, let's load the train and test sets. Since the training data and test data are originally separated, we'll assume they are distributed in the same way. "
   ]
  },
  {
   "cell_type": "code",
   "execution_count": 2,
   "metadata": {
    "collapsed": false,
    "jupyter": {
     "outputs_hidden": false
    },
    "pycharm": {
     "name": "#%%\n"
    }
   },
   "outputs": [
    {
     "name": "stderr",
     "output_type": "stream",
     "text": [
      "c:\\Users\\tomda\\source\\pytho\\lib\\site-packages\\numpy\\lib\\arraysetops.py:583: FutureWarning: elementwise comparison failed; returning scalar instead, but in the future will perform elementwise comparison\n",
      "  mask |= (ar1 == a)\n"
     ]
    },
    {
     "data": {
      "text/html": [
       "<div>\n",
       "<style scoped>\n",
       "    .dataframe tbody tr th:only-of-type {\n",
       "        vertical-align: middle;\n",
       "    }\n",
       "\n",
       "    .dataframe tbody tr th {\n",
       "        vertical-align: top;\n",
       "    }\n",
       "\n",
       "    .dataframe thead th {\n",
       "        text-align: right;\n",
       "    }\n",
       "</style>\n",
       "<table border=\"1\" class=\"dataframe\">\n",
       "  <thead>\n",
       "    <tr style=\"text-align: right;\">\n",
       "      <th></th>\n",
       "      <th>trans_date_trans_time</th>\n",
       "      <th>cc_num</th>\n",
       "      <th>merchant</th>\n",
       "      <th>category</th>\n",
       "      <th>amt</th>\n",
       "      <th>first</th>\n",
       "      <th>last</th>\n",
       "      <th>gender</th>\n",
       "      <th>street</th>\n",
       "      <th>city</th>\n",
       "      <th>...</th>\n",
       "      <th>zip</th>\n",
       "      <th>lat</th>\n",
       "      <th>long</th>\n",
       "      <th>city_pop</th>\n",
       "      <th>job</th>\n",
       "      <th>dob</th>\n",
       "      <th>trans_num</th>\n",
       "      <th>unix_time</th>\n",
       "      <th>merch_lat</th>\n",
       "      <th>merch_long</th>\n",
       "    </tr>\n",
       "  </thead>\n",
       "  <tbody>\n",
       "    <tr>\n",
       "      <th>0</th>\n",
       "      <td>2019-01-01 00:00:18</td>\n",
       "      <td>2703186189652095</td>\n",
       "      <td>fraud_Rippin, Kub and Mann</td>\n",
       "      <td>misc_net</td>\n",
       "      <td>4.97</td>\n",
       "      <td>Jennifer</td>\n",
       "      <td>Banks</td>\n",
       "      <td>F</td>\n",
       "      <td>561 Perry Cove</td>\n",
       "      <td>Moravian Falls</td>\n",
       "      <td>...</td>\n",
       "      <td>28654</td>\n",
       "      <td>36.0788</td>\n",
       "      <td>-81.1781</td>\n",
       "      <td>3495</td>\n",
       "      <td>Psychologist, counselling</td>\n",
       "      <td>1988-03-09</td>\n",
       "      <td>0b242abb623afc578575680df30655b9</td>\n",
       "      <td>1325376018</td>\n",
       "      <td>36.011293</td>\n",
       "      <td>-82.048315</td>\n",
       "    </tr>\n",
       "    <tr>\n",
       "      <th>1</th>\n",
       "      <td>2019-01-01 00:00:44</td>\n",
       "      <td>630423337322</td>\n",
       "      <td>fraud_Heller, Gutmann and Zieme</td>\n",
       "      <td>grocery_pos</td>\n",
       "      <td>107.23</td>\n",
       "      <td>Stephanie</td>\n",
       "      <td>Gill</td>\n",
       "      <td>F</td>\n",
       "      <td>43039 Riley Greens Suite 393</td>\n",
       "      <td>Orient</td>\n",
       "      <td>...</td>\n",
       "      <td>99160</td>\n",
       "      <td>48.8878</td>\n",
       "      <td>-118.2105</td>\n",
       "      <td>149</td>\n",
       "      <td>Special educational needs teacher</td>\n",
       "      <td>1978-06-21</td>\n",
       "      <td>1f76529f8574734946361c461b024d99</td>\n",
       "      <td>1325376044</td>\n",
       "      <td>49.159047</td>\n",
       "      <td>-118.186462</td>\n",
       "    </tr>\n",
       "    <tr>\n",
       "      <th>2</th>\n",
       "      <td>2019-01-01 00:00:51</td>\n",
       "      <td>38859492057661</td>\n",
       "      <td>fraud_Lind-Buckridge</td>\n",
       "      <td>entertainment</td>\n",
       "      <td>220.11</td>\n",
       "      <td>Edward</td>\n",
       "      <td>Sanchez</td>\n",
       "      <td>M</td>\n",
       "      <td>594 White Dale Suite 530</td>\n",
       "      <td>Malad City</td>\n",
       "      <td>...</td>\n",
       "      <td>83252</td>\n",
       "      <td>42.1808</td>\n",
       "      <td>-112.2620</td>\n",
       "      <td>4154</td>\n",
       "      <td>Nature conservation officer</td>\n",
       "      <td>1962-01-19</td>\n",
       "      <td>a1a22d70485983eac12b5b88dad1cf95</td>\n",
       "      <td>1325376051</td>\n",
       "      <td>43.150704</td>\n",
       "      <td>-112.154481</td>\n",
       "    </tr>\n",
       "    <tr>\n",
       "      <th>3</th>\n",
       "      <td>2019-01-01 00:01:16</td>\n",
       "      <td>3534093764340240</td>\n",
       "      <td>fraud_Kutch, Hermiston and Farrell</td>\n",
       "      <td>gas_transport</td>\n",
       "      <td>45.00</td>\n",
       "      <td>Jeremy</td>\n",
       "      <td>White</td>\n",
       "      <td>M</td>\n",
       "      <td>9443 Cynthia Court Apt. 038</td>\n",
       "      <td>Boulder</td>\n",
       "      <td>...</td>\n",
       "      <td>59632</td>\n",
       "      <td>46.2306</td>\n",
       "      <td>-112.1138</td>\n",
       "      <td>1939</td>\n",
       "      <td>Patent attorney</td>\n",
       "      <td>1967-01-12</td>\n",
       "      <td>6b849c168bdad6f867558c3793159a81</td>\n",
       "      <td>1325376076</td>\n",
       "      <td>47.034331</td>\n",
       "      <td>-112.561071</td>\n",
       "    </tr>\n",
       "    <tr>\n",
       "      <th>4</th>\n",
       "      <td>2019-01-01 00:03:06</td>\n",
       "      <td>375534208663984</td>\n",
       "      <td>fraud_Keeling-Crist</td>\n",
       "      <td>misc_pos</td>\n",
       "      <td>41.96</td>\n",
       "      <td>Tyler</td>\n",
       "      <td>Garcia</td>\n",
       "      <td>M</td>\n",
       "      <td>408 Bradley Rest</td>\n",
       "      <td>Doe Hill</td>\n",
       "      <td>...</td>\n",
       "      <td>24433</td>\n",
       "      <td>38.4207</td>\n",
       "      <td>-79.4629</td>\n",
       "      <td>99</td>\n",
       "      <td>Dance movement psychotherapist</td>\n",
       "      <td>1986-03-28</td>\n",
       "      <td>a41d7549acf90789359a9aa5346dcb46</td>\n",
       "      <td>1325376186</td>\n",
       "      <td>38.674999</td>\n",
       "      <td>-78.632459</td>\n",
       "    </tr>\n",
       "  </tbody>\n",
       "</table>\n",
       "<p>5 rows × 21 columns</p>\n",
       "</div>"
      ],
      "text/plain": [
       "  trans_date_trans_time            cc_num                            merchant  \\\n",
       "0   2019-01-01 00:00:18  2703186189652095          fraud_Rippin, Kub and Mann   \n",
       "1   2019-01-01 00:00:44      630423337322     fraud_Heller, Gutmann and Zieme   \n",
       "2   2019-01-01 00:00:51    38859492057661                fraud_Lind-Buckridge   \n",
       "3   2019-01-01 00:01:16  3534093764340240  fraud_Kutch, Hermiston and Farrell   \n",
       "4   2019-01-01 00:03:06   375534208663984                 fraud_Keeling-Crist   \n",
       "\n",
       "        category     amt      first     last gender  \\\n",
       "0       misc_net    4.97   Jennifer    Banks      F   \n",
       "1    grocery_pos  107.23  Stephanie     Gill      F   \n",
       "2  entertainment  220.11     Edward  Sanchez      M   \n",
       "3  gas_transport   45.00     Jeremy    White      M   \n",
       "4       misc_pos   41.96      Tyler   Garcia      M   \n",
       "\n",
       "                         street            city  ...    zip      lat  \\\n",
       "0                561 Perry Cove  Moravian Falls  ...  28654  36.0788   \n",
       "1  43039 Riley Greens Suite 393          Orient  ...  99160  48.8878   \n",
       "2      594 White Dale Suite 530      Malad City  ...  83252  42.1808   \n",
       "3   9443 Cynthia Court Apt. 038         Boulder  ...  59632  46.2306   \n",
       "4              408 Bradley Rest        Doe Hill  ...  24433  38.4207   \n",
       "\n",
       "       long  city_pop                                job         dob  \\\n",
       "0  -81.1781      3495          Psychologist, counselling  1988-03-09   \n",
       "1 -118.2105       149  Special educational needs teacher  1978-06-21   \n",
       "2 -112.2620      4154        Nature conservation officer  1962-01-19   \n",
       "3 -112.1138      1939                    Patent attorney  1967-01-12   \n",
       "4  -79.4629        99     Dance movement psychotherapist  1986-03-28   \n",
       "\n",
       "                          trans_num   unix_time  merch_lat  merch_long  \n",
       "0  0b242abb623afc578575680df30655b9  1325376018  36.011293  -82.048315  \n",
       "1  1f76529f8574734946361c461b024d99  1325376044  49.159047 -118.186462  \n",
       "2  a1a22d70485983eac12b5b88dad1cf95  1325376051  43.150704 -112.154481  \n",
       "3  6b849c168bdad6f867558c3793159a81  1325376076  47.034331 -112.561071  \n",
       "4  a41d7549acf90789359a9aa5346dcb46  1325376186  38.674999  -78.632459  \n",
       "\n",
       "[5 rows x 21 columns]"
      ]
     },
     "execution_count": 2,
     "metadata": {},
     "output_type": "execute_result"
    }
   ],
   "source": [
    "N = 500 * 10**3\n",
    "\n",
    "x_train = pd.read_csv('fraudTrain.csv', index_col=0)\n",
    "y_train = x_train['is_fraud']\n",
    "x_train.drop(columns=['is_fraud'], inplace=True)\n",
    "\n",
    "x_test = pd.read_csv('fraudTest.csv', index_col=0)\n",
    "y_test = x_test['is_fraud']\n",
    "x_test.drop(columns=['is_fraud'], inplace=True)\n",
    "x_train.head()"
   ]
  },
  {
   "cell_type": "code",
   "execution_count": 3,
   "metadata": {
    "collapsed": false,
    "jupyter": {
     "outputs_hidden": false
    },
    "pycharm": {
     "name": "#%%\n"
    }
   },
   "outputs": [],
   "source": [
    "categorical = x_train.dtypes == object\n",
    "x_train.loc[:, categorical] = x_train.loc[:, categorical].apply(lambda x: x.astype('category'))\n",
    "x_test.loc[:, categorical] = x_test.loc[:, categorical].apply(lambda x: x.astype('category'))"
   ]
  },
  {
   "cell_type": "code",
   "execution_count": 4,
   "metadata": {
    "collapsed": false,
    "jupyter": {
     "outputs_hidden": false
    },
    "pycharm": {
     "name": "#%%\n"
    }
   },
   "outputs": [
    {
     "name": "stdout",
     "output_type": "stream",
     "text": [
      "<class 'pandas.core.frame.DataFrame'>\n",
      "Int64Index: 1296675 entries, 0 to 1296674\n",
      "Data columns (total 21 columns):\n",
      " #   Column                 Non-Null Count    Dtype   \n",
      "---  ------                 --------------    -----   \n",
      " 0   trans_date_trans_time  1296675 non-null  category\n",
      " 1   cc_num                 1296675 non-null  int64   \n",
      " 2   merchant               1296675 non-null  category\n",
      " 3   category               1296675 non-null  category\n",
      " 4   amt                    1296675 non-null  float64 \n",
      " 5   first                  1296675 non-null  category\n",
      " 6   last                   1296675 non-null  category\n",
      " 7   gender                 1296675 non-null  category\n",
      " 8   street                 1296675 non-null  category\n",
      " 9   city                   1296675 non-null  category\n",
      " 10  state                  1296675 non-null  category\n",
      " 11  zip                    1296675 non-null  int64   \n",
      " 12  lat                    1296675 non-null  float64 \n",
      " 13  long                   1296675 non-null  float64 \n",
      " 14  city_pop               1296675 non-null  int64   \n",
      " 15  job                    1296675 non-null  category\n",
      " 16  dob                    1296675 non-null  category\n",
      " 17  trans_num              1296675 non-null  category\n",
      " 18  unix_time              1296675 non-null  int64   \n",
      " 19  merch_lat              1296675 non-null  float64 \n",
      " 20  merch_long             1296675 non-null  float64 \n",
      "dtypes: category(12), float64(5), int64(4)\n",
      "memory usage: 214.2 MB\n"
     ]
    }
   ],
   "source": [
    "x_train.info()"
   ]
  },
  {
   "cell_type": "markdown",
   "metadata": {},
   "source": [
    "Now, let's visualize the data, in order to detect leaky/relevant features."
   ]
  },
  {
   "cell_type": "code",
   "execution_count": 5,
   "metadata": {
    "collapsed": false,
    "jupyter": {
     "outputs_hidden": false
    },
    "pycharm": {
     "name": "#%%\n"
    }
   },
   "outputs": [
    {
     "data": {
      "image/png": "[encoded data removed]",
      "text/plain": [
       "<Figure size 1512x720 with 9 Axes>"
      ]
     },
     "metadata": {
      "needs_background": "light"
     },
     "output_type": "display_data"
    }
   ],
   "source": [
    "fig, axes = plt.subplots(3, 3, figsize=(21,10))\n",
    "cols = x_train.columns\n",
    "i = 0\n",
    "for c in cols:\n",
    "    if x_train.dtypes[c] == 'int64':\n",
    "        axes[i//3,i%3].hist(x_train.loc[x_train[c].isna() == False,c].to_numpy())\n",
    "        axes[i//3,i%3].set_xlabel(c)\n",
    "        axes[i//3,i%3].set_ylabel('counts')\n",
    "        i += 1\n",
    "    elif x_train.dtypes[c] == 'float64':\n",
    "        sns.histplot(data=x_train, x=c, discrete=False, ax=axes[i//3,i%3], kde=True, stat='density')\n",
    "        i+=1\n",
    "\n",
    "plt.show()"
   ]
  },
  {
   "cell_type": "code",
   "execution_count": 6,
   "metadata": {
    "collapsed": false,
    "jupyter": {
     "outputs_hidden": false
    },
    "pycharm": {
     "name": "#%%\n"
    }
   },
   "outputs": [
    {
     "data": {
      "image/png": "[encoded data removed]",
      "text/plain": [
       "<Figure size 2160x1440 with 9 Axes>"
      ]
     },
     "metadata": {},
     "output_type": "display_data"
    }
   ],
   "source": [
    "plt.style.use('ggplot')\n",
    "temp_df = x_train.copy()\n",
    "temp_df['is_fraud'] = y_train.copy()\n",
    "corr = temp_df.corr()\n",
    "\n",
    "fig, axes = plt.subplots(3, 3, figsize=(30,20), sharey=True)\n",
    "i = 0\n",
    "for c in cols:\n",
    "    if x_train.dtypes[c] == 'int64' or x_train.dtypes[c] == 'float64':\n",
    "        axes[i//3,i%3].set_title(f'corr = {corr.loc[c, \"is_fraud\"]}')\n",
    "        sns.scatterplot(x=c, y=\"is_fraud\", data=temp_df, ax=axes[i//3,i%3])\n",
    "        i += 1\n",
    "\n",
    "plt.show()\n",
    "fig = axes = None"
   ]
  },
  {
   "cell_type": "code",
   "execution_count": 7,
   "metadata": {
    "collapsed": false,
    "jupyter": {
     "outputs_hidden": false
    },
    "pycharm": {
     "name": "#%%\n"
    }
   },
   "outputs": [
    {
     "data": {
      "image/png": "[encoded data removed]",
      "text/plain": [
       "<Figure size 720x720 with 2 Axes>"
      ]
     },
     "metadata": {},
     "output_type": "display_data"
    }
   ],
   "source": [
    "plt.figure(figsize=(10, 10))\n",
    "plt.title('Correlation of Numeric Features',y=1,size=16)\n",
    "sns.heatmap(corr, vmax=1, ax=plt.gca())\n",
    "plt.show()"
   ]
  },
  {
   "cell_type": "markdown",
   "metadata": {},
   "source": [
    "It is clear that the _long_ feature is very problematic in terms of statistical dependency with other features, as it is highly correlated with the _zip_ and _merch_long_ features. As for the _lat_ feature, which is highly correlated with _merch_lat_. \n",
    "Hence, we'd like to give up on these features."
   ]
  },
  {
   "cell_type": "code",
   "execution_count": 8,
   "metadata": {
    "collapsed": false,
    "jupyter": {
     "outputs_hidden": false
    },
    "pycharm": {
     "name": "#%%\n"
    }
   },
   "outputs": [],
   "source": [
    "cols = x_train.columns\n",
    "x_train.drop(columns=['long', 'lat'], inplace=True)\n",
    "x_test.drop(columns=['long', 'lat'], inplace=True)\n",
    "cols = cols.drop(['long', 'lat'])\n",
    "temp_df = None"
   ]
  },
  {
   "cell_type": "code",
   "execution_count": 9,
   "metadata": {
    "collapsed": false,
    "jupyter": {
     "outputs_hidden": false
    },
    "pycharm": {
     "name": "#%%\n"
    }
   },
   "outputs": [],
   "source": [
    "x_train['zip'] = x_train['zip'].astype('category')\n",
    "x_test['zip'] = x_test['zip'].astype('category')\n",
    "categorical = x_train.dtypes == 'category'"
   ]
  },
  {
   "cell_type": "markdown",
   "metadata": {
    "pycharm": {
     "name": "#%% md\n"
    }
   },
   "source": [
    "Let's try to find the important features:"
   ]
  },
  {
   "cell_type": "code",
   "execution_count": 12,
   "metadata": {
    "collapsed": false,
    "jupyter": {
     "outputs_hidden": false
    },
    "pycharm": {
     "name": "#%%\n"
    }
   },
   "outputs": [],
   "source": [
    "from sklearn.feature_selection import chi2, mutual_info_classif, SelectKBest"
   ]
  },
  {
   "cell_type": "code",
   "execution_count": 20,
   "metadata": {
    "collapsed": false,
    "jupyter": {
     "outputs_hidden": false
    },
    "pycharm": {
     "name": "#%%capture\n"
    }
   },
   "outputs": [],
   "source": [
    "tx_train: pd.DataFrame = x_train.copy()[:N] # N = 500K\n",
    "ty_train = y_train.copy()[:N]\n",
    "#tx_train.loc[:, categorical] =  tx_train.loc[:, categorical].apply(lambda x: x.cat.codes)"
   ]
  },
  {
   "cell_type": "code",
   "execution_count": 29,
   "metadata": {
    "collapsed": false,
    "jupyter": {
     "outputs_hidden": false
    },
    "pycharm": {
     "name": "#%%\n"
    }
   },
   "outputs": [],
   "source": [
    "temp_df = tx_train.loc[:, categorical].copy().apply(lambda x: x.cat.codes)\n",
    "scores = SelectKBest(chi2, k='all')\n",
    "scores.fit(temp_df, ty_train)\n",
    "temp_df = None"
   ]
  },
  {
   "cell_type": "code",
   "execution_count": 33,
   "metadata": {
    "collapsed": false,
    "jupyter": {
     "outputs_hidden": false
    },
    "pycharm": {
     "name": "#%%\n"
    }
   },
   "outputs": [
    {
     "data": {
      "text/html": [
       "<div>\n",
       "<style scoped>\n",
       "    .dataframe tbody tr th:only-of-type {\n",
       "        vertical-align: middle;\n",
       "    }\n",
       "\n",
       "    .dataframe tbody tr th {\n",
       "        vertical-align: top;\n",
       "    }\n",
       "\n",
       "    .dataframe thead th {\n",
       "        text-align: right;\n",
       "    }\n",
       "</style>\n",
       "<table border=\"1\" class=\"dataframe\">\n",
       "  <thead>\n",
       "    <tr style=\"text-align: right;\">\n",
       "      <th></th>\n",
       "      <th>column</th>\n",
       "      <th>$\\chi^2$</th>\n",
       "    </tr>\n",
       "  </thead>\n",
       "  <tbody>\n",
       "    <tr>\n",
       "      <th>0</th>\n",
       "      <td>trans_date_trans_time</td>\n",
       "      <td>-4.665765e+10</td>\n",
       "    </tr>\n",
       "    <tr>\n",
       "      <th>1</th>\n",
       "      <td>merchant</td>\n",
       "      <td>4.911753e+02</td>\n",
       "    </tr>\n",
       "    <tr>\n",
       "      <th>2</th>\n",
       "      <td>category</td>\n",
       "      <td>5.009941e+02</td>\n",
       "    </tr>\n",
       "    <tr>\n",
       "      <th>3</th>\n",
       "      <td>first</td>\n",
       "      <td>1.172499e+03</td>\n",
       "    </tr>\n",
       "    <tr>\n",
       "      <th>4</th>\n",
       "      <td>last</td>\n",
       "      <td>8.120486e+01</td>\n",
       "    </tr>\n",
       "    <tr>\n",
       "      <th>5</th>\n",
       "      <td>gender</td>\n",
       "      <td>2.761882e+00</td>\n",
       "    </tr>\n",
       "    <tr>\n",
       "      <th>6</th>\n",
       "      <td>street</td>\n",
       "      <td>2.031113e+02</td>\n",
       "    </tr>\n",
       "    <tr>\n",
       "      <th>7</th>\n",
       "      <td>city</td>\n",
       "      <td>6.286474e+02</td>\n",
       "    </tr>\n",
       "    <tr>\n",
       "      <th>8</th>\n",
       "      <td>state</td>\n",
       "      <td>7.543995e+01</td>\n",
       "    </tr>\n",
       "    <tr>\n",
       "      <th>9</th>\n",
       "      <td>zip</td>\n",
       "      <td>1.151671e+03</td>\n",
       "    </tr>\n",
       "    <tr>\n",
       "      <th>10</th>\n",
       "      <td>job</td>\n",
       "      <td>4.279970e+01</td>\n",
       "    </tr>\n",
       "    <tr>\n",
       "      <th>11</th>\n",
       "      <td>dob</td>\n",
       "      <td>5.445139e+03</td>\n",
       "    </tr>\n",
       "    <tr>\n",
       "      <th>12</th>\n",
       "      <td>trans_num</td>\n",
       "      <td>-3.238088e+11</td>\n",
       "    </tr>\n",
       "  </tbody>\n",
       "</table>\n",
       "</div>"
      ],
      "text/plain": [
       "                   column      $\\chi^2$\n",
       "0   trans_date_trans_time -4.665765e+10\n",
       "1                merchant  4.911753e+02\n",
       "2                category  5.009941e+02\n",
       "3                   first  1.172499e+03\n",
       "4                    last  8.120486e+01\n",
       "5                  gender  2.761882e+00\n",
       "6                  street  2.031113e+02\n",
       "7                    city  6.286474e+02\n",
       "8                   state  7.543995e+01\n",
       "9                     zip  1.151671e+03\n",
       "10                    job  4.279970e+01\n",
       "11                    dob  5.445139e+03\n",
       "12              trans_num -3.238088e+11"
      ]
     },
     "execution_count": 33,
     "metadata": {},
     "output_type": "execute_result"
    }
   ],
   "source": [
    "temp_df = pd.DataFrame()\n",
    "temp_df['column'] = cols[categorical]\n",
    "temp_df['$\\chi^2$'] = scores.scores_\n",
    "temp_df"
   ]
  },
  {
   "cell_type": "code",
   "execution_count": 35,
   "metadata": {
    "collapsed": false,
    "jupyter": {
     "outputs_hidden": false
    },
    "pycharm": {
     "name": "#%%\n"
    }
   },
   "outputs": [
    {
     "data": {
      "text/html": [
       "<div>\n",
       "<style scoped>\n",
       "    .dataframe tbody tr th:only-of-type {\n",
       "        vertical-align: middle;\n",
       "    }\n",
       "\n",
       "    .dataframe tbody tr th {\n",
       "        vertical-align: top;\n",
       "    }\n",
       "\n",
       "    .dataframe thead th {\n",
       "        text-align: right;\n",
       "    }\n",
       "</style>\n",
       "<table border=\"1\" class=\"dataframe\">\n",
       "  <thead>\n",
       "    <tr style=\"text-align: right;\">\n",
       "      <th></th>\n",
       "      <th>column</th>\n",
       "      <th>MI</th>\n",
       "    </tr>\n",
       "  </thead>\n",
       "  <tbody>\n",
       "    <tr>\n",
       "      <th>0</th>\n",
       "      <td>trans_date_trans_time</td>\n",
       "      <td>0.007064</td>\n",
       "    </tr>\n",
       "    <tr>\n",
       "      <th>1</th>\n",
       "      <td>cc_num</td>\n",
       "      <td>0.009756</td>\n",
       "    </tr>\n",
       "    <tr>\n",
       "      <th>2</th>\n",
       "      <td>merchant</td>\n",
       "      <td>0.002821</td>\n",
       "    </tr>\n",
       "    <tr>\n",
       "      <th>3</th>\n",
       "      <td>category</td>\n",
       "      <td>0.010514</td>\n",
       "    </tr>\n",
       "    <tr>\n",
       "      <th>4</th>\n",
       "      <td>amt</td>\n",
       "      <td>0.018030</td>\n",
       "    </tr>\n",
       "    <tr>\n",
       "      <th>5</th>\n",
       "      <td>first</td>\n",
       "      <td>0.004339</td>\n",
       "    </tr>\n",
       "    <tr>\n",
       "      <th>6</th>\n",
       "      <td>last</td>\n",
       "      <td>0.005106</td>\n",
       "    </tr>\n",
       "    <tr>\n",
       "      <th>7</th>\n",
       "      <td>gender</td>\n",
       "      <td>0.025145</td>\n",
       "    </tr>\n",
       "    <tr>\n",
       "      <th>8</th>\n",
       "      <td>street</td>\n",
       "      <td>0.010155</td>\n",
       "    </tr>\n",
       "    <tr>\n",
       "      <th>9</th>\n",
       "      <td>city</td>\n",
       "      <td>0.009248</td>\n",
       "    </tr>\n",
       "    <tr>\n",
       "      <th>10</th>\n",
       "      <td>state</td>\n",
       "      <td>0.004573</td>\n",
       "    </tr>\n",
       "    <tr>\n",
       "      <th>11</th>\n",
       "      <td>zip</td>\n",
       "      <td>0.010108</td>\n",
       "    </tr>\n",
       "    <tr>\n",
       "      <th>12</th>\n",
       "      <td>city_pop</td>\n",
       "      <td>0.009091</td>\n",
       "    </tr>\n",
       "    <tr>\n",
       "      <th>13</th>\n",
       "      <td>job</td>\n",
       "      <td>0.005362</td>\n",
       "    </tr>\n",
       "    <tr>\n",
       "      <th>14</th>\n",
       "      <td>dob</td>\n",
       "      <td>0.010212</td>\n",
       "    </tr>\n",
       "    <tr>\n",
       "      <th>15</th>\n",
       "      <td>trans_num</td>\n",
       "      <td>0.000000</td>\n",
       "    </tr>\n",
       "    <tr>\n",
       "      <th>16</th>\n",
       "      <td>unix_time</td>\n",
       "      <td>0.007094</td>\n",
       "    </tr>\n",
       "    <tr>\n",
       "      <th>17</th>\n",
       "      <td>merch_lat</td>\n",
       "      <td>0.000359</td>\n",
       "    </tr>\n",
       "    <tr>\n",
       "      <th>18</th>\n",
       "      <td>merch_long</td>\n",
       "      <td>0.000269</td>\n",
       "    </tr>\n",
       "  </tbody>\n",
       "</table>\n",
       "</div>"
      ],
      "text/plain": [
       "                   column        MI\n",
       "0   trans_date_trans_time  0.007064\n",
       "1                  cc_num  0.009756\n",
       "2                merchant  0.002821\n",
       "3                category  0.010514\n",
       "4                     amt  0.018030\n",
       "5                   first  0.004339\n",
       "6                    last  0.005106\n",
       "7                  gender  0.025145\n",
       "8                  street  0.010155\n",
       "9                    city  0.009248\n",
       "10                  state  0.004573\n",
       "11                    zip  0.010108\n",
       "12               city_pop  0.009091\n",
       "13                    job  0.005362\n",
       "14                    dob  0.010212\n",
       "15              trans_num  0.000000\n",
       "16              unix_time  0.007094\n",
       "17              merch_lat  0.000359\n",
       "18             merch_long  0.000269"
      ]
     },
     "execution_count": 35,
     "metadata": {},
     "output_type": "execute_result"
    }
   ],
   "source": [
    "scores = SelectKBest(mutual_info_classif, k='all')\n",
    "temp_df = tx_train.copy()\n",
    "temp_df.loc[:, categorical] = temp_df.loc[:, categorical].apply(lambda x: x.cat.codes)\n",
    "scores.fit(temp_df, ty_train)\n",
    "temp_df = pd.DataFrame()\n",
    "temp_df['column'] = cols\n",
    "temp_df['MI'] = scores.scores_\n",
    "temp_df"
   ]
  },
  {
   "cell_type": "markdown",
   "metadata": {
    "pycharm": {
     "name": "#%% md\n"
    }
   },
   "source": [
    "Based on the results, it is safe to say that _trans_num_ holds no information regarding the target value, therefore, it is a redundant feature.\n",
    "As for the others, we'll have to figure out whether those are leaky or informative features."
   ]
  },
  {
   "cell_type": "code",
   "execution_count": 41,
   "metadata": {
    "collapsed": false,
    "jupyter": {
     "outputs_hidden": false
    },
    "pycharm": {
     "name": "#%%\n"
    }
   },
   "outputs": [],
   "source": [
    "x_train.drop(columns=['trans_num'], inplace=True)\n",
    "x_test.drop(columns=['trans_num'], inplace=True)\n",
    "cols = cols.drop(['trans_num'])\n",
    "temp_df = None\n",
    "categorical = x_train.dtypes == 'category'"
   ]
  },
  {
   "cell_type": "code",
   "execution_count": 45,
   "metadata": {
    "collapsed": false,
    "jupyter": {
     "outputs_hidden": false
    },
    "pycharm": {
     "name": "#%%\n"
    }
   },
   "outputs": [],
   "source": [
    "tx_train = ty_train = None"
   ]
  },
  {
   "cell_type": "markdown",
   "metadata": {
    "pycharm": {
     "name": "#%% md\n"
    }
   },
   "source": [
    "We'll now take a look on the numeric data's distributions/stats, as this might help us to detect leaky/important features."
   ]
  },
  {
   "cell_type": "code",
   "execution_count": 68,
   "metadata": {
    "collapsed": false,
    "jupyter": {
     "outputs_hidden": false
    },
    "pycharm": {
     "name": "#%%\n"
    }
   },
   "outputs": [
    {
     "data": {
      "text/html": [
       "<div>\n",
       "<style scoped>\n",
       "    .dataframe tbody tr th:only-of-type {\n",
       "        vertical-align: middle;\n",
       "    }\n",
       "\n",
       "    .dataframe tbody tr th {\n",
       "        vertical-align: top;\n",
       "    }\n",
       "\n",
       "    .dataframe thead th {\n",
       "        text-align: right;\n",
       "    }\n",
       "</style>\n",
       "<table border=\"1\" class=\"dataframe\">\n",
       "  <thead>\n",
       "    <tr style=\"text-align: right;\">\n",
       "      <th></th>\n",
       "      <th>cc_num</th>\n",
       "      <th>amt</th>\n",
       "      <th>city_pop</th>\n",
       "      <th>unix_time</th>\n",
       "      <th>merch_lat</th>\n",
       "      <th>merch_long</th>\n",
       "    </tr>\n",
       "  </thead>\n",
       "  <tbody>\n",
       "    <tr>\n",
       "      <th>0</th>\n",
       "      <td>2703186189652095</td>\n",
       "      <td>4.97</td>\n",
       "      <td>3495</td>\n",
       "      <td>1325376018</td>\n",
       "      <td>36.011293</td>\n",
       "      <td>-82.048315</td>\n",
       "    </tr>\n",
       "    <tr>\n",
       "      <th>1</th>\n",
       "      <td>630423337322</td>\n",
       "      <td>107.23</td>\n",
       "      <td>149</td>\n",
       "      <td>1325376044</td>\n",
       "      <td>49.159047</td>\n",
       "      <td>-118.186462</td>\n",
       "    </tr>\n",
       "    <tr>\n",
       "      <th>2</th>\n",
       "      <td>38859492057661</td>\n",
       "      <td>220.11</td>\n",
       "      <td>4154</td>\n",
       "      <td>1325376051</td>\n",
       "      <td>43.150704</td>\n",
       "      <td>-112.154481</td>\n",
       "    </tr>\n",
       "    <tr>\n",
       "      <th>3</th>\n",
       "      <td>3534093764340240</td>\n",
       "      <td>45.00</td>\n",
       "      <td>1939</td>\n",
       "      <td>1325376076</td>\n",
       "      <td>47.034331</td>\n",
       "      <td>-112.561071</td>\n",
       "    </tr>\n",
       "    <tr>\n",
       "      <th>4</th>\n",
       "      <td>375534208663984</td>\n",
       "      <td>41.96</td>\n",
       "      <td>99</td>\n",
       "      <td>1325376186</td>\n",
       "      <td>38.674999</td>\n",
       "      <td>-78.632459</td>\n",
       "    </tr>\n",
       "  </tbody>\n",
       "</table>\n",
       "</div>"
      ],
      "text/plain": [
       "             cc_num     amt  city_pop   unix_time  merch_lat  merch_long\n",
       "0  2703186189652095    4.97      3495  1325376018  36.011293  -82.048315\n",
       "1      630423337322  107.23       149  1325376044  49.159047 -118.186462\n",
       "2    38859492057661  220.11      4154  1325376051  43.150704 -112.154481\n",
       "3  3534093764340240   45.00      1939  1325376076  47.034331 -112.561071\n",
       "4   375534208663984   41.96        99  1325376186  38.674999  -78.632459"
      ]
     },
     "execution_count": 68,
     "metadata": {},
     "output_type": "execute_result"
    }
   ],
   "source": [
    "from scipy import stats\n",
    "temp_df = x_train.loc[:, ~categorical].copy()\n",
    "is_fraud = y_train == 1\n",
    "temp_df.head()"
   ]
  },
  {
   "cell_type": "code",
   "execution_count": 66,
   "metadata": {
    "collapsed": false,
    "jupyter": {
     "outputs_hidden": false
    },
    "pycharm": {
     "name": "#%%\n"
    }
   },
   "outputs": [
    {
     "data": {
      "image/png": "[encoded data removed]",
      "text/plain": [
       "<Figure size 432x288 with 1 Axes>"
      ]
     },
     "metadata": {},
     "output_type": "display_data"
    }
   ],
   "source": [
    "dens = stats.kde.gaussian_kde(temp_df.loc[~is_fraud]['amt'])\n",
    "x = np.arange(-100, 100, 0.1)\n",
    "plt.plot(x, dens(x), label='Not Fraud')\n",
    "dens = stats.kde.gaussian_kde(temp_df.loc[is_fraud]['amt'])\n",
    "plt.plot(x, dens(x), label='Fraud')\n",
    "plt.title('amt')\n",
    "plt.legend()\n",
    "plt.show()"
   ]
  },
  {
   "cell_type": "code",
   "execution_count": 69,
   "metadata": {
    "collapsed": false,
    "jupyter": {
     "outputs_hidden": false
    },
    "pycharm": {
     "name": "#%%\n"
    }
   },
   "outputs": [
    {
     "data": {
      "image/png": "[encoded data removed]",
      "text/plain": [
       "<Figure size 432x288 with 1 Axes>"
      ]
     },
     "metadata": {},
     "output_type": "display_data"
    }
   ],
   "source": [
    "dens = stats.kde.gaussian_kde(temp_df.loc[~is_fraud]['merch_lat'])\n",
    "x = np.arange(-100, 100, 0.1)\n",
    "plt.plot(x, dens(x), label='Not Fraud')\n",
    "dens = stats.kde.gaussian_kde(temp_df.loc[is_fraud]['merch_lat'])\n",
    "plt.plot(x, dens(x), label='Fraud')\n",
    "plt.title('merch_lat')\n",
    "plt.legend()\n",
    "plt.show()"
   ]
  },
  {
   "cell_type": "code",
   "execution_count": 71,
   "metadata": {
    "collapsed": false,
    "jupyter": {
     "outputs_hidden": false
    },
    "pycharm": {
     "name": "#%%\n"
    }
   },
   "outputs": [
    {
     "data": {
      "image/png": "[encoded data removed]",
      "text/plain": [
       "<Figure size 432x288 with 1 Axes>"
      ]
     },
     "metadata": {},
     "output_type": "display_data"
    }
   ],
   "source": [
    "dens = stats.kde.gaussian_kde(temp_df.loc[~is_fraud]['merch_long'])\n",
    "x = np.arange(-200, -50, 0.1)\n",
    "plt.plot(x, dens(x), label='Not Fraud')\n",
    "dens = stats.kde.gaussian_kde(temp_df.loc[is_fraud]['merch_long'])\n",
    "plt.plot(x, dens(x), label='Fraud')\n",
    "plt.title('merch_long')\n",
    "plt.legend()\n",
    "plt.show()\n",
    "dens = x = None\n"
   ]
  },
  {
   "cell_type": "code",
   "execution_count": 73,
   "metadata": {
    "collapsed": false,
    "jupyter": {
     "outputs_hidden": false
    },
    "pycharm": {
     "name": "#%%\n"
    }
   },
   "outputs": [
    {
     "data": {
      "text/html": [
       "<div>\n",
       "<style scoped>\n",
       "    .dataframe tbody tr th:only-of-type {\n",
       "        vertical-align: middle;\n",
       "    }\n",
       "\n",
       "    .dataframe tbody tr th {\n",
       "        vertical-align: top;\n",
       "    }\n",
       "\n",
       "    .dataframe thead th {\n",
       "        text-align: right;\n",
       "    }\n",
       "</style>\n",
       "<table border=\"1\" class=\"dataframe\">\n",
       "  <thead>\n",
       "    <tr style=\"text-align: right;\">\n",
       "      <th></th>\n",
       "      <th>cc_num</th>\n",
       "      <th>cc_num</th>\n",
       "    </tr>\n",
       "  </thead>\n",
       "  <tbody>\n",
       "    <tr>\n",
       "      <th>count</th>\n",
       "      <td>1.289169e+06</td>\n",
       "      <td>7.506000e+03</td>\n",
       "    </tr>\n",
       "    <tr>\n",
       "      <th>mean</th>\n",
       "      <td>4.172901e+17</td>\n",
       "      <td>4.003577e+17</td>\n",
       "    </tr>\n",
       "    <tr>\n",
       "      <th>std</th>\n",
       "      <td>1.308990e+18</td>\n",
       "      <td>1.276871e+18</td>\n",
       "    </tr>\n",
       "    <tr>\n",
       "      <th>min</th>\n",
       "      <td>6.041621e+10</td>\n",
       "      <td>6.041621e+10</td>\n",
       "    </tr>\n",
       "    <tr>\n",
       "      <th>25%</th>\n",
       "      <td>1.800429e+14</td>\n",
       "      <td>1.800429e+14</td>\n",
       "    </tr>\n",
       "    <tr>\n",
       "      <th>50%</th>\n",
       "      <td>3.521417e+15</td>\n",
       "      <td>3.528041e+15</td>\n",
       "    </tr>\n",
       "    <tr>\n",
       "      <th>75%</th>\n",
       "      <td>4.642255e+15</td>\n",
       "      <td>4.651007e+15</td>\n",
       "    </tr>\n",
       "    <tr>\n",
       "      <th>max</th>\n",
       "      <td>4.992346e+18</td>\n",
       "      <td>4.992346e+18</td>\n",
       "    </tr>\n",
       "  </tbody>\n",
       "</table>\n",
       "</div>"
      ],
      "text/plain": [
       "             cc_num        cc_num\n",
       "count  1.289169e+06  7.506000e+03\n",
       "mean   4.172901e+17  4.003577e+17\n",
       "std    1.308990e+18  1.276871e+18\n",
       "min    6.041621e+10  6.041621e+10\n",
       "25%    1.800429e+14  1.800429e+14\n",
       "50%    3.521417e+15  3.528041e+15\n",
       "75%    4.642255e+15  4.651007e+15\n",
       "max    4.992346e+18  4.992346e+18"
      ]
     },
     "execution_count": 73,
     "metadata": {},
     "output_type": "execute_result"
    }
   ],
   "source": [
    "pd.concat([temp_df.loc[~is_fraud]['cc_num'].describe(), temp_df.loc[is_fraud]['cc_num'].describe()], axis=1)"
   ]
  },
  {
   "cell_type": "code",
   "execution_count": 74,
   "metadata": {
    "collapsed": false,
    "jupyter": {
     "outputs_hidden": false
    },
    "pycharm": {
     "name": "#%%\n"
    }
   },
   "outputs": [
    {
     "data": {
      "text/html": [
       "<div>\n",
       "<style scoped>\n",
       "    .dataframe tbody tr th:only-of-type {\n",
       "        vertical-align: middle;\n",
       "    }\n",
       "\n",
       "    .dataframe tbody tr th {\n",
       "        vertical-align: top;\n",
       "    }\n",
       "\n",
       "    .dataframe thead th {\n",
       "        text-align: right;\n",
       "    }\n",
       "</style>\n",
       "<table border=\"1\" class=\"dataframe\">\n",
       "  <thead>\n",
       "    <tr style=\"text-align: right;\">\n",
       "      <th></th>\n",
       "      <th>city_pop</th>\n",
       "      <th>city_pop</th>\n",
       "    </tr>\n",
       "  </thead>\n",
       "  <tbody>\n",
       "    <tr>\n",
       "      <th>count</th>\n",
       "      <td>1.289169e+06</td>\n",
       "      <td>7.506000e+03</td>\n",
       "    </tr>\n",
       "    <tr>\n",
       "      <th>mean</th>\n",
       "      <td>8.877523e+04</td>\n",
       "      <td>9.727676e+04</td>\n",
       "    </tr>\n",
       "    <tr>\n",
       "      <th>std</th>\n",
       "      <td>3.018065e+05</td>\n",
       "      <td>3.265815e+05</td>\n",
       "    </tr>\n",
       "    <tr>\n",
       "      <th>min</th>\n",
       "      <td>2.300000e+01</td>\n",
       "      <td>2.300000e+01</td>\n",
       "    </tr>\n",
       "    <tr>\n",
       "      <th>25%</th>\n",
       "      <td>7.430000e+02</td>\n",
       "      <td>7.465000e+02</td>\n",
       "    </tr>\n",
       "    <tr>\n",
       "      <th>50%</th>\n",
       "      <td>2.456000e+03</td>\n",
       "      <td>2.623000e+03</td>\n",
       "    </tr>\n",
       "    <tr>\n",
       "      <th>75%</th>\n",
       "      <td>2.032800e+04</td>\n",
       "      <td>2.143700e+04</td>\n",
       "    </tr>\n",
       "    <tr>\n",
       "      <th>max</th>\n",
       "      <td>2.906700e+06</td>\n",
       "      <td>2.906700e+06</td>\n",
       "    </tr>\n",
       "  </tbody>\n",
       "</table>\n",
       "</div>"
      ],
      "text/plain": [
       "           city_pop      city_pop\n",
       "count  1.289169e+06  7.506000e+03\n",
       "mean   8.877523e+04  9.727676e+04\n",
       "std    3.018065e+05  3.265815e+05\n",
       "min    2.300000e+01  2.300000e+01\n",
       "25%    7.430000e+02  7.465000e+02\n",
       "50%    2.456000e+03  2.623000e+03\n",
       "75%    2.032800e+04  2.143700e+04\n",
       "max    2.906700e+06  2.906700e+06"
      ]
     },
     "execution_count": 74,
     "metadata": {},
     "output_type": "execute_result"
    }
   ],
   "source": [
    "pd.concat([temp_df.loc[~is_fraud]['city_pop'].describe(), temp_df.loc[is_fraud]['city_pop'].describe()], axis=1)\n"
   ]
  },
  {
   "cell_type": "code",
   "execution_count": 75,
   "metadata": {
    "collapsed": false,
    "jupyter": {
     "outputs_hidden": false
    },
    "pycharm": {
     "name": "#%%\n"
    }
   },
   "outputs": [
    {
     "data": {
      "text/html": [
       "<div>\n",
       "<style scoped>\n",
       "    .dataframe tbody tr th:only-of-type {\n",
       "        vertical-align: middle;\n",
       "    }\n",
       "\n",
       "    .dataframe tbody tr th {\n",
       "        vertical-align: top;\n",
       "    }\n",
       "\n",
       "    .dataframe thead th {\n",
       "        text-align: right;\n",
       "    }\n",
       "</style>\n",
       "<table border=\"1\" class=\"dataframe\">\n",
       "  <thead>\n",
       "    <tr style=\"text-align: right;\">\n",
       "      <th></th>\n",
       "      <th>unix_time</th>\n",
       "      <th>unix_time</th>\n",
       "    </tr>\n",
       "  </thead>\n",
       "  <tbody>\n",
       "    <tr>\n",
       "      <th>count</th>\n",
       "      <td>1.289169e+06</td>\n",
       "      <td>7.506000e+03</td>\n",
       "    </tr>\n",
       "    <tr>\n",
       "      <th>mean</th>\n",
       "      <td>1.349249e+09</td>\n",
       "      <td>1.348389e+09</td>\n",
       "    </tr>\n",
       "    <tr>\n",
       "      <th>std</th>\n",
       "      <td>1.283514e+07</td>\n",
       "      <td>1.383020e+07</td>\n",
       "    </tr>\n",
       "    <tr>\n",
       "      <th>min</th>\n",
       "      <td>1.325376e+09</td>\n",
       "      <td>1.325466e+09</td>\n",
       "    </tr>\n",
       "    <tr>\n",
       "      <th>25%</th>\n",
       "      <td>1.338759e+09</td>\n",
       "      <td>1.335744e+09</td>\n",
       "    </tr>\n",
       "    <tr>\n",
       "      <th>50%</th>\n",
       "      <td>1.349254e+09</td>\n",
       "      <td>1.348872e+09</td>\n",
       "    </tr>\n",
       "    <tr>\n",
       "      <th>75%</th>\n",
       "      <td>1.359378e+09</td>\n",
       "      <td>1.360021e+09</td>\n",
       "    </tr>\n",
       "    <tr>\n",
       "      <th>max</th>\n",
       "      <td>1.371817e+09</td>\n",
       "      <td>1.371787e+09</td>\n",
       "    </tr>\n",
       "  </tbody>\n",
       "</table>\n",
       "</div>"
      ],
      "text/plain": [
       "          unix_time     unix_time\n",
       "count  1.289169e+06  7.506000e+03\n",
       "mean   1.349249e+09  1.348389e+09\n",
       "std    1.283514e+07  1.383020e+07\n",
       "min    1.325376e+09  1.325466e+09\n",
       "25%    1.338759e+09  1.335744e+09\n",
       "50%    1.349254e+09  1.348872e+09\n",
       "75%    1.359378e+09  1.360021e+09\n",
       "max    1.371817e+09  1.371787e+09"
      ]
     },
     "execution_count": 75,
     "metadata": {},
     "output_type": "execute_result"
    }
   ],
   "source": [
    "pd.concat([temp_df.loc[~is_fraud]['unix_time'].describe(), temp_df.loc[is_fraud]['unix_time'].describe()], axis=1)\n"
   ]
  },
  {
   "cell_type": "code",
   "execution_count": 56,
   "metadata": {
    "collapsed": false,
    "jupyter": {
     "outputs_hidden": false
    },
    "pycharm": {
     "name": "#%%\n"
    }
   },
   "outputs": [],
   "source": [
    "temp_df = None"
   ]
  },
  {
   "cell_type": "markdown",
   "metadata": {
    "pycharm": {
     "name": "#%% md\n"
    }
   },
   "source": [
    "This seems like _amt_ could make an important feature to a predictive model, as the answer to the question \"is this Transaction fraudulent?\" effects\n",
    "the data distribution massively.\n",
    "We also understand that there is a huge difference between the amount of fraudulent variables to non-fraudulent variables. Hence, we'll have to take care of it before we move forward."
   ]
  },
  {
   "cell_type": "code",
   "execution_count": 2,
   "metadata": {},
   "outputs": [
    {
     "name": "stdout",
     "output_type": "stream",
     "text": [
      "Requirement already satisfied: imbalanced-learn in c:\\users\\tomda\\source\\pytho\\lib\\site-packages (0.8.0)\n",
      "Requirement already satisfied: scipy>=0.19.1 in c:\\users\\tomda\\source\\pytho\\lib\\site-packages (from imbalanced-learn) (1.6.1)\n",
      "Requirement already satisfied: joblib>=0.11 in c:\\users\\tomda\\source\\pytho\\lib\\site-packages (from imbalanced-learn) (0.17.0)\n",
      "Requirement already satisfied: numpy>=1.13.3 in c:\\users\\tomda\\source\\pytho\\lib\\site-packages (from imbalanced-learn) (1.20.1)\n",
      "Requirement already satisfied: scikit-learn>=0.24 in c:\\users\\tomda\\source\\pytho\\lib\\site-packages (from imbalanced-learn) (0.24.1)\n",
      "Requirement already satisfied: threadpoolctl>=2.0.0 in c:\\users\\tomda\\source\\pytho\\lib\\site-packages (from scikit-learn>=0.24->imbalanced-learn) (2.1.0)\n"
     ]
    }
   ],
   "source": [
    "!pip install imbalanced-learn"
   ]
  },
  {
   "cell_type": "code",
   "execution_count": 11,
   "metadata": {},
   "outputs": [],
   "source": [
    "from imblearn.over_sampling import SMOTE\n",
    "\n",
    "temp_df = x_train.copy()\n",
    "temp_df.loc[:, categorical] = temp_df.loc[:, categorical].apply(lambda _x: _x.cat.codes)\n",
    "\n",
    "x_train_new, y_train_new = SMOTE().fit_resample(temp_df, y_train)"
   ]
  },
  {
   "cell_type": "code",
   "execution_count": 45,
   "metadata": {},
   "outputs": [
    {
     "data": {
      "text/html": [
       "<div>\n",
       "<style scoped>\n",
       "    .dataframe tbody tr th:only-of-type {\n",
       "        vertical-align: middle;\n",
       "    }\n",
       "\n",
       "    .dataframe tbody tr th {\n",
       "        vertical-align: top;\n",
       "    }\n",
       "\n",
       "    .dataframe thead th {\n",
       "        text-align: right;\n",
       "    }\n",
       "</style>\n",
       "<table border=\"1\" class=\"dataframe\">\n",
       "  <thead>\n",
       "    <tr style=\"text-align: right;\">\n",
       "      <th></th>\n",
       "      <th>trans_date_trans_time</th>\n",
       "      <th>cc_num</th>\n",
       "      <th>merchant</th>\n",
       "      <th>category</th>\n",
       "      <th>amt</th>\n",
       "      <th>first</th>\n",
       "      <th>last</th>\n",
       "      <th>gender</th>\n",
       "      <th>street</th>\n",
       "      <th>city</th>\n",
       "      <th>state</th>\n",
       "      <th>zip</th>\n",
       "      <th>city_pop</th>\n",
       "      <th>job</th>\n",
       "      <th>dob</th>\n",
       "      <th>unix_time</th>\n",
       "      <th>merch_lat</th>\n",
       "      <th>merch_long</th>\n",
       "    </tr>\n",
       "  </thead>\n",
       "  <tbody>\n",
       "    <tr>\n",
       "      <th>0</th>\n",
       "      <td>0</td>\n",
       "      <td>2703186189652095</td>\n",
       "      <td>514</td>\n",
       "      <td>8</td>\n",
       "      <td>4.97</td>\n",
       "      <td>162</td>\n",
       "      <td>18</td>\n",
       "      <td>0</td>\n",
       "      <td>568</td>\n",
       "      <td>526</td>\n",
       "      <td>27</td>\n",
       "      <td>28654</td>\n",
       "      <td>3495</td>\n",
       "      <td>370</td>\n",
       "      <td>779</td>\n",
       "      <td>1325376018</td>\n",
       "      <td>36.011293</td>\n",
       "      <td>-82.048315</td>\n",
       "    </tr>\n",
       "    <tr>\n",
       "      <th>1</th>\n",
       "      <td>1</td>\n",
       "      <td>630423337322</td>\n",
       "      <td>241</td>\n",
       "      <td>4</td>\n",
       "      <td>107.23</td>\n",
       "      <td>309</td>\n",
       "      <td>157</td>\n",
       "      <td>0</td>\n",
       "      <td>435</td>\n",
       "      <td>612</td>\n",
       "      <td>47</td>\n",
       "      <td>99160</td>\n",
       "      <td>149</td>\n",
       "      <td>428</td>\n",
       "      <td>607</td>\n",
       "      <td>1325376044</td>\n",
       "      <td>49.159047</td>\n",
       "      <td>-118.186462</td>\n",
       "    </tr>\n",
       "    <tr>\n",
       "      <th>2</th>\n",
       "      <td>2</td>\n",
       "      <td>38859492057661</td>\n",
       "      <td>390</td>\n",
       "      <td>0</td>\n",
       "      <td>220.11</td>\n",
       "      <td>115</td>\n",
       "      <td>381</td>\n",
       "      <td>1</td>\n",
       "      <td>602</td>\n",
       "      <td>468</td>\n",
       "      <td>13</td>\n",
       "      <td>83252</td>\n",
       "      <td>4154</td>\n",
       "      <td>307</td>\n",
       "      <td>302</td>\n",
       "      <td>1325376051</td>\n",
       "      <td>43.150704</td>\n",
       "      <td>-112.154481</td>\n",
       "    </tr>\n",
       "    <tr>\n",
       "      <th>3</th>\n",
       "      <td>3</td>\n",
       "      <td>3534093764340240</td>\n",
       "      <td>360</td>\n",
       "      <td>2</td>\n",
       "      <td>45.00</td>\n",
       "      <td>163</td>\n",
       "      <td>463</td>\n",
       "      <td>1</td>\n",
       "      <td>930</td>\n",
       "      <td>84</td>\n",
       "      <td>26</td>\n",
       "      <td>59632</td>\n",
       "      <td>1939</td>\n",
       "      <td>328</td>\n",
       "      <td>397</td>\n",
       "      <td>1325376076</td>\n",
       "      <td>47.034331</td>\n",
       "      <td>-112.561071</td>\n",
       "    </tr>\n",
       "    <tr>\n",
       "      <th>4</th>\n",
       "      <td>4</td>\n",
       "      <td>375534208663984</td>\n",
       "      <td>297</td>\n",
       "      <td>9</td>\n",
       "      <td>41.96</td>\n",
       "      <td>336</td>\n",
       "      <td>149</td>\n",
       "      <td>1</td>\n",
       "      <td>418</td>\n",
       "      <td>216</td>\n",
       "      <td>45</td>\n",
       "      <td>24433</td>\n",
       "      <td>99</td>\n",
       "      <td>116</td>\n",
       "      <td>734</td>\n",
       "      <td>1325376186</td>\n",
       "      <td>38.674999</td>\n",
       "      <td>-78.632459</td>\n",
       "    </tr>\n",
       "  </tbody>\n",
       "</table>\n",
       "</div>"
      ],
      "text/plain": [
       "   trans_date_trans_time            cc_num  merchant  category     amt  first  \\\n",
       "0                      0  2703186189652095       514         8    4.97    162   \n",
       "1                      1      630423337322       241         4  107.23    309   \n",
       "2                      2    38859492057661       390         0  220.11    115   \n",
       "3                      3  3534093764340240       360         2   45.00    163   \n",
       "4                      4   375534208663984       297         9   41.96    336   \n",
       "\n",
       "   last  gender  street  city  state    zip  city_pop  job  dob   unix_time  \\\n",
       "0    18       0     568   526     27  28654      3495  370  779  1325376018   \n",
       "1   157       0     435   612     47  99160       149  428  607  1325376044   \n",
       "2   381       1     602   468     13  83252      4154  307  302  1325376051   \n",
       "3   463       1     930    84     26  59632      1939  328  397  1325376076   \n",
       "4   149       1     418   216     45  24433        99  116  734  1325376186   \n",
       "\n",
       "   merch_lat  merch_long  \n",
       "0  36.011293  -82.048315  \n",
       "1  49.159047 -118.186462  \n",
       "2  43.150704 -112.154481  \n",
       "3  47.034331 -112.561071  \n",
       "4  38.674999  -78.632459  "
      ]
     },
     "execution_count": 45,
     "metadata": {},
     "output_type": "execute_result"
    }
   ],
   "source": [
    "x_train_new.head()"
   ]
  },
  {
   "cell_type": "code",
   "execution_count": 17,
   "metadata": {},
   "outputs": [
    {
     "data": {
      "text/plain": [
       "array([1289169, 1289169], dtype=int64)"
      ]
     },
     "execution_count": 17,
     "metadata": {},
     "output_type": "execute_result"
    }
   ],
   "source": [
    "np.unique(y_train_new, return_counts=True)[1]"
   ]
  },
  {
   "cell_type": "code",
   "execution_count": 42,
   "metadata": {},
   "outputs": [
    {
     "data": {
      "text/plain": [
       "array([248047, 251953], dtype=int64)"
      ]
     },
     "execution_count": 42,
     "metadata": {},
     "output_type": "execute_result"
    }
   ],
   "source": [
    "New_N = np.append(np.arange(0, 250 * 10 ** 3), np.arange(len(y_train_new) - 250 * 10 ** 3, len(y_train_new)))\n",
    "np.unique(y_train_new[New_N], return_counts=True)[1]"
   ]
  },
  {
   "cell_type": "code",
   "execution_count": 54,
   "metadata": {},
   "outputs": [
    {
     "data": {
      "text/plain": [
       "trans_date_trans_time        0\n",
       "cc_num                       0\n",
       "merchant                     0\n",
       "category                     0\n",
       "amt                          0\n",
       "first                        0\n",
       "last                         0\n",
       "gender                       0\n",
       "street                       0\n",
       "city                         0\n",
       "state                        0\n",
       "zip                      12893\n",
       "city_pop                     0\n",
       "job                          0\n",
       "dob                          0\n",
       "unix_time                    0\n",
       "merch_lat                    0\n",
       "merch_long                   0\n",
       "dtype: int64"
      ]
     },
     "execution_count": 54,
     "metadata": {},
     "output_type": "execute_result"
    }
   ],
   "source": [
    "np.sum(x_train_new.copy().isna())"
   ]
  },
  {
   "cell_type": "markdown",
   "metadata": {},
   "source": [
    "Now, as could be seen above, the data is balanced, although there are some missing values, and we'd like to take care of that moving forward."
   ]
  },
  {
   "cell_type": "code",
   "execution_count": 64,
   "metadata": {
    "pycharm": {
     "name": "#%%\n"
    }
   },
   "outputs": [],
   "source": [
    "#%%capture\n",
    "from sklearn.model_selection import cross_validate\n",
    "from sklearn.ensemble import RandomForestClassifier\n",
    "\n",
    "temp_df = x_train_new.copy().iloc[New_N, :]\n",
    "index = ~temp_df['zip'].isna()\n",
    "cols = x_train.columns\n",
    "temp_df = temp_df.loc[index]\n",
    "\n",
    "results = pd.DataFrame(data=[], index=cols)\n",
    "\n",
    "for i, c in enumerate(cols):\n",
    "    test_df = temp_df.drop(columns=[c], inplace=False)\n",
    "    res = cross_validate(RandomForestClassifier(n_estimators=50), test_df, y_train_new[New_N][index], cv=3, scoring = ('accuracy', 'roc_auc', 'average_precision'))\n",
    "    results.loc[c, ['Accuracy', 'AUC', 'Precision']] = np.array([np.mean(res['test_accuracy']), np.mean(res['test_roc_auc']), np.mean(res['test_average_precision'])])\n",
    "    \n",
    "test_df = temp_df = res = index = None"
   ]
  },
  {
   "cell_type": "code",
   "execution_count": 65,
   "metadata": {},
   "outputs": [
    {
     "data": {
      "text/html": [
       "<div>\n",
       "<style scoped>\n",
       "    .dataframe tbody tr th:only-of-type {\n",
       "        vertical-align: middle;\n",
       "    }\n",
       "\n",
       "    .dataframe tbody tr th {\n",
       "        vertical-align: top;\n",
       "    }\n",
       "\n",
       "    .dataframe thead th {\n",
       "        text-align: right;\n",
       "    }\n",
       "</style>\n",
       "<table border=\"1\" class=\"dataframe\">\n",
       "  <thead>\n",
       "    <tr style=\"text-align: right;\">\n",
       "      <th></th>\n",
       "      <th>Accuracy</th>\n",
       "      <th>AUC</th>\n",
       "      <th>Precision</th>\n",
       "    </tr>\n",
       "  </thead>\n",
       "  <tbody>\n",
       "    <tr>\n",
       "      <th>trans_date_trans_time</th>\n",
       "      <td>0.574122</td>\n",
       "      <td>0.964177</td>\n",
       "      <td>0.950953</td>\n",
       "    </tr>\n",
       "    <tr>\n",
       "      <th>cc_num</th>\n",
       "      <td>0.505272</td>\n",
       "      <td>0.827295</td>\n",
       "      <td>0.779873</td>\n",
       "    </tr>\n",
       "    <tr>\n",
       "      <th>merchant</th>\n",
       "      <td>0.505724</td>\n",
       "      <td>0.819507</td>\n",
       "      <td>0.770615</td>\n",
       "    </tr>\n",
       "    <tr>\n",
       "      <th>category</th>\n",
       "      <td>0.504988</td>\n",
       "      <td>0.808460</td>\n",
       "      <td>0.765407</td>\n",
       "    </tr>\n",
       "    <tr>\n",
       "      <th>amt</th>\n",
       "      <td>0.504876</td>\n",
       "      <td>0.813513</td>\n",
       "      <td>0.766028</td>\n",
       "    </tr>\n",
       "    <tr>\n",
       "      <th>first</th>\n",
       "      <td>0.505808</td>\n",
       "      <td>0.787561</td>\n",
       "      <td>0.741517</td>\n",
       "    </tr>\n",
       "    <tr>\n",
       "      <th>last</th>\n",
       "      <td>0.505342</td>\n",
       "      <td>0.806197</td>\n",
       "      <td>0.756232</td>\n",
       "    </tr>\n",
       "    <tr>\n",
       "      <th>gender</th>\n",
       "      <td>0.505632</td>\n",
       "      <td>0.775023</td>\n",
       "      <td>0.726167</td>\n",
       "    </tr>\n",
       "    <tr>\n",
       "      <th>street</th>\n",
       "      <td>0.506283</td>\n",
       "      <td>0.798723</td>\n",
       "      <td>0.753123</td>\n",
       "    </tr>\n",
       "    <tr>\n",
       "      <th>city</th>\n",
       "      <td>0.504968</td>\n",
       "      <td>0.822418</td>\n",
       "      <td>0.776244</td>\n",
       "    </tr>\n",
       "    <tr>\n",
       "      <th>state</th>\n",
       "      <td>0.505692</td>\n",
       "      <td>0.792827</td>\n",
       "      <td>0.749335</td>\n",
       "    </tr>\n",
       "    <tr>\n",
       "      <th>zip</th>\n",
       "      <td>0.506044</td>\n",
       "      <td>0.803959</td>\n",
       "      <td>0.758175</td>\n",
       "    </tr>\n",
       "    <tr>\n",
       "      <th>city_pop</th>\n",
       "      <td>0.505173</td>\n",
       "      <td>0.794320</td>\n",
       "      <td>0.753459</td>\n",
       "    </tr>\n",
       "    <tr>\n",
       "      <th>job</th>\n",
       "      <td>0.505656</td>\n",
       "      <td>0.787381</td>\n",
       "      <td>0.744195</td>\n",
       "    </tr>\n",
       "    <tr>\n",
       "      <th>dob</th>\n",
       "      <td>0.505491</td>\n",
       "      <td>0.773484</td>\n",
       "      <td>0.728964</td>\n",
       "    </tr>\n",
       "    <tr>\n",
       "      <th>unix_time</th>\n",
       "      <td>0.571018</td>\n",
       "      <td>0.960438</td>\n",
       "      <td>0.946188</td>\n",
       "    </tr>\n",
       "    <tr>\n",
       "      <th>merch_lat</th>\n",
       "      <td>0.505664</td>\n",
       "      <td>0.793881</td>\n",
       "      <td>0.749844</td>\n",
       "    </tr>\n",
       "    <tr>\n",
       "      <th>merch_long</th>\n",
       "      <td>0.505784</td>\n",
       "      <td>0.808693</td>\n",
       "      <td>0.764321</td>\n",
       "    </tr>\n",
       "  </tbody>\n",
       "</table>\n",
       "</div>"
      ],
      "text/plain": [
       "                       Accuracy       AUC  Precision\n",
       "trans_date_trans_time  0.574122  0.964177   0.950953\n",
       "cc_num                 0.505272  0.827295   0.779873\n",
       "merchant               0.505724  0.819507   0.770615\n",
       "category               0.504988  0.808460   0.765407\n",
       "amt                    0.504876  0.813513   0.766028\n",
       "first                  0.505808  0.787561   0.741517\n",
       "last                   0.505342  0.806197   0.756232\n",
       "gender                 0.505632  0.775023   0.726167\n",
       "street                 0.506283  0.798723   0.753123\n",
       "city                   0.504968  0.822418   0.776244\n",
       "state                  0.505692  0.792827   0.749335\n",
       "zip                    0.506044  0.803959   0.758175\n",
       "city_pop               0.505173  0.794320   0.753459\n",
       "job                    0.505656  0.787381   0.744195\n",
       "dob                    0.505491  0.773484   0.728964\n",
       "unix_time              0.571018  0.960438   0.946188\n",
       "merch_lat              0.505664  0.793881   0.749844\n",
       "merch_long             0.505784  0.808693   0.764321"
      ]
     },
     "execution_count": 65,
     "metadata": {},
     "output_type": "execute_result"
    }
   ],
   "source": [
    "results"
   ]
  },
  {
   "cell_type": "markdown",
   "metadata": {
    "pycharm": {
     "name": "#%% md\n"
    }
   },
   "source": [
    "The thing we tried to do here is to detect leaky features, using a Random Forest Classifier model and a feature dropout, and we couldn't actually find any.\n",
    "However, we can observe an interesting phenomenon; When _unix_time_ or _trans_date_trans_time_ are being dropped, the AUC rises significantly, only the significance seems to be similar.  \n",
    "\n",
    "That fact could mean that maybe one of these features is redundent."
   ]
  },
  {
   "cell_type": "code",
   "execution_count": 67,
   "metadata": {},
   "outputs": [
    {
     "data": {
      "text/html": [
       "<div>\n",
       "<style scoped>\n",
       "    .dataframe tbody tr th:only-of-type {\n",
       "        vertical-align: middle;\n",
       "    }\n",
       "\n",
       "    .dataframe tbody tr th {\n",
       "        vertical-align: top;\n",
       "    }\n",
       "\n",
       "    .dataframe thead th {\n",
       "        text-align: right;\n",
       "    }\n",
       "</style>\n",
       "<table border=\"1\" class=\"dataframe\">\n",
       "  <thead>\n",
       "    <tr style=\"text-align: right;\">\n",
       "      <th></th>\n",
       "      <th>unix_time</th>\n",
       "      <th>trans_date_trans_time</th>\n",
       "    </tr>\n",
       "  </thead>\n",
       "  <tbody>\n",
       "    <tr>\n",
       "      <th>0</th>\n",
       "      <td>2012-01-01 00:00:18</td>\n",
       "      <td>2019-01-01 00:00:18</td>\n",
       "    </tr>\n",
       "    <tr>\n",
       "      <th>1</th>\n",
       "      <td>2012-01-01 00:00:44</td>\n",
       "      <td>2019-01-01 00:00:44</td>\n",
       "    </tr>\n",
       "    <tr>\n",
       "      <th>2</th>\n",
       "      <td>2012-01-01 00:00:51</td>\n",
       "      <td>2019-01-01 00:00:51</td>\n",
       "    </tr>\n",
       "    <tr>\n",
       "      <th>3</th>\n",
       "      <td>2012-01-01 00:01:16</td>\n",
       "      <td>2019-01-01 00:01:16</td>\n",
       "    </tr>\n",
       "    <tr>\n",
       "      <th>4</th>\n",
       "      <td>2012-01-01 00:03:06</td>\n",
       "      <td>2019-01-01 00:03:06</td>\n",
       "    </tr>\n",
       "    <tr>\n",
       "      <th>...</th>\n",
       "      <td>...</td>\n",
       "      <td>...</td>\n",
       "    </tr>\n",
       "    <tr>\n",
       "      <th>1296670</th>\n",
       "      <td>2013-06-21 12:12:08</td>\n",
       "      <td>2020-06-21 12:12:08</td>\n",
       "    </tr>\n",
       "    <tr>\n",
       "      <th>1296671</th>\n",
       "      <td>2013-06-21 12:12:19</td>\n",
       "      <td>2020-06-21 12:12:19</td>\n",
       "    </tr>\n",
       "    <tr>\n",
       "      <th>1296672</th>\n",
       "      <td>2013-06-21 12:12:32</td>\n",
       "      <td>2020-06-21 12:12:32</td>\n",
       "    </tr>\n",
       "    <tr>\n",
       "      <th>1296673</th>\n",
       "      <td>2013-06-21 12:13:36</td>\n",
       "      <td>2020-06-21 12:13:36</td>\n",
       "    </tr>\n",
       "    <tr>\n",
       "      <th>1296674</th>\n",
       "      <td>2013-06-21 12:13:37</td>\n",
       "      <td>2020-06-21 12:13:37</td>\n",
       "    </tr>\n",
       "  </tbody>\n",
       "</table>\n",
       "<p>1296675 rows × 2 columns</p>\n",
       "</div>"
      ],
      "text/plain": [
       "                  unix_time trans_date_trans_time\n",
       "0       2012-01-01 00:00:18   2019-01-01 00:00:18\n",
       "1       2012-01-01 00:00:44   2019-01-01 00:00:44\n",
       "2       2012-01-01 00:00:51   2019-01-01 00:00:51\n",
       "3       2012-01-01 00:01:16   2019-01-01 00:01:16\n",
       "4       2012-01-01 00:03:06   2019-01-01 00:03:06\n",
       "...                     ...                   ...\n",
       "1296670 2013-06-21 12:12:08   2020-06-21 12:12:08\n",
       "1296671 2013-06-21 12:12:19   2020-06-21 12:12:19\n",
       "1296672 2013-06-21 12:12:32   2020-06-21 12:12:32\n",
       "1296673 2013-06-21 12:13:36   2020-06-21 12:13:36\n",
       "1296674 2013-06-21 12:13:37   2020-06-21 12:13:37\n",
       "\n",
       "[1296675 rows x 2 columns]"
      ]
     },
     "execution_count": 67,
     "metadata": {},
     "output_type": "execute_result"
    }
   ],
   "source": [
    "pd.concat([pd.to_datetime(x_train['unix_time'], unit='s'), x_train['trans_date_trans_time']], axis=1)"
   ]
  },
  {
   "cell_type": "markdown",
   "metadata": {},
   "source": [
    "As could be seen, these two features are, in fact, the same, so we might as well just keep one of them."
   ]
  },
  {
   "cell_type": "markdown",
   "metadata": {
    "pycharm": {
     "name": "#%% md\n"
    }
   },
   "source": [
    "## Task 2 Preprocessing and Baseline Model\n",
    "\n",
    "Create a simple minimum viable model by doing an initial selection of features, doing appropriate preprocessing and cross-validating a linear model. Feel free to generously exclude features or do simplified preprocessing for this task. As mentioned before, you don’t need to validate the model on the whole dataset"
   ]
  },
  {
   "cell_type": "code",
   "execution_count": 1,
   "metadata": {},
   "outputs": [
    {
     "name": "stdout",
     "output_type": "stream",
     "text": [
      "Requirement already satisfied: imbalanced-learn in c:\\users\\tomda\\source\\pytho\\lib\\site-packages (0.8.0)\n",
      "Requirement already satisfied: scipy>=0.19.1 in c:\\users\\tomda\\source\\pytho\\lib\\site-packages (from imbalanced-learn) (1.6.1)\n",
      "Requirement already satisfied: joblib>=0.11 in c:\\users\\tomda\\source\\pytho\\lib\\site-packages (from imbalanced-learn) (0.17.0)\n",
      "Requirement already satisfied: numpy>=1.13.3 in c:\\users\\tomda\\source\\pytho\\lib\\site-packages (from imbalanced-learn) (1.20.1)\n",
      "Requirement already satisfied: scikit-learn>=0.24 in c:\\users\\tomda\\source\\pytho\\lib\\site-packages (from imbalanced-learn) (0.24.1)\n",
      "Requirement already satisfied: threadpoolctl>=2.0.0 in c:\\users\\tomda\\source\\pytho\\lib\\site-packages (from scikit-learn>=0.24->imbalanced-learn) (2.1.0)\n"
     ]
    }
   ],
   "source": [
    "!pip install imbalanced-learn"
   ]
  },
  {
   "cell_type": "code",
   "execution_count": 1,
   "metadata": {
    "collapsed": false,
    "jupyter": {
     "outputs_hidden": false
    },
    "pycharm": {
     "name": "#%%\n"
    }
   },
   "outputs": [],
   "source": [
    "import pandas as pd\n",
    "import numpy as np\n",
    "import seaborn as sns\n",
    "from matplotlib import pyplot as plt\n",
    "from imblearn.over_sampling import SMOTE"
   ]
  },
  {
   "cell_type": "code",
   "execution_count": 4,
   "metadata": {
    "collapsed": false,
    "jupyter": {
     "outputs_hidden": false
    },
    "pycharm": {
     "name": "#%%\n"
    }
   },
   "outputs": [
    {
     "name": "stderr",
     "output_type": "stream",
     "text": [
      "c:\\Users\\tomda\\source\\pytho\\lib\\site-packages\\numpy\\lib\\arraysetops.py:583: FutureWarning: elementwise comparison failed; returning scalar instead, but in the future will perform elementwise comparison\n",
      "  mask |= (ar1 == a)\n"
     ]
    },
    {
     "data": {
      "text/html": [
       "<div>\n",
       "<style scoped>\n",
       "    .dataframe tbody tr th:only-of-type {\n",
       "        vertical-align: middle;\n",
       "    }\n",
       "\n",
       "    .dataframe tbody tr th {\n",
       "        vertical-align: top;\n",
       "    }\n",
       "\n",
       "    .dataframe thead th {\n",
       "        text-align: right;\n",
       "    }\n",
       "</style>\n",
       "<table border=\"1\" class=\"dataframe\">\n",
       "  <thead>\n",
       "    <tr style=\"text-align: right;\">\n",
       "      <th></th>\n",
       "      <th>trans_date_trans_time</th>\n",
       "      <th>cc_num</th>\n",
       "      <th>merchant</th>\n",
       "      <th>category</th>\n",
       "      <th>amt</th>\n",
       "      <th>first</th>\n",
       "      <th>last</th>\n",
       "      <th>gender</th>\n",
       "      <th>street</th>\n",
       "      <th>city</th>\n",
       "      <th>state</th>\n",
       "      <th>zip</th>\n",
       "      <th>city_pop</th>\n",
       "      <th>job</th>\n",
       "      <th>dob</th>\n",
       "      <th>merch_lat</th>\n",
       "      <th>merch_long</th>\n",
       "    </tr>\n",
       "  </thead>\n",
       "  <tbody>\n",
       "    <tr>\n",
       "      <th>0</th>\n",
       "      <td>2019-01-01 00:00:18</td>\n",
       "      <td>2703186189652095</td>\n",
       "      <td>fraud_Rippin, Kub and Mann</td>\n",
       "      <td>misc_net</td>\n",
       "      <td>4.97</td>\n",
       "      <td>Jennifer</td>\n",
       "      <td>Banks</td>\n",
       "      <td>F</td>\n",
       "      <td>561 Perry Cove</td>\n",
       "      <td>Moravian Falls</td>\n",
       "      <td>NC</td>\n",
       "      <td>28654</td>\n",
       "      <td>3495</td>\n",
       "      <td>Psychologist, counselling</td>\n",
       "      <td>1988-03-09</td>\n",
       "      <td>36.011293</td>\n",
       "      <td>-82.048315</td>\n",
       "    </tr>\n",
       "    <tr>\n",
       "      <th>1</th>\n",
       "      <td>2019-01-01 00:00:44</td>\n",
       "      <td>630423337322</td>\n",
       "      <td>fraud_Heller, Gutmann and Zieme</td>\n",
       "      <td>grocery_pos</td>\n",
       "      <td>107.23</td>\n",
       "      <td>Stephanie</td>\n",
       "      <td>Gill</td>\n",
       "      <td>F</td>\n",
       "      <td>43039 Riley Greens Suite 393</td>\n",
       "      <td>Orient</td>\n",
       "      <td>WA</td>\n",
       "      <td>99160</td>\n",
       "      <td>149</td>\n",
       "      <td>Special educational needs teacher</td>\n",
       "      <td>1978-06-21</td>\n",
       "      <td>49.159047</td>\n",
       "      <td>-118.186462</td>\n",
       "    </tr>\n",
       "    <tr>\n",
       "      <th>2</th>\n",
       "      <td>2019-01-01 00:00:51</td>\n",
       "      <td>38859492057661</td>\n",
       "      <td>fraud_Lind-Buckridge</td>\n",
       "      <td>entertainment</td>\n",
       "      <td>220.11</td>\n",
       "      <td>Edward</td>\n",
       "      <td>Sanchez</td>\n",
       "      <td>M</td>\n",
       "      <td>594 White Dale Suite 530</td>\n",
       "      <td>Malad City</td>\n",
       "      <td>ID</td>\n",
       "      <td>83252</td>\n",
       "      <td>4154</td>\n",
       "      <td>Nature conservation officer</td>\n",
       "      <td>1962-01-19</td>\n",
       "      <td>43.150704</td>\n",
       "      <td>-112.154481</td>\n",
       "    </tr>\n",
       "    <tr>\n",
       "      <th>3</th>\n",
       "      <td>2019-01-01 00:01:16</td>\n",
       "      <td>3534093764340240</td>\n",
       "      <td>fraud_Kutch, Hermiston and Farrell</td>\n",
       "      <td>gas_transport</td>\n",
       "      <td>45.00</td>\n",
       "      <td>Jeremy</td>\n",
       "      <td>White</td>\n",
       "      <td>M</td>\n",
       "      <td>9443 Cynthia Court Apt. 038</td>\n",
       "      <td>Boulder</td>\n",
       "      <td>MT</td>\n",
       "      <td>59632</td>\n",
       "      <td>1939</td>\n",
       "      <td>Patent attorney</td>\n",
       "      <td>1967-01-12</td>\n",
       "      <td>47.034331</td>\n",
       "      <td>-112.561071</td>\n",
       "    </tr>\n",
       "    <tr>\n",
       "      <th>4</th>\n",
       "      <td>2019-01-01 00:03:06</td>\n",
       "      <td>375534208663984</td>\n",
       "      <td>fraud_Keeling-Crist</td>\n",
       "      <td>misc_pos</td>\n",
       "      <td>41.96</td>\n",
       "      <td>Tyler</td>\n",
       "      <td>Garcia</td>\n",
       "      <td>M</td>\n",
       "      <td>408 Bradley Rest</td>\n",
       "      <td>Doe Hill</td>\n",
       "      <td>VA</td>\n",
       "      <td>24433</td>\n",
       "      <td>99</td>\n",
       "      <td>Dance movement psychotherapist</td>\n",
       "      <td>1986-03-28</td>\n",
       "      <td>38.674999</td>\n",
       "      <td>-78.632459</td>\n",
       "    </tr>\n",
       "  </tbody>\n",
       "</table>\n",
       "</div>"
      ],
      "text/plain": [
       "  trans_date_trans_time            cc_num                            merchant  \\\n",
       "0   2019-01-01 00:00:18  2703186189652095          fraud_Rippin, Kub and Mann   \n",
       "1   2019-01-01 00:00:44      630423337322     fraud_Heller, Gutmann and Zieme   \n",
       "2   2019-01-01 00:00:51    38859492057661                fraud_Lind-Buckridge   \n",
       "3   2019-01-01 00:01:16  3534093764340240  fraud_Kutch, Hermiston and Farrell   \n",
       "4   2019-01-01 00:03:06   375534208663984                 fraud_Keeling-Crist   \n",
       "\n",
       "        category     amt      first     last gender  \\\n",
       "0       misc_net    4.97   Jennifer    Banks      F   \n",
       "1    grocery_pos  107.23  Stephanie     Gill      F   \n",
       "2  entertainment  220.11     Edward  Sanchez      M   \n",
       "3  gas_transport   45.00     Jeremy    White      M   \n",
       "4       misc_pos   41.96      Tyler   Garcia      M   \n",
       "\n",
       "                         street            city state    zip  city_pop  \\\n",
       "0                561 Perry Cove  Moravian Falls    NC  28654      3495   \n",
       "1  43039 Riley Greens Suite 393          Orient    WA  99160       149   \n",
       "2      594 White Dale Suite 530      Malad City    ID  83252      4154   \n",
       "3   9443 Cynthia Court Apt. 038         Boulder    MT  59632      1939   \n",
       "4              408 Bradley Rest        Doe Hill    VA  24433        99   \n",
       "\n",
       "                                 job         dob  merch_lat  merch_long  \n",
       "0          Psychologist, counselling  1988-03-09  36.011293  -82.048315  \n",
       "1  Special educational needs teacher  1978-06-21  49.159047 -118.186462  \n",
       "2        Nature conservation officer  1962-01-19  43.150704 -112.154481  \n",
       "3                    Patent attorney  1967-01-12  47.034331 -112.561071  \n",
       "4     Dance movement psychotherapist  1986-03-28  38.674999  -78.632459  "
      ]
     },
     "execution_count": 4,
     "metadata": {},
     "output_type": "execute_result"
    }
   ],
   "source": [
    "x_train = pd.read_csv('fraudTrain.csv', index_col=0)\n",
    "y_train = x_train['is_fraud']\n",
    "x_train.drop(columns=['is_fraud', 'long', 'lat', 'trans_num', 'unix_time'], inplace=True)\n",
    "x_train.head()"
   ]
  },
  {
   "cell_type": "code",
   "execution_count": 3,
   "metadata": {
    "collapsed": false,
    "jupyter": {
     "outputs_hidden": false
    },
    "pycharm": {
     "name": "#%%\n"
    }
   },
   "outputs": [],
   "source": [
    "x_train['zip'] = x_train['zip'].astype(object)\n",
    "categorical = x_train.dtypes == object\n",
    "x_train.loc[:, categorical] = x_train.loc[:, categorical].apply(lambda x: x.astype('category'))\n",
    "\n",
    "temp_df = x_train.copy()\n",
    "temp_df.loc[:, categorical] = temp_df.loc[:, categorical].apply(lambda _x: _x.cat.codes)\n",
    "\n",
    "x_train_new, y_train_new = SMOTE().fit_resample(temp_df, y_train)\n",
    "temp_df = None\n",
    "\n",
    "\n",
    "New_N = np.append(np.arange(0, 50 * 10 ** 3), np.arange(len(y_train_new) - 50 * 10 ** 3, len(y_train_new)))\n",
    "cols = x_train.columns"
   ]
  },
  {
   "cell_type": "markdown",
   "metadata": {
    "jupyter": {
     "outputs_hidden": false
    },
    "pycharm": {
     "name": "#%%\n"
    }
   },
   "source": [
    "The previous blocks was meant to allow us to begin this task, right away, in case of kernel restart, without going through the whole blocks from the first task.\n",
    "We now want to build our baseline model. "
   ]
  },
  {
   "cell_type": "code",
   "execution_count": 4,
   "metadata": {},
   "outputs": [
    {
     "data": {
      "text/plain": [
       "array([49552, 50448], dtype=int64)"
      ]
     },
     "execution_count": 4,
     "metadata": {},
     "output_type": "execute_result"
    }
   ],
   "source": [
    "np.unique(y_train_new[New_N], return_counts=True)[1]"
   ]
  },
  {
   "cell_type": "code",
   "execution_count": 6,
   "metadata": {},
   "outputs": [],
   "source": [
    "x_train = y_train = None\n",
    "x_train_new = x_train_new.iloc[New_N, :]\n",
    "y_train_new = y_train_new[New_N]"
   ]
  },
  {
   "cell_type": "code",
   "execution_count": 7,
   "metadata": {},
   "outputs": [],
   "source": [
    "from sklearn.model_selection import cross_val_score, train_test_split, cross_validate\n",
    "from sklearn.linear_model import LogisticRegression\n",
    "from sklearn.pipeline import make_pipeline, Pipeline\n",
    "from sklearn.preprocessing import StandardScaler"
   ]
  },
  {
   "cell_type": "code",
   "execution_count": 8,
   "metadata": {},
   "outputs": [],
   "source": [
    "x_train_new.drop(columns=['trans_date_trans_time'], inplace=True)\n",
    "cols = cols.drop(['trans_date_trans_time'])"
   ]
  },
  {
   "cell_type": "markdown",
   "metadata": {},
   "source": [
    "Our baseline model is gonna be really \"simple\". It is gonna be trained over a small percentage of the balanced original training set. The idea is to create a weak model that is able to show us the strengths and downfalls of our data moving forward."
   ]
  },
  {
   "cell_type": "code",
   "execution_count": 9,
   "metadata": {},
   "outputs": [],
   "source": [
    "x_train, x_test, y_train, y_test = train_test_split(x_train_new, y_train_new, test_size=0.3)\n",
    "x_train_new = y_train_new = None"
   ]
  },
  {
   "cell_type": "code",
   "execution_count": 10,
   "metadata": {
    "collapsed": false,
    "jupyter": {
     "outputs_hidden": false
    },
    "pycharm": {
     "name": "#%%\n"
    }
   },
   "outputs": [
    {
     "data": {
      "text/plain": [
       "array([34719, 35281], dtype=int64)"
      ]
     },
     "execution_count": 10,
     "metadata": {},
     "output_type": "execute_result"
    }
   ],
   "source": [
    "np.unique(y_train, return_counts=True)[1]"
   ]
  },
  {
   "cell_type": "code",
   "execution_count": 11,
   "metadata": {
    "collapsed": false,
    "jupyter": {
     "outputs_hidden": false
    },
    "pycharm": {
     "name": "#%%\n"
    }
   },
   "outputs": [],
   "source": [
    "%%capture\n",
    "baseline_model_scaled = cross_validate(make_pipeline(StandardScaler(), LogisticRegression()),  x_train, y_train, cv=10, \n",
    "                                       scoring = ('accuracy', 'roc_auc', 'average_precision'))\n",
    "baseline_model = cross_validate(LogisticRegression(),  x_train, y_train, cv=10, \n",
    "                                       scoring = ('accuracy', 'roc_auc', 'average_precision'))\n",
    "\n",
    "#"
   ]
  },
  {
   "cell_type": "code",
   "execution_count": 12,
   "metadata": {},
   "outputs": [
    {
     "data": {
      "text/html": [
       "<div>\n",
       "<style scoped>\n",
       "    .dataframe tbody tr th:only-of-type {\n",
       "        vertical-align: middle;\n",
       "    }\n",
       "\n",
       "    .dataframe tbody tr th {\n",
       "        vertical-align: top;\n",
       "    }\n",
       "\n",
       "    .dataframe thead th {\n",
       "        text-align: right;\n",
       "    }\n",
       "</style>\n",
       "<table border=\"1\" class=\"dataframe\">\n",
       "  <thead>\n",
       "    <tr style=\"text-align: right;\">\n",
       "      <th></th>\n",
       "      <th>Logistic Regression Scaled</th>\n",
       "      <th>Logistic Regression</th>\n",
       "    </tr>\n",
       "  </thead>\n",
       "  <tbody>\n",
       "    <tr>\n",
       "      <th>Accuracy</th>\n",
       "      <td>0.881614</td>\n",
       "      <td>0.495986</td>\n",
       "    </tr>\n",
       "    <tr>\n",
       "      <th>AUC</th>\n",
       "      <td>0.916004</td>\n",
       "      <td>0.497709</td>\n",
       "    </tr>\n",
       "    <tr>\n",
       "      <th>Precision</th>\n",
       "      <td>0.928417</td>\n",
       "      <td>0.511821</td>\n",
       "    </tr>\n",
       "  </tbody>\n",
       "</table>\n",
       "</div>"
      ],
      "text/plain": [
       "           Logistic Regression Scaled  Logistic Regression\n",
       "Accuracy                     0.881614             0.495986\n",
       "AUC                          0.916004             0.497709\n",
       "Precision                    0.928417             0.511821"
      ]
     },
     "execution_count": 12,
     "metadata": {},
     "output_type": "execute_result"
    }
   ],
   "source": [
    "results = {'Logistic Regression Scaled': [np.mean(baseline_model_scaled['test_accuracy']), np.mean(baseline_model_scaled['test_roc_auc']), \n",
    "                                   np.mean(baseline_model_scaled['test_average_precision'])], \n",
    "          'Logistic Regression': [np.mean(baseline_model['test_accuracy']), np.mean(baseline_model['test_roc_auc']), \n",
    "                                   np.mean(baseline_model['test_average_precision'])]}\n",
    "\n",
    "pd.DataFrame(results, index=['Accuracy', 'AUC', 'Precision'])"
   ]
  },
  {
   "cell_type": "code",
   "execution_count": 13,
   "metadata": {},
   "outputs": [
    {
     "data": {
      "text/plain": [
       "Pipeline(steps=[('standardscaler', StandardScaler()),\n",
       "                ('logisticregression', LogisticRegression())])"
      ]
     },
     "execution_count": 13,
     "metadata": {},
     "output_type": "execute_result"
    }
   ],
   "source": [
    "baseline_model_scaled: Pipeline = make_pipeline(StandardScaler(), LogisticRegression())\n",
    "baseline_model_scaled.fit(x_train, y_train)"
   ]
  },
  {
   "cell_type": "code",
   "execution_count": 14,
   "metadata": {},
   "outputs": [
    {
     "name": "stdout",
     "output_type": "stream",
     "text": [
      "              precision    recall  f1-score   support\n",
      "\n",
      "       Clear       0.83      0.95      0.89     14833\n",
      "       Fraud       0.94      0.81      0.87     15167\n",
      "\n",
      "    accuracy                           0.88     30000\n",
      "   macro avg       0.89      0.88      0.88     30000\n",
      "weighted avg       0.89      0.88      0.88     30000\n",
      "\n"
     ]
    }
   ],
   "source": [
    "from sklearn.metrics import classification_report\n",
    "print(classification_report(y_test, baseline_model_scaled.predict(x_test), target_names=['Clear','Fraud']))"
   ]
  },
  {
   "cell_type": "code",
   "execution_count": 15,
   "metadata": {
    "collapsed": false,
    "jupyter": {
     "outputs_hidden": false
    },
    "pycharm": {
     "name": "#%%\n"
    }
   },
   "outputs": [
    {
     "data": {
      "image/png": "[encoded data removed]",
      "text/plain": [
       "<Figure size 720x432 with 2 Axes>"
      ]
     },
     "metadata": {
      "needs_background": "light"
     },
     "output_type": "display_data"
    }
   ],
   "source": [
    "plt.figure(figsize=(10 ,6))\n",
    "plt.xticks([])\n",
    "plt.yticks([])\n",
    "coef = baseline_model_scaled.named_steps['logisticregression'].coef_.copy()\n",
    "x = np.array(cols, dtype=object)\n",
    "x = x[coef.argsort()]\n",
    "coef.sort()\n",
    "coef = coef.reshape(4, 4)\n",
    "x = x.reshape(4, 4)\n",
    "sns.heatmap(coef.T, annot=True, fmt=\".2f\").set_title(\"Scaled Logistic Regression Coefficients\")\n",
    "\n",
    "for i in range(4):\n",
    "    for j in range(4):\n",
    "        c = 'k'\n",
    "        if coef[i, j] < 0:\n",
    "            c = 'gold'\n",
    "        plt.text(i + 1/4, j + 0.75, x[i, j], size=12, c=c)\n",
    "plt.show()\n",
    "x = coef = x_train = x_test = y_train = y_test = None"
   ]
  },
  {
   "cell_type": "markdown",
   "metadata": {
    "jupyter": {
     "outputs_hidden": false
    },
    "pycharm": {
     "name": "#%%\n"
    }
   },
   "source": [
    "As could be seen above, the baseline model is not really bad, in fact, it actually suggests that we are able to build a very precise model further ahead. Moreover, we see the _amt_ is very important to the model, as we assumed back in the EDA."
   ]
  },
  {
   "cell_type": "markdown",
   "metadata": {},
   "source": [
    "## Task 3 Feature Engineering\n",
    "Create derived features and perform more in-depth preprocessing and data cleaning. Does this improve your model? In particular, think about how to encode categorical variables."
   ]
  },
  {
   "cell_type": "code",
   "execution_count": 1,
   "metadata": {},
   "outputs": [],
   "source": [
    "import pandas as pd\n",
    "import numpy as np\n",
    "import seaborn as sns\n",
    "from matplotlib import pyplot as plt\n",
    "from imblearn.over_sampling import SMOTE"
   ]
  },
  {
   "cell_type": "code",
   "execution_count": 2,
   "metadata": {},
   "outputs": [
    {
     "name": "stderr",
     "output_type": "stream",
     "text": [
      "c:\\Users\\tomda\\source\\pytho\\lib\\site-packages\\numpy\\lib\\arraysetops.py:583: FutureWarning: elementwise comparison failed; returning scalar instead, but in the future will perform elementwise comparison\n",
      "  mask |= (ar1 == a)\n"
     ]
    }
   ],
   "source": [
    "x_train = pd.read_csv('fraudTrain.csv', index_col=0)\n",
    "y_train = x_train['is_fraud']\n",
    "x_train.drop(columns=['is_fraud', 'long', 'lat', 'trans_num', 'trans_date_trans_time'], inplace=True)\n",
    "\n",
    "x_train['zip'] = x_train['zip'].astype(object)\n",
    "\n",
    "categorical = x_train.dtypes == object\n",
    "x_train.loc[:, categorical] = x_train.loc[:, categorical].apply(lambda z: z.astype('category'))\n",
    "temp_df = x_train.copy()\n",
    "temp_df.loc[:, categorical] = temp_df.loc[:, categorical].apply(lambda _x: _x.cat.codes)\n",
    "\n",
    "x_train_new, y_train_new = SMOTE().fit_resample(temp_df, y_train)\n",
    "temp_df = None\n",
    "# Once again, we'd like to work on a \n",
    "# small sample of our data, pre-building the final model. "
   ]
  },
  {
   "cell_type": "markdown",
   "metadata": {},
   "source": [
    "In order to enhance the baseline model, using feature engineering, we'd like to do some work over some of the \"Non-important\" features, that have been \"outed\" by the Logistic Regression model, which have \"silenced\" their influence with a small coefficient.\n",
    "\n",
    "### Feature Engineering:"
   ]
  },
  {
   "cell_type": "code",
   "execution_count": 76,
   "metadata": {},
   "outputs": [
    {
     "data": {
      "text/plain": [
       "-2564581"
      ]
     },
     "execution_count": 76,
     "metadata": {},
     "output_type": "execute_result"
    }
   ],
   "source": [
    "len(x_train_new['cc_num'].unique()) - len(x_train_new)"
   ]
  },
  {
   "cell_type": "markdown",
   "metadata": {},
   "source": [
    "Based on the result above, we have a reason to believe that there is a chance that fraud transactions happen frequently from the same credit card. "
   ]
  },
  {
   "cell_type": "code",
   "execution_count": 77,
   "metadata": {},
   "outputs": [],
   "source": [
    "credit_cards = pd.DataFrame()\n",
    "credit_cards['cc_num'] = x_train_new['cc_num'].copy()\n",
    "credit_cards['is_fraud'] = y_train_new.copy()"
   ]
  },
  {
   "cell_type": "code",
   "execution_count": 78,
   "metadata": {},
   "outputs": [
    {
     "data": {
      "text/html": [
       "<div>\n",
       "<style scoped>\n",
       "    .dataframe tbody tr th:only-of-type {\n",
       "        vertical-align: middle;\n",
       "    }\n",
       "\n",
       "    .dataframe tbody tr th {\n",
       "        vertical-align: top;\n",
       "    }\n",
       "\n",
       "    .dataframe thead th {\n",
       "        text-align: right;\n",
       "    }\n",
       "</style>\n",
       "<table border=\"1\" class=\"dataframe\">\n",
       "  <thead>\n",
       "    <tr style=\"text-align: right;\">\n",
       "      <th></th>\n",
       "      <th>is_fraud</th>\n",
       "    </tr>\n",
       "    <tr>\n",
       "      <th>cc_num</th>\n",
       "      <th></th>\n",
       "    </tr>\n",
       "  </thead>\n",
       "  <tbody>\n",
       "    <tr>\n",
       "      <th>60416207185</th>\n",
       "      <td>1533</td>\n",
       "    </tr>\n",
       "    <tr>\n",
       "      <th>60422928733</th>\n",
       "      <td>1979</td>\n",
       "    </tr>\n",
       "    <tr>\n",
       "      <th>60423098130</th>\n",
       "      <td>1671</td>\n",
       "    </tr>\n",
       "    <tr>\n",
       "      <th>60427851591</th>\n",
       "      <td>2362</td>\n",
       "    </tr>\n",
       "    <tr>\n",
       "      <th>60487002085</th>\n",
       "      <td>0</td>\n",
       "    </tr>\n",
       "    <tr>\n",
       "      <th>...</th>\n",
       "      <td>...</td>\n",
       "    </tr>\n",
       "    <tr>\n",
       "      <th>4958589671582727168</th>\n",
       "      <td>0</td>\n",
       "    </tr>\n",
       "    <tr>\n",
       "      <th>4973530368125489152</th>\n",
       "      <td>1755</td>\n",
       "    </tr>\n",
       "    <tr>\n",
       "      <th>4980323467523544064</th>\n",
       "      <td>1666</td>\n",
       "    </tr>\n",
       "    <tr>\n",
       "      <th>4989847570577635328</th>\n",
       "      <td>0</td>\n",
       "    </tr>\n",
       "    <tr>\n",
       "      <th>4992346398065154048</th>\n",
       "      <td>1351</td>\n",
       "    </tr>\n",
       "  </tbody>\n",
       "</table>\n",
       "<p>13757 rows × 1 columns</p>\n",
       "</div>"
      ],
      "text/plain": [
       "                     is_fraud\n",
       "cc_num                       \n",
       "60416207185              1533\n",
       "60422928733              1979\n",
       "60423098130              1671\n",
       "60427851591              2362\n",
       "60487002085                 0\n",
       "...                       ...\n",
       "4958589671582727168         0\n",
       "4973530368125489152      1755\n",
       "4980323467523544064      1666\n",
       "4989847570577635328         0\n",
       "4992346398065154048      1351\n",
       "\n",
       "[13757 rows x 1 columns]"
      ]
     },
     "execution_count": 78,
     "metadata": {},
     "output_type": "execute_result"
    }
   ],
   "source": [
    "credit_cards.groupby('cc_num').sum()"
   ]
  },
  {
   "cell_type": "markdown",
   "metadata": {},
   "source": [
    "Our assumption was correct. We'd like to figure out if that's got anything to do with the card's frequancy of usage around the time of a given fraud."
   ]
  },
  {
   "cell_type": "code",
   "execution_count": 82,
   "metadata": {},
   "outputs": [
    {
     "data": {
      "text/html": [
       "<div>\n",
       "<style scoped>\n",
       "    .dataframe tbody tr th:only-of-type {\n",
       "        vertical-align: middle;\n",
       "    }\n",
       "\n",
       "    .dataframe tbody tr th {\n",
       "        vertical-align: top;\n",
       "    }\n",
       "\n",
       "    .dataframe thead th {\n",
       "        text-align: right;\n",
       "    }\n",
       "</style>\n",
       "<table border=\"1\" class=\"dataframe\">\n",
       "  <thead>\n",
       "    <tr style=\"text-align: right;\">\n",
       "      <th></th>\n",
       "      <th>cc_num</th>\n",
       "      <th>unix_time</th>\n",
       "    </tr>\n",
       "  </thead>\n",
       "  <tbody>\n",
       "    <tr>\n",
       "      <th>0</th>\n",
       "      <td>2703186189652095</td>\n",
       "      <td>1325376018</td>\n",
       "    </tr>\n",
       "    <tr>\n",
       "      <th>1</th>\n",
       "      <td>630423337322</td>\n",
       "      <td>1325376044</td>\n",
       "    </tr>\n",
       "    <tr>\n",
       "      <th>2</th>\n",
       "      <td>38859492057661</td>\n",
       "      <td>1325376051</td>\n",
       "    </tr>\n",
       "    <tr>\n",
       "      <th>3</th>\n",
       "      <td>3534093764340240</td>\n",
       "      <td>1325376076</td>\n",
       "    </tr>\n",
       "    <tr>\n",
       "      <th>4</th>\n",
       "      <td>375534208663984</td>\n",
       "      <td>1325376186</td>\n",
       "    </tr>\n",
       "  </tbody>\n",
       "</table>\n",
       "</div>"
      ],
      "text/plain": [
       "             cc_num   unix_time\n",
       "0  2703186189652095  1325376018\n",
       "1      630423337322  1325376044\n",
       "2    38859492057661  1325376051\n",
       "3  3534093764340240  1325376076\n",
       "4   375534208663984  1325376186"
      ]
     },
     "execution_count": 82,
     "metadata": {},
     "output_type": "execute_result"
    }
   ],
   "source": [
    "credit_cards = pd.DataFrame()\n",
    "credit_cards['cc_num'] = x_train_new['cc_num'].copy()\n",
    "credit_cards['unix_time'] = x_train_new['unix_time']\n",
    "credit_cards = credit_cards.iloc[np.argsort(credit_cards['unix_time'])]\n",
    "credit_cards.head()"
   ]
  },
  {
   "cell_type": "code",
   "execution_count": 86,
   "metadata": {},
   "outputs": [],
   "source": [
    "credit_cards['diff'] = credit_cards.groupby(by=['cc_num']).diff()['unix_time']\n",
    "is_nan = credit_cards.isna()['diff']\n",
    "credit_cards.fillna(value=0, inplace=True)\n",
    "credit_cards['time_diff'] = pd.to_datetime(credit_cards['diff'], unit='s')\n",
    "credit_cards['time_diff'] = credit_cards['time_diff'].apply(lambda z: z.day + z.hour/24 + z.minute/(24*60) + z.second/(24*3600))\n",
    "credit_cards.loc[is_nan] = 0"
   ]
  },
  {
   "cell_type": "code",
   "execution_count": 87,
   "metadata": {},
   "outputs": [],
   "source": [
    "x_train_new['time_diff'] = credit_cards['time_diff'].copy()"
   ]
  },
  {
   "cell_type": "code",
   "execution_count": 88,
   "metadata": {},
   "outputs": [
    {
     "data": {
      "text/html": [
       "<div>\n",
       "<style scoped>\n",
       "    .dataframe tbody tr th:only-of-type {\n",
       "        vertical-align: middle;\n",
       "    }\n",
       "\n",
       "    .dataframe tbody tr th {\n",
       "        vertical-align: top;\n",
       "    }\n",
       "\n",
       "    .dataframe thead th {\n",
       "        text-align: right;\n",
       "    }\n",
       "</style>\n",
       "<table border=\"1\" class=\"dataframe\">\n",
       "  <thead>\n",
       "    <tr style=\"text-align: right;\">\n",
       "      <th></th>\n",
       "      <th>cc_num</th>\n",
       "      <th>merchant</th>\n",
       "      <th>category</th>\n",
       "      <th>amt</th>\n",
       "      <th>first</th>\n",
       "      <th>last</th>\n",
       "      <th>gender</th>\n",
       "      <th>city</th>\n",
       "      <th>state</th>\n",
       "      <th>zip</th>\n",
       "      <th>city_pop</th>\n",
       "      <th>job</th>\n",
       "      <th>dob</th>\n",
       "      <th>unix_time</th>\n",
       "      <th>merch_lat</th>\n",
       "      <th>merch_long</th>\n",
       "      <th>time_diff</th>\n",
       "    </tr>\n",
       "  </thead>\n",
       "  <tbody>\n",
       "    <tr>\n",
       "      <th>0</th>\n",
       "      <td>2703186189652095</td>\n",
       "      <td>514</td>\n",
       "      <td>8</td>\n",
       "      <td>4.97</td>\n",
       "      <td>162</td>\n",
       "      <td>18</td>\n",
       "      <td>0</td>\n",
       "      <td>526</td>\n",
       "      <td>27</td>\n",
       "      <td>265</td>\n",
       "      <td>3495</td>\n",
       "      <td>370</td>\n",
       "      <td>779</td>\n",
       "      <td>1325376018</td>\n",
       "      <td>36.011293</td>\n",
       "      <td>-82.048315</td>\n",
       "      <td>0.0</td>\n",
       "    </tr>\n",
       "    <tr>\n",
       "      <th>1</th>\n",
       "      <td>630423337322</td>\n",
       "      <td>241</td>\n",
       "      <td>4</td>\n",
       "      <td>107.23</td>\n",
       "      <td>309</td>\n",
       "      <td>157</td>\n",
       "      <td>0</td>\n",
       "      <td>612</td>\n",
       "      <td>47</td>\n",
       "      <td>965</td>\n",
       "      <td>149</td>\n",
       "      <td>428</td>\n",
       "      <td>607</td>\n",
       "      <td>1325376044</td>\n",
       "      <td>49.159047</td>\n",
       "      <td>-118.186462</td>\n",
       "      <td>0.0</td>\n",
       "    </tr>\n",
       "    <tr>\n",
       "      <th>2</th>\n",
       "      <td>38859492057661</td>\n",
       "      <td>390</td>\n",
       "      <td>0</td>\n",
       "      <td>220.11</td>\n",
       "      <td>115</td>\n",
       "      <td>381</td>\n",
       "      <td>1</td>\n",
       "      <td>468</td>\n",
       "      <td>13</td>\n",
       "      <td>858</td>\n",
       "      <td>4154</td>\n",
       "      <td>307</td>\n",
       "      <td>302</td>\n",
       "      <td>1325376051</td>\n",
       "      <td>43.150704</td>\n",
       "      <td>-112.154481</td>\n",
       "      <td>0.0</td>\n",
       "    </tr>\n",
       "  </tbody>\n",
       "</table>\n",
       "</div>"
      ],
      "text/plain": [
       "             cc_num  merchant  category     amt  first  last  gender  city  \\\n",
       "0  2703186189652095       514         8    4.97    162    18       0   526   \n",
       "1      630423337322       241         4  107.23    309   157       0   612   \n",
       "2    38859492057661       390         0  220.11    115   381       1   468   \n",
       "\n",
       "   state  zip  city_pop  job  dob   unix_time  merch_lat  merch_long  \\\n",
       "0     27  265      3495  370  779  1325376018  36.011293  -82.048315   \n",
       "1     47  965       149  428  607  1325376044  49.159047 -118.186462   \n",
       "2     13  858      4154  307  302  1325376051  43.150704 -112.154481   \n",
       "\n",
       "   time_diff  \n",
       "0        0.0  \n",
       "1        0.0  \n",
       "2        0.0  "
      ]
     },
     "execution_count": 88,
     "metadata": {},
     "output_type": "execute_result"
    }
   ],
   "source": [
    "x_train_new.head(3)"
   ]
  },
  {
   "cell_type": "code",
   "execution_count": 89,
   "metadata": {},
   "outputs": [],
   "source": [
    "from sklearn.model_selection import cross_val_score, train_test_split, cross_validate\n",
    "from sklearn.linear_model import LogisticRegression\n",
    "from sklearn.pipeline import make_pipeline, Pipeline\n",
    "from sklearn.preprocessing import StandardScaler"
   ]
  },
  {
   "cell_type": "code",
   "execution_count": 90,
   "metadata": {},
   "outputs": [],
   "source": [
    "%%capture\n",
    "_model = cross_validate(make_pipeline(StandardScaler(), LogisticRegression()),  x_train_new, y_train_new, cv=10,  \n",
    "                        scoring = ('accuracy', 'roc_auc', 'average_precision'))\n",
    "\n",
    "results['with_time_diff'] = [np.mean(_model['test_accuracy']), np.mean(_model['test_roc_auc']), np.mean(_model['test_average_precision'])]\n",
    "\n",
    "_model = cross_validate(make_pipeline(StandardScaler(), LogisticRegression()),  x_train_new.drop(columns=['time_diff']), y_train_new, cv=10,  \n",
    "                        scoring = ('accuracy', 'roc_auc', 'average_precision'))\n",
    "results['BaseLine Model'] = [np.mean(_model['test_accuracy']), np.mean(_model['test_roc_auc']), np.mean(_model['test_average_precision'])]"
   ]
  },
  {
   "cell_type": "code",
   "execution_count": 91,
   "metadata": {},
   "outputs": [
    {
     "data": {
      "text/html": [
       "<div>\n",
       "<style scoped>\n",
       "    .dataframe tbody tr th:only-of-type {\n",
       "        vertical-align: middle;\n",
       "    }\n",
       "\n",
       "    .dataframe tbody tr th {\n",
       "        vertical-align: top;\n",
       "    }\n",
       "\n",
       "    .dataframe thead th {\n",
       "        text-align: right;\n",
       "    }\n",
       "</style>\n",
       "<table border=\"1\" class=\"dataframe\">\n",
       "  <thead>\n",
       "    <tr style=\"text-align: right;\">\n",
       "      <th></th>\n",
       "      <th>BaseLine Model</th>\n",
       "      <th>with_time_diff</th>\n",
       "    </tr>\n",
       "  </thead>\n",
       "  <tbody>\n",
       "    <tr>\n",
       "      <th>Accuracy</th>\n",
       "      <td>0.880299</td>\n",
       "      <td>0.969739</td>\n",
       "    </tr>\n",
       "    <tr>\n",
       "      <th>AUC</th>\n",
       "      <td>0.910914</td>\n",
       "      <td>0.994527</td>\n",
       "    </tr>\n",
       "    <tr>\n",
       "      <th>Precision</th>\n",
       "      <td>0.924425</td>\n",
       "      <td>0.989924</td>\n",
       "    </tr>\n",
       "  </tbody>\n",
       "</table>\n",
       "</div>"
      ],
      "text/plain": [
       "           BaseLine Model  with_time_diff\n",
       "Accuracy         0.880299        0.969739\n",
       "AUC              0.910914        0.994527\n",
       "Precision        0.924425        0.989924"
      ]
     },
     "execution_count": 91,
     "metadata": {},
     "output_type": "execute_result"
    }
   ],
   "source": [
    "results"
   ]
  },
  {
   "cell_type": "markdown",
   "metadata": {},
   "source": [
    "The results seem to be suprisingly good. For the sake of safety, we'll continue **this task** without the new feature. "
   ]
  },
  {
   "cell_type": "code",
   "execution_count": 92,
   "metadata": {},
   "outputs": [],
   "source": [
    "x_train_new.drop(columns=['time_diff'], inplace=True)"
   ]
  },
  {
   "cell_type": "code",
   "execution_count": 6,
   "metadata": {},
   "outputs": [],
   "source": [
    "from sklearn.feature_selection import chi2, mutual_info_classif, SelectKBest"
   ]
  },
  {
   "cell_type": "code",
   "execution_count": 4,
   "metadata": {},
   "outputs": [
    {
     "data": {
      "text/html": [
       "<div>\n",
       "<style scoped>\n",
       "    .dataframe tbody tr th:only-of-type {\n",
       "        vertical-align: middle;\n",
       "    }\n",
       "\n",
       "    .dataframe tbody tr th {\n",
       "        vertical-align: top;\n",
       "    }\n",
       "\n",
       "    .dataframe thead th {\n",
       "        text-align: right;\n",
       "    }\n",
       "</style>\n",
       "<table border=\"1\" class=\"dataframe\">\n",
       "  <thead>\n",
       "    <tr style=\"text-align: right;\">\n",
       "      <th></th>\n",
       "      <th>unix_time</th>\n",
       "      <th>day_of_week</th>\n",
       "      <th>day_of_year</th>\n",
       "      <th>Hour</th>\n",
       "    </tr>\n",
       "  </thead>\n",
       "  <tbody>\n",
       "    <tr>\n",
       "      <th>0</th>\n",
       "      <td>1325376018</td>\n",
       "      <td>6</td>\n",
       "      <td>1</td>\n",
       "      <td>0</td>\n",
       "    </tr>\n",
       "    <tr>\n",
       "      <th>1</th>\n",
       "      <td>1325376044</td>\n",
       "      <td>6</td>\n",
       "      <td>1</td>\n",
       "      <td>0</td>\n",
       "    </tr>\n",
       "    <tr>\n",
       "      <th>2</th>\n",
       "      <td>1325376051</td>\n",
       "      <td>6</td>\n",
       "      <td>1</td>\n",
       "      <td>0</td>\n",
       "    </tr>\n",
       "    <tr>\n",
       "      <th>3</th>\n",
       "      <td>1325376076</td>\n",
       "      <td>6</td>\n",
       "      <td>1</td>\n",
       "      <td>0</td>\n",
       "    </tr>\n",
       "    <tr>\n",
       "      <th>4</th>\n",
       "      <td>1325376186</td>\n",
       "      <td>6</td>\n",
       "      <td>1</td>\n",
       "      <td>0</td>\n",
       "    </tr>\n",
       "  </tbody>\n",
       "</table>\n",
       "</div>"
      ],
      "text/plain": [
       "    unix_time  day_of_week  day_of_year  Hour\n",
       "0  1325376018            6            1     0\n",
       "1  1325376044            6            1     0\n",
       "2  1325376051            6            1     0\n",
       "3  1325376076            6            1     0\n",
       "4  1325376186            6            1     0"
      ]
     },
     "execution_count": 4,
     "metadata": {},
     "output_type": "execute_result"
    }
   ],
   "source": [
    "tester = pd.DataFrame()\n",
    "tester['unix_time'] = x_train_new['unix_time'].copy()\n",
    "as_time: pd.Timestamp = pd.to_datetime(x_train_new['unix_time'], unit='s')\n",
    "tester['day_of_week'] = as_time.apply(lambda x: x.dayofweek)\n",
    "tester['day_of_year'] = as_time.apply(lambda x: x.dayofyear)\n",
    "tester['Hour'] = as_time.apply(lambda x: x.hour)\n",
    "tester.head()"
   ]
  },
  {
   "cell_type": "code",
   "execution_count": 10,
   "metadata": {},
   "outputs": [
    {
     "data": {
      "image/png": "[encoded data removed]",
      "text/plain": [
       "<Figure size 1152x720 with 3 Axes>"
      ]
     },
     "metadata": {
      "needs_background": "light"
     },
     "output_type": "display_data"
    }
   ],
   "source": [
    "is_fraud = y_train_new == 1\n",
    "from scipy import stats\n",
    "plt.figure(figsize=(16, 10))\n",
    "plt.subplot(1, 3, 1)\n",
    "dens = stats.kde.gaussian_kde(tester.loc[~is_fraud]['Hour'])\n",
    "x = np.arange(-1, 24, 0.1)\n",
    "plt.grid()\n",
    "plt.plot(x, dens(x), label='Not Fraud')\n",
    "dens = stats.kde.gaussian_kde(tester.loc[is_fraud]['Hour'])\n",
    "plt.plot(x, dens(x), label='Fraud')\n",
    "plt.title('Hour')\n",
    "plt.legend()\n",
    "\n",
    "plt.subplot(1, 3, 2)\n",
    "dens = stats.kde.gaussian_kde(tester.loc[~is_fraud]['day_of_week'])\n",
    "x = np.arange(-1, 7, 0.1)\n",
    "plt.grid()\n",
    "plt.plot(x, dens(x), label='Not Fraud')\n",
    "dens = stats.kde.gaussian_kde(tester.loc[is_fraud]['day_of_week'])\n",
    "plt.plot(x, dens(x), label='Fraud')\n",
    "plt.title('Day of Week')\n",
    "plt.legend()\n",
    "\n",
    "plt.subplot(1, 3, 3)\n",
    "dens = stats.kde.gaussian_kde(tester.loc[~is_fraud]['day_of_year'])\n",
    "x = np.arange(-1, 365, 0.1)\n",
    "plt.grid()\n",
    "plt.plot(x, dens(x), label='Not Fraud')\n",
    "dens = stats.kde.gaussian_kde(tester.loc[is_fraud]['day_of_year'])\n",
    "plt.plot(x, dens(x), label='Fraud')\n",
    "plt.title('Day of Year')\n",
    "plt.legend()\n",
    "\n",
    "plt.show()"
   ]
  },
  {
   "cell_type": "code",
   "execution_count": 5,
   "metadata": {},
   "outputs": [
    {
     "data": {
      "text/html": [
       "<div>\n",
       "<style scoped>\n",
       "    .dataframe tbody tr th:only-of-type {\n",
       "        vertical-align: middle;\n",
       "    }\n",
       "\n",
       "    .dataframe tbody tr th {\n",
       "        vertical-align: top;\n",
       "    }\n",
       "\n",
       "    .dataframe thead th {\n",
       "        text-align: right;\n",
       "    }\n",
       "</style>\n",
       "<table border=\"1\" class=\"dataframe\">\n",
       "  <thead>\n",
       "    <tr style=\"text-align: right;\">\n",
       "      <th></th>\n",
       "      <th>column</th>\n",
       "      <th>MI</th>\n",
       "    </tr>\n",
       "  </thead>\n",
       "  <tbody>\n",
       "    <tr>\n",
       "      <th>0</th>\n",
       "      <td>unix_time</td>\n",
       "      <td>0.158603</td>\n",
       "    </tr>\n",
       "    <tr>\n",
       "      <th>1</th>\n",
       "      <td>day_of_week</td>\n",
       "      <td>0.055638</td>\n",
       "    </tr>\n",
       "    <tr>\n",
       "      <th>2</th>\n",
       "      <td>day_of_year</td>\n",
       "      <td>0.053320</td>\n",
       "    </tr>\n",
       "    <tr>\n",
       "      <th>3</th>\n",
       "      <td>Hour</td>\n",
       "      <td>0.065778</td>\n",
       "    </tr>\n",
       "  </tbody>\n",
       "</table>\n",
       "</div>"
      ],
      "text/plain": [
       "        column        MI\n",
       "0    unix_time  0.158603\n",
       "1  day_of_week  0.055638\n",
       "2  day_of_year  0.053320\n",
       "3         Hour  0.065778"
      ]
     },
     "execution_count": 5,
     "metadata": {},
     "output_type": "execute_result"
    }
   ],
   "source": [
    "scores = SelectKBest(mutual_info_classif, k='all')\n",
    "scores.fit(tester, y_train_new)\n",
    "temp_df = pd.DataFrame()\n",
    "temp_df['column'] = tester.columns\n",
    "temp_df['MI'] = scores.scores_\n",
    "temp_df"
   ]
  },
  {
   "cell_type": "markdown",
   "metadata": {},
   "source": [
    "There is something very interesting about the results above;\n",
    "The last time we computed the _Mutual Information_ between the target and _unix_time_ the data wasn't balanced and the result was very poor for the feature. \n",
    "However, now, when the data is balanced, the result has improved massively, compared to it's last. This suggests that feature might actually be useful.\n",
    "\n",
    "We also see that the _Hour_ feature resulting not great, but an ok _Mutual Information_ with the target, and we'll try to improve that moving forward."
   ]
  },
  {
   "cell_type": "code",
   "execution_count": 12,
   "metadata": {},
   "outputs": [
    {
     "data": {
      "text/html": [
       "<div>\n",
       "<style scoped>\n",
       "    .dataframe tbody tr th:only-of-type {\n",
       "        vertical-align: middle;\n",
       "    }\n",
       "\n",
       "    .dataframe tbody tr th {\n",
       "        vertical-align: top;\n",
       "    }\n",
       "\n",
       "    .dataframe thead th {\n",
       "        text-align: right;\n",
       "    }\n",
       "</style>\n",
       "<table border=\"1\" class=\"dataframe\">\n",
       "  <thead>\n",
       "    <tr style=\"text-align: right;\">\n",
       "      <th></th>\n",
       "      <th>unix_time</th>\n",
       "      <th>hour_minute_sec</th>\n",
       "      <th>hour_minute</th>\n",
       "      <th>hour</th>\n",
       "      <th>minute</th>\n",
       "    </tr>\n",
       "  </thead>\n",
       "  <tbody>\n",
       "    <tr>\n",
       "      <th>0</th>\n",
       "      <td>1325376018</td>\n",
       "      <td>0.005000</td>\n",
       "      <td>0.000000</td>\n",
       "      <td>0</td>\n",
       "      <td>0</td>\n",
       "    </tr>\n",
       "    <tr>\n",
       "      <th>1</th>\n",
       "      <td>1325376044</td>\n",
       "      <td>0.012222</td>\n",
       "      <td>0.000000</td>\n",
       "      <td>0</td>\n",
       "      <td>0</td>\n",
       "    </tr>\n",
       "    <tr>\n",
       "      <th>2</th>\n",
       "      <td>1325376051</td>\n",
       "      <td>0.014167</td>\n",
       "      <td>0.000000</td>\n",
       "      <td>0</td>\n",
       "      <td>0</td>\n",
       "    </tr>\n",
       "    <tr>\n",
       "      <th>3</th>\n",
       "      <td>1325376076</td>\n",
       "      <td>0.021111</td>\n",
       "      <td>0.016667</td>\n",
       "      <td>0</td>\n",
       "      <td>1</td>\n",
       "    </tr>\n",
       "    <tr>\n",
       "      <th>4</th>\n",
       "      <td>1325376186</td>\n",
       "      <td>0.051667</td>\n",
       "      <td>0.050000</td>\n",
       "      <td>0</td>\n",
       "      <td>3</td>\n",
       "    </tr>\n",
       "  </tbody>\n",
       "</table>\n",
       "</div>"
      ],
      "text/plain": [
       "    unix_time  hour_minute_sec  hour_minute  hour  minute\n",
       "0  1325376018         0.005000     0.000000     0       0\n",
       "1  1325376044         0.012222     0.000000     0       0\n",
       "2  1325376051         0.014167     0.000000     0       0\n",
       "3  1325376076         0.021111     0.016667     0       1\n",
       "4  1325376186         0.051667     0.050000     0       3"
      ]
     },
     "execution_count": 12,
     "metadata": {},
     "output_type": "execute_result"
    }
   ],
   "source": [
    "tester = pd.DataFrame()\n",
    "tester['unix_time'] = x_train_new['unix_time'].copy()\n",
    "as_time: pd.Timestamp = pd.to_datetime(x_train_new['unix_time'], unit='s')\n",
    "tester['hour_minute_sec'] = as_time.apply(lambda x: x.hour) + as_time.apply(lambda x: x.minute/60) + as_time.apply(lambda x: x.second/3600)\n",
    "tester['hour_minute'] = as_time.apply(lambda x: x.hour) + as_time.apply(lambda x: x.minute/60)\n",
    "tester['hour'] = as_time.apply(lambda x: x.hour)\n",
    "tester['minute'] = as_time.apply(lambda x: x.minute)\n",
    "tester.head()"
   ]
  },
  {
   "cell_type": "code",
   "execution_count": 13,
   "metadata": {},
   "outputs": [
    {
     "data": {
      "image/png": "[encoded data removed]",
      "text/plain": [
       "<Figure size 576x576 with 4 Axes>"
      ]
     },
     "metadata": {
      "needs_background": "light"
     },
     "output_type": "display_data"
    }
   ],
   "source": [
    "plt.figure(figsize=(8, 8))\n",
    "\n",
    "x = np.arange(-1, 24, 0.1)\n",
    "\n",
    "plt.subplot(2, 2, 1)\n",
    "dens = stats.kde.gaussian_kde(tester.loc[~is_fraud]['hour_minute_sec'])\n",
    "plt.grid()\n",
    "plt.plot(x, dens(x), label='Not Fraud')\n",
    "dens = stats.kde.gaussian_kde(tester.loc[is_fraud]['hour_minute_sec'])\n",
    "plt.plot(x, dens(x), label='Fraud')\n",
    "plt.title('Hour/Minute/Second')\n",
    "plt.legend()\n",
    "\n",
    "plt.subplot(2, 2, 2)\n",
    "dens = stats.kde.gaussian_kde(tester.loc[~is_fraud]['hour'])\n",
    "plt.grid()\n",
    "plt.plot(x, dens(x), label='Not Fraud')\n",
    "dens = stats.kde.gaussian_kde(tester.loc[is_fraud]['hour'])\n",
    "plt.plot(x, dens(x), label='Fraud')\n",
    "plt.title('Hour')\n",
    "plt.legend()\n",
    "\n",
    "plt.subplot(2, 2, 3)\n",
    "dens = stats.kde.gaussian_kde(tester.loc[~is_fraud]['hour_minute'])\n",
    "plt.grid()\n",
    "plt.plot(x, dens(x), label='Not Fraud')\n",
    "dens = stats.kde.gaussian_kde(tester.loc[is_fraud]['hour_minute'])\n",
    "plt.plot(x, dens(x), label='Fraud')\n",
    "plt.title('Hour/Minute')\n",
    "plt.legend()\n",
    "\n",
    "plt.subplot(2, 2, 4)\n",
    "x = np.arange(-1, 60, 0.1)\n",
    "dens = stats.kde.gaussian_kde(tester.loc[~is_fraud]['minute'])\n",
    "plt.grid()\n",
    "plt.plot(x, dens(x), label='Not Fraud')\n",
    "dens = stats.kde.gaussian_kde(tester.loc[is_fraud]['minute'])\n",
    "plt.plot(x, dens(x), label='Fraud')\n",
    "plt.title('Minute')\n",
    "plt.legend()\n",
    "\n",
    "plt.show()"
   ]
  },
  {
   "cell_type": "markdown",
   "metadata": {},
   "source": [
    "Since the visualizations seems to be as informative as the _Mutual Information_ value, we decided to base some of our decisions on the cadidate features's distributions. As could be seen above, the _hour_minute_sec_ value could be really useful to a classification model. "
   ]
  },
  {
   "cell_type": "code",
   "execution_count": 14,
   "metadata": {},
   "outputs": [],
   "source": [
    "as_time: pd.Timestamp = pd.to_datetime(x_train_new['unix_time'], unit='s')\n",
    "x_train_new['hour_minute_sec'] = as_time.apply(lambda x: x.hour) + as_time.apply(lambda x: x.minute/60) + as_time.apply(lambda x: x.second/3600)"
   ]
  },
  {
   "cell_type": "markdown",
   "metadata": {},
   "source": [
    "Lets see if this feature improves the model:"
   ]
  },
  {
   "cell_type": "code",
   "execution_count": 12,
   "metadata": {},
   "outputs": [],
   "source": [
    "%%capture\n",
    "baseline_model_with_hour = cross_validate(make_pipeline(StandardScaler(), LogisticRegression()),  x_train_new.drop(columns=['unix_time'], inplace=False), \n",
    "                                          y_train_new, cv=10,  scoring = ('accuracy', 'roc_auc', 'average_precision'))\n",
    "baseline_model_with_unix = cross_validate(make_pipeline(StandardScaler(), LogisticRegression()),  x_train_new.drop(columns=['hour_minute_sec'], inplace=False), \n",
    "                                          y_train_new, cv=10,  scoring = ('accuracy', 'roc_auc', 'average_precision'))"
   ]
  },
  {
   "cell_type": "code",
   "execution_count": 13,
   "metadata": {},
   "outputs": [
    {
     "data": {
      "text/html": [
       "<div>\n",
       "<style scoped>\n",
       "    .dataframe tbody tr th:only-of-type {\n",
       "        vertical-align: middle;\n",
       "    }\n",
       "\n",
       "    .dataframe tbody tr th {\n",
       "        vertical-align: top;\n",
       "    }\n",
       "\n",
       "    .dataframe thead th {\n",
       "        text-align: right;\n",
       "    }\n",
       "</style>\n",
       "<table border=\"1\" class=\"dataframe\">\n",
       "  <thead>\n",
       "    <tr style=\"text-align: right;\">\n",
       "      <th></th>\n",
       "      <th>Logistic Regression With Hour/Minute/Second</th>\n",
       "      <th>Logistic Regression With Unix Time</th>\n",
       "    </tr>\n",
       "  </thead>\n",
       "  <tbody>\n",
       "    <tr>\n",
       "      <th>Accuracy</th>\n",
       "      <td>0.883230</td>\n",
       "      <td>0.879947</td>\n",
       "    </tr>\n",
       "    <tr>\n",
       "      <th>AUC</th>\n",
       "      <td>0.917571</td>\n",
       "      <td>0.910776</td>\n",
       "    </tr>\n",
       "    <tr>\n",
       "      <th>Precision</th>\n",
       "      <td>0.928227</td>\n",
       "      <td>0.924311</td>\n",
       "    </tr>\n",
       "  </tbody>\n",
       "</table>\n",
       "</div>"
      ],
      "text/plain": [
       "           Logistic Regression With Hour/Minute/Second  \\\n",
       "Accuracy                                      0.883230   \n",
       "AUC                                           0.917571   \n",
       "Precision                                     0.928227   \n",
       "\n",
       "           Logistic Regression With Unix Time  \n",
       "Accuracy                             0.879947  \n",
       "AUC                                  0.910776  \n",
       "Precision                            0.924311  "
      ]
     },
     "execution_count": 13,
     "metadata": {},
     "output_type": "execute_result"
    }
   ],
   "source": [
    "results = {'Logistic Regression With Hour/Minute/Second': [np.mean(baseline_model_with_hour['test_accuracy']), np.mean(baseline_model_with_hour['test_roc_auc']), \n",
    "                                   np.mean(baseline_model_with_hour['test_average_precision'])], \n",
    "          'Logistic Regression With Unix Time': [np.mean(baseline_model_with_unix['test_accuracy']), np.mean(baseline_model_with_unix['test_roc_auc']), \n",
    "                                   np.mean(baseline_model_with_unix['test_average_precision'])]}\n",
    "\n",
    "baseline_model_with_hour = baseline_model_with_unix = None\n",
    "pd.DataFrame(results, index=['Accuracy', 'AUC', 'Precision'])"
   ]
  },
  {
   "cell_type": "markdown",
   "metadata": {},
   "source": [
    "It seems like the _AUC_ and the _Accuracy_ are slightly better with the new feature, hence, we'll keep it."
   ]
  },
  {
   "cell_type": "code",
   "execution_count": 133,
   "metadata": {},
   "outputs": [],
   "source": [
    "%%capture\n",
    "model = cross_validate(make_pipeline(StandardScaler(), LogisticRegression()),  x_train_new, y_train_new, cv=10,  \n",
    "                       scoring = ('accuracy', 'roc_auc', 'average_precision'))\n",
    "results = {'Current Model': [np.mean(model['test_accuracy']), np.mean(model['test_roc_auc']), np.mean(model['test_average_precision'])]}"
   ]
  },
  {
   "cell_type": "code",
   "execution_count": null,
   "metadata": {},
   "outputs": [],
   "source": [
    "results = pd.DataFrame(results, index=['Accuracy', 'AUC', 'Precision'])"
   ]
  },
  {
   "cell_type": "code",
   "execution_count": 16,
   "metadata": {},
   "outputs": [
    {
     "data": {
      "text/html": [
       "<div>\n",
       "<style scoped>\n",
       "    .dataframe tbody tr th:only-of-type {\n",
       "        vertical-align: middle;\n",
       "    }\n",
       "\n",
       "    .dataframe tbody tr th {\n",
       "        vertical-align: top;\n",
       "    }\n",
       "\n",
       "    .dataframe thead th {\n",
       "        text-align: right;\n",
       "    }\n",
       "</style>\n",
       "<table border=\"1\" class=\"dataframe\">\n",
       "  <thead>\n",
       "    <tr style=\"text-align: right;\">\n",
       "      <th></th>\n",
       "      <th>cc_num</th>\n",
       "      <th>merchant</th>\n",
       "      <th>category</th>\n",
       "      <th>amt</th>\n",
       "      <th>first</th>\n",
       "      <th>last</th>\n",
       "      <th>gender</th>\n",
       "      <th>street</th>\n",
       "      <th>city</th>\n",
       "      <th>state</th>\n",
       "      <th>zip</th>\n",
       "      <th>city_pop</th>\n",
       "      <th>job</th>\n",
       "      <th>dob</th>\n",
       "      <th>merch_lat</th>\n",
       "      <th>merch_long</th>\n",
       "      <th>hour_minute_sec</th>\n",
       "    </tr>\n",
       "  </thead>\n",
       "  <tbody>\n",
       "    <tr>\n",
       "      <th>0</th>\n",
       "      <td>2703186189652095</td>\n",
       "      <td>514</td>\n",
       "      <td>8</td>\n",
       "      <td>4.97</td>\n",
       "      <td>162</td>\n",
       "      <td>18</td>\n",
       "      <td>0</td>\n",
       "      <td>568</td>\n",
       "      <td>526</td>\n",
       "      <td>27</td>\n",
       "      <td>265</td>\n",
       "      <td>3495</td>\n",
       "      <td>370</td>\n",
       "      <td>779</td>\n",
       "      <td>36.011293</td>\n",
       "      <td>-82.048315</td>\n",
       "      <td>0.005000</td>\n",
       "    </tr>\n",
       "    <tr>\n",
       "      <th>1</th>\n",
       "      <td>630423337322</td>\n",
       "      <td>241</td>\n",
       "      <td>4</td>\n",
       "      <td>107.23</td>\n",
       "      <td>309</td>\n",
       "      <td>157</td>\n",
       "      <td>0</td>\n",
       "      <td>435</td>\n",
       "      <td>612</td>\n",
       "      <td>47</td>\n",
       "      <td>965</td>\n",
       "      <td>149</td>\n",
       "      <td>428</td>\n",
       "      <td>607</td>\n",
       "      <td>49.159047</td>\n",
       "      <td>-118.186462</td>\n",
       "      <td>0.012222</td>\n",
       "    </tr>\n",
       "    <tr>\n",
       "      <th>2</th>\n",
       "      <td>38859492057661</td>\n",
       "      <td>390</td>\n",
       "      <td>0</td>\n",
       "      <td>220.11</td>\n",
       "      <td>115</td>\n",
       "      <td>381</td>\n",
       "      <td>1</td>\n",
       "      <td>602</td>\n",
       "      <td>468</td>\n",
       "      <td>13</td>\n",
       "      <td>858</td>\n",
       "      <td>4154</td>\n",
       "      <td>307</td>\n",
       "      <td>302</td>\n",
       "      <td>43.150704</td>\n",
       "      <td>-112.154481</td>\n",
       "      <td>0.014167</td>\n",
       "    </tr>\n",
       "  </tbody>\n",
       "</table>\n",
       "</div>"
      ],
      "text/plain": [
       "             cc_num  merchant  category     amt  first  last  gender  street  \\\n",
       "0  2703186189652095       514         8    4.97    162    18       0     568   \n",
       "1      630423337322       241         4  107.23    309   157       0     435   \n",
       "2    38859492057661       390         0  220.11    115   381       1     602   \n",
       "\n",
       "   city  state  zip  city_pop  job  dob  merch_lat  merch_long  \\\n",
       "0   526     27  265      3495  370  779  36.011293  -82.048315   \n",
       "1   612     47  965       149  428  607  49.159047 -118.186462   \n",
       "2   468     13  858      4154  307  302  43.150704 -112.154481   \n",
       "\n",
       "   hour_minute_sec  \n",
       "0         0.005000  \n",
       "1         0.012222  \n",
       "2         0.014167  "
      ]
     },
     "execution_count": 16,
     "metadata": {},
     "output_type": "execute_result"
    }
   ],
   "source": [
    "x_train_new.drop(columns=['unix_time'], inplace=True)\n",
    "x_train_new.head(3)"
   ]
  },
  {
   "cell_type": "markdown",
   "metadata": {},
   "source": [
    "We'll now try to understand if we could combine the _first_ and _last_ features into one, or maybe simplify the either of them:"
   ]
  },
  {
   "cell_type": "code",
   "execution_count": 83,
   "metadata": {},
   "outputs": [],
   "source": [
    "tester = pd.DataFrame()\n",
    "tester['first'] = x_train_new['first']\n",
    "tester['last'] = x_train_new['last']\n",
    "f_names = pd.Series(pd.Categorical.from_codes(x_train_new['first'], categories=sorted(x_train['first'].unique()), ordered=False)).to_list()\n",
    "l_names = pd.Series(pd.Categorical.from_codes(x_train_new['last'], categories=sorted(x_train['last'].unique()), ordered=False)).to_list()\n",
    "names = [f_names[i] + ' ' + l_names[i] for i in range(len(x_train_new))]\n",
    "tester['name'] = names.copy()\n",
    "tester['name'] = tester['name'].astype('category')\n",
    "names = l_names = f_names = None"
   ]
  },
  {
   "cell_type": "code",
   "execution_count": 95,
   "metadata": {},
   "outputs": [
    {
     "data": {
      "text/html": [
       "<div>\n",
       "<style scoped>\n",
       "    .dataframe tbody tr th:only-of-type {\n",
       "        vertical-align: middle;\n",
       "    }\n",
       "\n",
       "    .dataframe tbody tr th {\n",
       "        vertical-align: top;\n",
       "    }\n",
       "\n",
       "    .dataframe thead th {\n",
       "        text-align: right;\n",
       "    }\n",
       "</style>\n",
       "<table border=\"1\" class=\"dataframe\">\n",
       "  <thead>\n",
       "    <tr style=\"text-align: right;\">\n",
       "      <th></th>\n",
       "      <th>first</th>\n",
       "      <th>last</th>\n",
       "      <th>name</th>\n",
       "      <th>first_letter_first_name</th>\n",
       "      <th>first_letter_last_name</th>\n",
       "      <th>length</th>\n",
       "      <th>length_first</th>\n",
       "      <th>length_last</th>\n",
       "    </tr>\n",
       "  </thead>\n",
       "  <tbody>\n",
       "    <tr>\n",
       "      <th>0</th>\n",
       "      <td>162</td>\n",
       "      <td>18</td>\n",
       "      <td>2571</td>\n",
       "      <td>9</td>\n",
       "      <td>1</td>\n",
       "      <td>14</td>\n",
       "      <td>8</td>\n",
       "      <td>5</td>\n",
       "    </tr>\n",
       "    <tr>\n",
       "      <th>1</th>\n",
       "      <td>309</td>\n",
       "      <td>157</td>\n",
       "      <td>7446</td>\n",
       "      <td>17</td>\n",
       "      <td>6</td>\n",
       "      <td>14</td>\n",
       "      <td>9</td>\n",
       "      <td>4</td>\n",
       "    </tr>\n",
       "    <tr>\n",
       "      <th>2</th>\n",
       "      <td>115</td>\n",
       "      <td>381</td>\n",
       "      <td>1412</td>\n",
       "      <td>4</td>\n",
       "      <td>17</td>\n",
       "      <td>14</td>\n",
       "      <td>6</td>\n",
       "      <td>7</td>\n",
       "    </tr>\n",
       "    <tr>\n",
       "      <th>3</th>\n",
       "      <td>163</td>\n",
       "      <td>463</td>\n",
       "      <td>2646</td>\n",
       "      <td>9</td>\n",
       "      <td>20</td>\n",
       "      <td>12</td>\n",
       "      <td>6</td>\n",
       "      <td>5</td>\n",
       "    </tr>\n",
       "    <tr>\n",
       "      <th>4</th>\n",
       "      <td>336</td>\n",
       "      <td>149</td>\n",
       "      <td>7983</td>\n",
       "      <td>18</td>\n",
       "      <td>6</td>\n",
       "      <td>12</td>\n",
       "      <td>5</td>\n",
       "      <td>6</td>\n",
       "    </tr>\n",
       "  </tbody>\n",
       "</table>\n",
       "</div>"
      ],
      "text/plain": [
       "   first  last  name  first_letter_first_name  first_letter_last_name  length  \\\n",
       "0    162    18  2571                        9                       1      14   \n",
       "1    309   157  7446                       17                       6      14   \n",
       "2    115   381  1412                        4                      17      14   \n",
       "3    163   463  2646                        9                      20      12   \n",
       "4    336   149  7983                       18                       6      12   \n",
       "\n",
       "   length_first  length_last  \n",
       "0             8            5  \n",
       "1             9            4  \n",
       "2             6            7  \n",
       "3             6            5  \n",
       "4             5            6  "
      ]
     },
     "execution_count": 95,
     "metadata": {},
     "output_type": "execute_result"
    }
   ],
   "source": [
    "tester['first_letter_first_name'] = tester['name'].apply(lambda x: x[0]).astype('category').cat.codes\n",
    "tester['first_letter_last_name'] = tester['name'].apply(lambda x: x.split(' ')[1][0]).astype('category').cat.codes\n",
    "tester['length'] = tester['name'].apply(lambda x: len(x))\n",
    "tester['length_first'] = tester['name'].apply(lambda x: len(x.split(' ')[0]))\n",
    "tester['length_last'] = tester['name'].apply(lambda x: len(x.split(' ')[1]))\n",
    "tester['name'] = tester['name'].cat.codes\n",
    "tester.head()"
   ]
  },
  {
   "cell_type": "code",
   "execution_count": 98,
   "metadata": {},
   "outputs": [
    {
     "data": {
      "image/png": "[encoded data removed]",
      "text/plain": [
       "<Figure size 432x432 with 2 Axes>"
      ]
     },
     "metadata": {},
     "output_type": "display_data"
    }
   ],
   "source": [
    "plt.style.use('ggplot')\n",
    "plt.figure(figsize=(6, 6))\n",
    "plt.title('Correlation of Engineeed Features ',y=1,size=16)\n",
    "sns.heatmap(tester.corr(), vmax=1, ax=plt.gca())\n",
    "plt.show()"
   ]
  },
  {
   "cell_type": "code",
   "execution_count": 103,
   "metadata": {},
   "outputs": [],
   "source": [
    "tester.drop(columns=['is_fraud', 'length', 'length_last', 'length_first'], inplace=True)\n",
    "batches = [{'drop': ['last', 'first'], 'add': ['first_letter_last_name', 'name']}, \n",
    "          {'drop': ['last', 'first'], 'add': ['first_letter_last_name', 'first_letter_first_name']},\n",
    "           {'drop': ['last'], 'add': ['first_letter_last_name']},\n",
    "          {'drop': ['first'], 'add': ['name']},\n",
    "          {'drop': ['first'], 'add': ['first_letter_first_name']}]"
   ]
  },
  {
   "cell_type": "code",
   "execution_count": null,
   "metadata": {},
   "outputs": [],
   "source": [
    "%%capture\n",
    "\n",
    "for batch in batches:\n",
    "    temp_df = x_train_new.copy().drop(columns=batch['drop'])\n",
    "    name = 'dropped_' + '__'.join(batch['drop']) + '__added__' + '__'.join(batch['add'])\n",
    "    for c in batch['add']:\n",
    "        temp_df[c] = tester[c]\n",
    "    _model = cross_validate(make_pipeline(StandardScaler(), LogisticRegression()), temp_df, y_train_new, cv=10,  \n",
    "                           scoring = ('accuracy', 'roc_auc', 'average_precision'))\n",
    "    \n",
    "    results[name] = [np.mean(_model['test_accuracy']), np.mean(_model['test_roc_auc']), np.mean(_model['test_average_precision'])]\n",
    "\n",
    "temp_df = _model = None\n",
    "pd.DataFrame(results, index=['Accuracy', 'AUC', 'Precision'])  \n",
    "\n",
    "#output was deleted, but the conclusions are below."
   ]
  },
  {
   "cell_type": "markdown",
   "metadata": {},
   "source": [
    "None of the new features seem to make any difference, so we'll just keep the old ones.\n",
    "\n",
    "Next up on the line, is the _category_ feature. We might be able to squeeze some more information out of this feature.\n"
   ]
  },
  {
   "cell_type": "code",
   "execution_count": 161,
   "metadata": {},
   "outputs": [
    {
     "data": {
      "text/html": [
       "<div>\n",
       "<style scoped>\n",
       "    .dataframe tbody tr th:only-of-type {\n",
       "        vertical-align: middle;\n",
       "    }\n",
       "\n",
       "    .dataframe tbody tr th {\n",
       "        vertical-align: top;\n",
       "    }\n",
       "\n",
       "    .dataframe thead th {\n",
       "        text-align: right;\n",
       "    }\n",
       "</style>\n",
       "<table border=\"1\" class=\"dataframe\">\n",
       "  <thead>\n",
       "    <tr style=\"text-align: right;\">\n",
       "      <th></th>\n",
       "      <th>category</th>\n",
       "      <th>sub_category_1</th>\n",
       "      <th>sub_category_2</th>\n",
       "      <th>is_fraud</th>\n",
       "    </tr>\n",
       "  </thead>\n",
       "  <tbody>\n",
       "    <tr>\n",
       "      <th>0</th>\n",
       "      <td>8</td>\n",
       "      <td>5</td>\n",
       "      <td>7</td>\n",
       "      <td>0</td>\n",
       "    </tr>\n",
       "    <tr>\n",
       "      <th>1</th>\n",
       "      <td>4</td>\n",
       "      <td>7</td>\n",
       "      <td>3</td>\n",
       "      <td>0</td>\n",
       "    </tr>\n",
       "    <tr>\n",
       "      <th>2</th>\n",
       "      <td>0</td>\n",
       "      <td>2</td>\n",
       "      <td>0</td>\n",
       "      <td>0</td>\n",
       "    </tr>\n",
       "    <tr>\n",
       "      <th>3</th>\n",
       "      <td>2</td>\n",
       "      <td>8</td>\n",
       "      <td>2</td>\n",
       "      <td>0</td>\n",
       "    </tr>\n",
       "    <tr>\n",
       "      <th>4</th>\n",
       "      <td>9</td>\n",
       "      <td>7</td>\n",
       "      <td>7</td>\n",
       "      <td>0</td>\n",
       "    </tr>\n",
       "  </tbody>\n",
       "</table>\n",
       "</div>"
      ],
      "text/plain": [
       "   category  sub_category_1  sub_category_2  is_fraud\n",
       "0         8               5               7         0\n",
       "1         4               7               3         0\n",
       "2         0               2               0         0\n",
       "3         2               8               2         0\n",
       "4         9               7               7         0"
      ]
     },
     "execution_count": 161,
     "metadata": {},
     "output_type": "execute_result"
    }
   ],
   "source": [
    "tester = pd.DataFrame()\n",
    "tester['category'] = pd.Series(pd.Categorical.from_codes(x_train_new['category'], categories=sorted(x_train['category'].unique()), ordered=False)).to_list()\n",
    "tester['sub_category_1'] = tester['category'].apply(lambda x: x if len(x.split('_')) == 0 else x.split('_')[-1]).astype('category').cat.codes\n",
    "tester['sub_category_2'] = tester['category'].apply(lambda x: x.split('_')[0]).astype('category').cat.codes\n",
    "tester['category'] = x_train_new['category']\n",
    "tester['is_fraud'] = y_train_new\n",
    "tester.head()"
   ]
  },
  {
   "cell_type": "code",
   "execution_count": 156,
   "metadata": {},
   "outputs": [
    {
     "data": {
      "text/plain": [
       "<seaborn.axisgrid.FacetGrid at 0x205d31a16c8>"
      ]
     },
     "execution_count": 156,
     "metadata": {},
     "output_type": "execute_result"
    },
    {
     "data": {
      "image/png": "[encoded data removed]",
      "text/plain": [
       "<Figure size 407.75x360 with 1 Axes>"
      ]
     },
     "metadata": {},
     "output_type": "display_data"
    }
   ],
   "source": [
    "sns.displot(tester, x='category', hue='is_fraud', kde=True, stat='density')"
   ]
  },
  {
   "cell_type": "code",
   "execution_count": 157,
   "metadata": {},
   "outputs": [
    {
     "data": {
      "text/plain": [
       "<seaborn.axisgrid.FacetGrid at 0x205d33a1688>"
      ]
     },
     "execution_count": 157,
     "metadata": {},
     "output_type": "execute_result"
    },
    {
     "data": {
      "image/png": "[encoded data removed]",
      "text/plain": [
       "<Figure size 407.75x360 with 1 Axes>"
      ]
     },
     "metadata": {},
     "output_type": "display_data"
    }
   ],
   "source": [
    "sns.displot(tester, x='sub_category_1', hue='is_fraud', kde=True, stat='density')"
   ]
  },
  {
   "cell_type": "code",
   "execution_count": 158,
   "metadata": {},
   "outputs": [
    {
     "data": {
      "text/plain": [
       "<seaborn.axisgrid.FacetGrid at 0x205d3410808>"
      ]
     },
     "execution_count": 158,
     "metadata": {},
     "output_type": "execute_result"
    },
    {
     "data": {
      "image/png": "[encoded data removed]",
      "text/plain": [
       "<Figure size 407.75x360 with 1 Axes>"
      ]
     },
     "metadata": {},
     "output_type": "display_data"
    }
   ],
   "source": [
    "sns.displot(tester, x='sub_category_2', hue='is_fraud', kde=True, stat='density')"
   ]
  },
  {
   "cell_type": "code",
   "execution_count": 162,
   "metadata": {},
   "outputs": [
    {
     "data": {
      "text/html": [
       "<div>\n",
       "<style scoped>\n",
       "    .dataframe tbody tr th:only-of-type {\n",
       "        vertical-align: middle;\n",
       "    }\n",
       "\n",
       "    .dataframe tbody tr th {\n",
       "        vertical-align: top;\n",
       "    }\n",
       "\n",
       "    .dataframe thead th {\n",
       "        text-align: right;\n",
       "    }\n",
       "</style>\n",
       "<table border=\"1\" class=\"dataframe\">\n",
       "  <thead>\n",
       "    <tr style=\"text-align: right;\">\n",
       "      <th></th>\n",
       "      <th>category</th>\n",
       "      <th>sub_category_1</th>\n",
       "      <th>sub_category_2</th>\n",
       "      <th>is_fraud</th>\n",
       "    </tr>\n",
       "  </thead>\n",
       "  <tbody>\n",
       "    <tr>\n",
       "      <th>category</th>\n",
       "      <td>1.000000</td>\n",
       "      <td>0.064687</td>\n",
       "      <td>0.993974</td>\n",
       "      <td>0.097426</td>\n",
       "    </tr>\n",
       "    <tr>\n",
       "      <th>sub_category_1</th>\n",
       "      <td>0.064687</td>\n",
       "      <td>1.000000</td>\n",
       "      <td>0.051546</td>\n",
       "      <td>0.019631</td>\n",
       "    </tr>\n",
       "    <tr>\n",
       "      <th>sub_category_2</th>\n",
       "      <td>0.993974</td>\n",
       "      <td>0.051546</td>\n",
       "      <td>1.000000</td>\n",
       "      <td>0.111248</td>\n",
       "    </tr>\n",
       "    <tr>\n",
       "      <th>is_fraud</th>\n",
       "      <td>0.097426</td>\n",
       "      <td>0.019631</td>\n",
       "      <td>0.111248</td>\n",
       "      <td>1.000000</td>\n",
       "    </tr>\n",
       "  </tbody>\n",
       "</table>\n",
       "</div>"
      ],
      "text/plain": [
       "                category  sub_category_1  sub_category_2  is_fraud\n",
       "category        1.000000        0.064687        0.993974  0.097426\n",
       "sub_category_1  0.064687        1.000000        0.051546  0.019631\n",
       "sub_category_2  0.993974        0.051546        1.000000  0.111248\n",
       "is_fraud        0.097426        0.019631        0.111248  1.000000"
      ]
     },
     "execution_count": 162,
     "metadata": {},
     "output_type": "execute_result"
    }
   ],
   "source": [
    "tester.corr()"
   ]
  },
  {
   "cell_type": "code",
   "execution_count": 170,
   "metadata": {},
   "outputs": [],
   "source": [
    "%%capture\n",
    "\n",
    "for c in ['sub_category_1', 'sub_category_2']:\n",
    "    temp_df = x_train_new.drop(columns=['category'], inplace=False).copy()\n",
    "    temp_df[c] = tester[c]\n",
    "    _model = cross_validate(make_pipeline(StandardScaler(), LogisticRegression()),  temp_df, y_train_new, cv=10,  \n",
    "                            scoring = ('accuracy', 'roc_auc', 'average_precision'))\n",
    "\n",
    "    results['New_Model_' + c] = [np.mean(_model['test_accuracy']), np.mean(_model['test_roc_auc']), np.mean(_model['test_average_precision'])]\n"
   ]
  },
  {
   "cell_type": "code",
   "execution_count": 171,
   "metadata": {},
   "outputs": [
    {
     "data": {
      "text/html": [
       "<div>\n",
       "<style scoped>\n",
       "    .dataframe tbody tr th:only-of-type {\n",
       "        vertical-align: middle;\n",
       "    }\n",
       "\n",
       "    .dataframe tbody tr th {\n",
       "        vertical-align: top;\n",
       "    }\n",
       "\n",
       "    .dataframe thead th {\n",
       "        text-align: right;\n",
       "    }\n",
       "</style>\n",
       "<table border=\"1\" class=\"dataframe\">\n",
       "  <thead>\n",
       "    <tr style=\"text-align: right;\">\n",
       "      <th></th>\n",
       "      <th>Current Model</th>\n",
       "      <th>New_Model_sub_category_1</th>\n",
       "      <th>New_Model_sub_category_2</th>\n",
       "    </tr>\n",
       "  </thead>\n",
       "  <tbody>\n",
       "    <tr>\n",
       "      <th>Accuracy</th>\n",
       "      <td>0.883230</td>\n",
       "      <td>0.880173</td>\n",
       "      <td>0.882097</td>\n",
       "    </tr>\n",
       "    <tr>\n",
       "      <th>AUC</th>\n",
       "      <td>0.917571</td>\n",
       "      <td>0.918599</td>\n",
       "      <td>0.916691</td>\n",
       "    </tr>\n",
       "    <tr>\n",
       "      <th>Precision</th>\n",
       "      <td>0.928227</td>\n",
       "      <td>0.927114</td>\n",
       "      <td>0.927534</td>\n",
       "    </tr>\n",
       "  </tbody>\n",
       "</table>\n",
       "</div>"
      ],
      "text/plain": [
       "           Current Model  New_Model_sub_category_1  New_Model_sub_category_2\n",
       "Accuracy        0.883230                  0.880173                  0.882097\n",
       "AUC             0.917571                  0.918599                  0.916691\n",
       "Precision       0.928227                  0.927114                  0.927534"
      ]
     },
     "execution_count": 171,
     "metadata": {},
     "output_type": "execute_result"
    }
   ],
   "source": [
    "results"
   ]
  },
  {
   "cell_type": "markdown",
   "metadata": {},
   "source": [
    "The _sub_category_1_ feature isnt correlated at all with the original one, thus, we could try them together on the model."
   ]
  },
  {
   "cell_type": "code",
   "execution_count": 172,
   "metadata": {},
   "outputs": [],
   "source": [
    "%%capture\n",
    "temp_df = x_train_new.copy()\n",
    "temp_df['sub_category_1'] = tester['sub_category_1']\n",
    "_model = cross_validate(make_pipeline(StandardScaler(), LogisticRegression()),  temp_df, y_train_new, cv=10,  \n",
    "                        scoring = ('accuracy', 'roc_auc', 'average_precision'))\n",
    "\n",
    "results['Last_of_Category'] = [np.mean(_model['test_accuracy']), np.mean(_model['test_roc_auc']), np.mean(_model['test_average_precision'])]\n"
   ]
  },
  {
   "cell_type": "code",
   "execution_count": 173,
   "metadata": {},
   "outputs": [
    {
     "data": {
      "text/html": [
       "<div>\n",
       "<style scoped>\n",
       "    .dataframe tbody tr th:only-of-type {\n",
       "        vertical-align: middle;\n",
       "    }\n",
       "\n",
       "    .dataframe tbody tr th {\n",
       "        vertical-align: top;\n",
       "    }\n",
       "\n",
       "    .dataframe thead th {\n",
       "        text-align: right;\n",
       "    }\n",
       "</style>\n",
       "<table border=\"1\" class=\"dataframe\">\n",
       "  <thead>\n",
       "    <tr style=\"text-align: right;\">\n",
       "      <th></th>\n",
       "      <th>Current Model</th>\n",
       "      <th>New_Model_sub_category_1</th>\n",
       "      <th>New_Model_sub_category_2</th>\n",
       "      <th>Last_of_Category</th>\n",
       "    </tr>\n",
       "  </thead>\n",
       "  <tbody>\n",
       "    <tr>\n",
       "      <th>Accuracy</th>\n",
       "      <td>0.883230</td>\n",
       "      <td>0.880173</td>\n",
       "      <td>0.882097</td>\n",
       "      <td>0.882517</td>\n",
       "    </tr>\n",
       "    <tr>\n",
       "      <th>AUC</th>\n",
       "      <td>0.917571</td>\n",
       "      <td>0.918599</td>\n",
       "      <td>0.916691</td>\n",
       "      <td>0.922830</td>\n",
       "    </tr>\n",
       "    <tr>\n",
       "      <th>Precision</th>\n",
       "      <td>0.928227</td>\n",
       "      <td>0.927114</td>\n",
       "      <td>0.927534</td>\n",
       "      <td>0.930075</td>\n",
       "    </tr>\n",
       "  </tbody>\n",
       "</table>\n",
       "</div>"
      ],
      "text/plain": [
       "           Current Model  New_Model_sub_category_1  New_Model_sub_category_2  \\\n",
       "Accuracy        0.883230                  0.880173                  0.882097   \n",
       "AUC             0.917571                  0.918599                  0.916691   \n",
       "Precision       0.928227                  0.927114                  0.927534   \n",
       "\n",
       "           Last_of_Category  \n",
       "Accuracy           0.882517  \n",
       "AUC                0.922830  \n",
       "Precision          0.930075  "
      ]
     },
     "execution_count": 173,
     "metadata": {},
     "output_type": "execute_result"
    }
   ],
   "source": [
    "temp_df = _model = None\n",
    "results"
   ]
  },
  {
   "cell_type": "markdown",
   "metadata": {},
   "source": [
    "The results has quite improved, so we should keep this feature."
   ]
  },
  {
   "cell_type": "code",
   "execution_count": 174,
   "metadata": {},
   "outputs": [],
   "source": [
    "results['Current Model'] = results['Last_of_Category']\n",
    "results.drop(columns=['New_Model_sub_category_1', 'New_Model_sub_category_2', 'Last_of_Category'], inplace=True)"
   ]
  },
  {
   "cell_type": "code",
   "execution_count": 189,
   "metadata": {},
   "outputs": [],
   "source": [
    "x_train_new['sub_category'] = tester['sub_category_1']"
   ]
  },
  {
   "cell_type": "markdown",
   "metadata": {},
   "source": [
    "As for the last feature, we'll try to work on _street_ feature:"
   ]
  },
  {
   "cell_type": "code",
   "execution_count": 201,
   "metadata": {},
   "outputs": [],
   "source": [
    "tester = pd.DataFrame()\n",
    "tester['street_number'] = pd.Series(pd.Categorical.from_codes(x_train_new['street'], categories=sorted(x_train['street'].unique()), ordered=False)).apply(lambda z: int(z.split(' ')[0]))\n",
    "tester['street_name'] = pd.Series(pd.Categorical.from_codes(x_train_new['street'], categories=sorted(x_train['street'].unique()), ordered=False)).apply(lambda z: ' '.join(z.split(' ')[1:]))\n",
    "tester['street_name'] = tester['street_name'].astype('category').cat.codes"
   ]
  },
  {
   "cell_type": "code",
   "execution_count": 207,
   "metadata": {},
   "outputs": [],
   "source": [
    "%%capture\n",
    "\n",
    "for c in ['street_name', 'street_number', ['street_name', 'street_number']]:\n",
    "    temp_df = x_train_new.drop(columns=['street'], inplace=False).copy()\n",
    "    temp_df[c] = tester[c]\n",
    "    _model = cross_validate(make_pipeline(StandardScaler(), LogisticRegression()),  temp_df, y_train_new, cv=10,  \n",
    "                            scoring = ('accuracy', 'roc_auc', 'average_precision'))\n",
    "    \n",
    "    name = 'New_Model_' + c if type(c) == 'str' else 'New_Model_' + c[0] + '__' + c[1]\n",
    "    results[name] = [np.mean(_model['test_accuracy']), np.mean(_model['test_roc_auc']), np.mean(_model['test_average_precision'])]\n",
    "\n",
    "temp_df = _model = None"
   ]
  },
  {
   "cell_type": "code",
   "execution_count": 209,
   "metadata": {},
   "outputs": [
    {
     "data": {
      "text/html": [
       "<div>\n",
       "<style scoped>\n",
       "    .dataframe tbody tr th:only-of-type {\n",
       "        vertical-align: middle;\n",
       "    }\n",
       "\n",
       "    .dataframe tbody tr th {\n",
       "        vertical-align: top;\n",
       "    }\n",
       "\n",
       "    .dataframe thead th {\n",
       "        text-align: right;\n",
       "    }\n",
       "</style>\n",
       "<table border=\"1\" class=\"dataframe\">\n",
       "  <thead>\n",
       "    <tr style=\"text-align: right;\">\n",
       "      <th></th>\n",
       "      <th>Current Model</th>\n",
       "      <th>New_Model_s__t</th>\n",
       "      <th>New_Model_street_name__street_number</th>\n",
       "    </tr>\n",
       "  </thead>\n",
       "  <tbody>\n",
       "    <tr>\n",
       "      <th>Accuracy</th>\n",
       "      <td>0.882517</td>\n",
       "      <td>0.88255</td>\n",
       "      <td>0.882542</td>\n",
       "    </tr>\n",
       "    <tr>\n",
       "      <th>AUC</th>\n",
       "      <td>0.922830</td>\n",
       "      <td>0.92287</td>\n",
       "      <td>0.922882</td>\n",
       "    </tr>\n",
       "    <tr>\n",
       "      <th>Precision</th>\n",
       "      <td>0.930075</td>\n",
       "      <td>0.93011</td>\n",
       "      <td>0.930115</td>\n",
       "    </tr>\n",
       "  </tbody>\n",
       "</table>\n",
       "</div>"
      ],
      "text/plain": [
       "           Current Model  New_Model_s__t  New_Model_street_name__street_number\n",
       "Accuracy        0.882517         0.88255                              0.882542\n",
       "AUC             0.922830         0.92287                              0.922882\n",
       "Precision       0.930075         0.93011                              0.930115"
      ]
     },
     "execution_count": 209,
     "metadata": {},
     "output_type": "execute_result"
    }
   ],
   "source": [
    "results"
   ]
  },
  {
   "cell_type": "markdown",
   "metadata": {},
   "source": [
    "Both new features are good enough to replace the old one."
   ]
  },
  {
   "cell_type": "code",
   "execution_count": 212,
   "metadata": {},
   "outputs": [],
   "source": [
    "x_train_new['street_number'] = pd.Series(pd.Categorical.from_codes(x_train_new['street'], categories=sorted(x_train['street'].unique()), ordered=False)).apply(lambda z: int(z.split(' ')[0]))\n",
    "x_train_new['street_name'] = pd.Series(pd.Categorical.from_codes(x_train_new['street'], categories=sorted(x_train['street'].unique()), ordered=False)).apply(lambda z: ' '.join(z.split(' ')[1:]))\n",
    "x_train_new['street_name'] = x_train_new['street_name'].astype('category').cat.codes\n",
    "tester = None"
   ]
  },
  {
   "cell_type": "markdown",
   "metadata": {},
   "source": [
    "## Task 4 Any model\n",
    "Use any classification model we discussed (trees, forests, boosting, SVM) to improve your result. You can (and probably should) change your preprocessing and feature engineering to be suitable for the model. You are not required to try all of these models. Tune parameters as appropriate"
   ]
  },
  {
   "cell_type": "code",
   "execution_count": 1,
   "metadata": {},
   "outputs": [],
   "source": [
    "import pandas as pd\n",
    "import numpy as np\n",
    "import seaborn as sns\n",
    "from matplotlib import pyplot as plt\n",
    "from imblearn.over_sampling import SMOTE\n",
    "from sklearn.model_selection import cross_val_score, train_test_split, cross_validate\n",
    "from sklearn.linear_model import LogisticRegression\n",
    "from sklearn.pipeline import make_pipeline, Pipeline\n",
    "from sklearn.preprocessing import StandardScaler, OneHotEncoder\n",
    "from sklearn.compose import make_column_transformer, ColumnTransformer\n",
    "# Pick up from last point of pre processing (should be used for the final product):\n",
    "\n",
    "one_hotted = one_hotted = ['gender', 'sub_category', 'category']\n",
    "def preProcess(x_df: pd.DataFrame, y_df, encode=False) -> pd.DataFrame:\n",
    "    x = x_df.copy()\n",
    "\n",
    "    as_time = pd.to_datetime(x['unix_time'], unit='s')\n",
    "\n",
    "    x['zip'] = x['zip'].astype(object)\n",
    "    x['hour_minute_sec'] = as_time.apply(lambda z: z.hour) + as_time.apply(lambda z: z.minute/60) + as_time.apply(lambda z: z.second/3600)\n",
    "    x['sub_category'] = x['category'].apply(lambda z: z if len(z.split('_')) == 0 else z.split('_')[-1])\n",
    "    x['street_name'] = x['street'].apply(lambda z: ' '.join(z.split(' ')[1:]))\n",
    "    x['street_number'] = x['street'].apply(lambda z: int(z.split(' ')[0]))\n",
    "    x.drop(columns=['street'], inplace=True)\n",
    "    \n",
    "    credit_cards = pd.DataFrame()\n",
    "    credit_cards['cc_num'] = x['cc_num'].copy()\n",
    "    \n",
    "    credit_cards['unix_time'] = x['unix_time']\n",
    "    credit_cards = credit_cards.iloc[np.argsort(credit_cards['unix_time'])]\n",
    "    \n",
    "    credit_cards['diff'] = credit_cards.groupby(by=['cc_num']).diff()['unix_time']\n",
    "    is_nan = credit_cards.isna()['diff']\n",
    "    credit_cards.fillna(value=0, inplace=True)\n",
    "    credit_cards['time_diff'] = pd.to_datetime(credit_cards['diff'], unit='s')\n",
    "    credit_cards['time_diff'] = credit_cards['time_diff'].apply(lambda z: z.day + z.hour/24 + z.minute/(24*60) + z.second/(24*3600))\n",
    "    credit_cards.loc[is_nan] = 0\n",
    "    \n",
    "    x['time_diff'] = credit_cards['time_diff'].copy()\n",
    "    x['job'] = x['job'].apply(lambda _x: _x.split(',')[0])\n",
    "    \n",
    "    credit_cards = None\n",
    "    x = x.drop(columns=['unix_time'], inplace=False)\n",
    "\n",
    "    categorical = x.dtypes == object\n",
    "    x.loc[:, categorical] = x.loc[:, categorical].apply(lambda z: z.astype('category'))\n",
    "    \n",
    "    def featureEnhancement(_x: pd.DataFrame, _y: pd.DataFrame):\n",
    "        is_fraud = _y == 1\n",
    "        dangures_streets_names = []\n",
    "    \n",
    "        uniqes_fraud_streets = _x.loc[is_fraud]['street_name'].value_counts().where(lambda __x : __x > 0).dropna()\n",
    "        uniqes_legit_streets = _x.loc[~is_fraud]['street_name'].value_counts().where(lambda __x : __x > 0).dropna()\n",
    "\n",
    "        uniqe_diff = len(uniqes_fraud_streets) / len(uniqes_legit_streets)\n",
    "        upper_bound = int(uniqe_diff * len(uniqes_legit_streets))\n",
    "        uniqes_fraud_precentail = 0.20\n",
    "\n",
    "        most_dangures_streets = uniqes_fraud_streets.head(int(uniqes_fraud_precentail * len(uniqes_fraud_streets)))\n",
    "        most_popular_streets = uniqes_legit_streets.head(upper_bound)\n",
    "    \n",
    "        for index in most_dangures_streets.index:\n",
    "            if (index not in most_popular_streets.index):\n",
    "                dangures_streets_names.append(index)\n",
    "            \n",
    "        dangures_streets_names\n",
    "        _x['dangerous_street'] = _x['street_name'].apply(lambda z: 1 if z in dangures_streets_names else 0)\n",
    "        return _x\n",
    "    \n",
    "    x = featureEnhancement(x.copy(), y_df.copy())\n",
    "    categorical = x.dtypes == 'category'\n",
    "    \n",
    "    if encode:\n",
    "        one_categorical = np.array([c in one_hotted for c in x.columns])\n",
    "        x.loc[:, ~one_categorical & categorical] = x.loc[:, ~one_categorical & categorical].apply(lambda z: z.cat.codes)\n",
    "        dummies = pd.get_dummies(x.loc[:, one_categorical])\n",
    "        x.drop(columns=one_hotted, inplace=True)\n",
    "        x.loc[:, dummies.columns] = dummies\n",
    "        \n",
    "    \n",
    "    return x"
   ]
  },
  {
   "cell_type": "code",
   "execution_count": 2,
   "metadata": {},
   "outputs": [
    {
     "name": "stderr",
     "output_type": "stream",
     "text": [
      "c:\\Users\\tomda\\source\\pytho\\lib\\site-packages\\numpy\\lib\\arraysetops.py:583: FutureWarning: elementwise comparison failed; returning scalar instead, but in the future will perform elementwise comparison\n",
      "  mask |= (ar1 == a)\n"
     ]
    },
    {
     "name": "stdout",
     "output_type": "stream",
     "text": [
      "Wall time: 57.6 s\n"
     ]
    }
   ],
   "source": [
    "%%time\n",
    "x_train = pd.read_csv('fraudTrain.csv', index_col=0)\n",
    "y_train = x_train['is_fraud']\n",
    "x_train.drop(columns=['is_fraud', 'long', 'lat', 'trans_num', 'trans_date_trans_time'], inplace=True)\n",
    "\n",
    "x_train = preProcess(x_train, y_train)\n",
    "\n",
    "categorical = x_train.dtypes == 'category'\n",
    "one_categorical = np.array([c in one_hotted for c in x_train.columns])\n",
    "temp_df = x_train.copy()\n",
    "temp_df.loc[:, ~one_categorical & categorical] = temp_df.loc[:, ~one_categorical & categorical].apply(lambda _x: _x.cat.codes)\n",
    "dummies = pd.get_dummies(temp_df.loc[:, one_categorical])\n",
    "temp_df.drop(columns=one_hotted, inplace=True)\n",
    "temp_df.loc[:, dummies.columns] = dummies\n",
    "\n",
    "x_train_new, y_train_new = SMOTE().fit_resample(temp_df, y_train)\n",
    "temp_df = dummies = None"
   ]
  },
  {
   "cell_type": "code",
   "execution_count": 55,
   "metadata": {},
   "outputs": [
    {
     "data": {
      "text/html": [
       "<div>\n",
       "<style scoped>\n",
       "    .dataframe tbody tr th:only-of-type {\n",
       "        vertical-align: middle;\n",
       "    }\n",
       "\n",
       "    .dataframe tbody tr th {\n",
       "        vertical-align: top;\n",
       "    }\n",
       "\n",
       "    .dataframe thead th {\n",
       "        text-align: right;\n",
       "    }\n",
       "</style>\n",
       "<table border=\"1\" class=\"dataframe\">\n",
       "  <thead>\n",
       "    <tr style=\"text-align: right;\">\n",
       "      <th></th>\n",
       "      <th>cc_num</th>\n",
       "      <th>merchant</th>\n",
       "      <th>category</th>\n",
       "      <th>amt</th>\n",
       "      <th>first</th>\n",
       "      <th>last</th>\n",
       "      <th>gender</th>\n",
       "      <th>city</th>\n",
       "      <th>state</th>\n",
       "      <th>zip</th>\n",
       "      <th>...</th>\n",
       "      <th>job</th>\n",
       "      <th>dob</th>\n",
       "      <th>merch_lat</th>\n",
       "      <th>merch_long</th>\n",
       "      <th>hour_minute_sec</th>\n",
       "      <th>sub_category</th>\n",
       "      <th>street_name</th>\n",
       "      <th>street_number</th>\n",
       "      <th>time_diff</th>\n",
       "      <th>dangerous_street</th>\n",
       "    </tr>\n",
       "  </thead>\n",
       "  <tbody>\n",
       "    <tr>\n",
       "      <th>0</th>\n",
       "      <td>2703186189652095</td>\n",
       "      <td>fraud_Rippin, Kub and Mann</td>\n",
       "      <td>misc_net</td>\n",
       "      <td>4.97</td>\n",
       "      <td>Jennifer</td>\n",
       "      <td>Banks</td>\n",
       "      <td>F</td>\n",
       "      <td>Moravian Falls</td>\n",
       "      <td>NC</td>\n",
       "      <td>28654</td>\n",
       "      <td>...</td>\n",
       "      <td>Psychologist</td>\n",
       "      <td>1988-03-09</td>\n",
       "      <td>36.011293</td>\n",
       "      <td>-82.048315</td>\n",
       "      <td>0.005000</td>\n",
       "      <td>net</td>\n",
       "      <td>Perry Cove</td>\n",
       "      <td>561</td>\n",
       "      <td>0.0</td>\n",
       "      <td>0</td>\n",
       "    </tr>\n",
       "    <tr>\n",
       "      <th>1</th>\n",
       "      <td>630423337322</td>\n",
       "      <td>fraud_Heller, Gutmann and Zieme</td>\n",
       "      <td>grocery_pos</td>\n",
       "      <td>107.23</td>\n",
       "      <td>Stephanie</td>\n",
       "      <td>Gill</td>\n",
       "      <td>F</td>\n",
       "      <td>Orient</td>\n",
       "      <td>WA</td>\n",
       "      <td>99160</td>\n",
       "      <td>...</td>\n",
       "      <td>Special educational needs teacher</td>\n",
       "      <td>1978-06-21</td>\n",
       "      <td>49.159047</td>\n",
       "      <td>-118.186462</td>\n",
       "      <td>0.012222</td>\n",
       "      <td>pos</td>\n",
       "      <td>Riley Greens Suite 393</td>\n",
       "      <td>43039</td>\n",
       "      <td>0.0</td>\n",
       "      <td>0</td>\n",
       "    </tr>\n",
       "    <tr>\n",
       "      <th>2</th>\n",
       "      <td>38859492057661</td>\n",
       "      <td>fraud_Lind-Buckridge</td>\n",
       "      <td>entertainment</td>\n",
       "      <td>220.11</td>\n",
       "      <td>Edward</td>\n",
       "      <td>Sanchez</td>\n",
       "      <td>M</td>\n",
       "      <td>Malad City</td>\n",
       "      <td>ID</td>\n",
       "      <td>83252</td>\n",
       "      <td>...</td>\n",
       "      <td>Nature conservation officer</td>\n",
       "      <td>1962-01-19</td>\n",
       "      <td>43.150704</td>\n",
       "      <td>-112.154481</td>\n",
       "      <td>0.014167</td>\n",
       "      <td>entertainment</td>\n",
       "      <td>White Dale Suite 530</td>\n",
       "      <td>594</td>\n",
       "      <td>0.0</td>\n",
       "      <td>0</td>\n",
       "    </tr>\n",
       "  </tbody>\n",
       "</table>\n",
       "<p>3 rows × 21 columns</p>\n",
       "</div>"
      ],
      "text/plain": [
       "             cc_num                         merchant       category     amt  \\\n",
       "0  2703186189652095       fraud_Rippin, Kub and Mann       misc_net    4.97   \n",
       "1      630423337322  fraud_Heller, Gutmann and Zieme    grocery_pos  107.23   \n",
       "2    38859492057661             fraud_Lind-Buckridge  entertainment  220.11   \n",
       "\n",
       "       first     last gender            city state    zip  ...  \\\n",
       "0   Jennifer    Banks      F  Moravian Falls    NC  28654  ...   \n",
       "1  Stephanie     Gill      F          Orient    WA  99160  ...   \n",
       "2     Edward  Sanchez      M      Malad City    ID  83252  ...   \n",
       "\n",
       "                                 job         dob  merch_lat  merch_long  \\\n",
       "0                       Psychologist  1988-03-09  36.011293  -82.048315   \n",
       "1  Special educational needs teacher  1978-06-21  49.159047 -118.186462   \n",
       "2        Nature conservation officer  1962-01-19  43.150704 -112.154481   \n",
       "\n",
       "   hour_minute_sec   sub_category             street_name street_number  \\\n",
       "0         0.005000            net              Perry Cove           561   \n",
       "1         0.012222            pos  Riley Greens Suite 393         43039   \n",
       "2         0.014167  entertainment    White Dale Suite 530           594   \n",
       "\n",
       "   time_diff  dangerous_street  \n",
       "0        0.0                 0  \n",
       "1        0.0                 0  \n",
       "2        0.0                 0  \n",
       "\n",
       "[3 rows x 21 columns]"
      ]
     },
     "execution_count": 55,
     "metadata": {},
     "output_type": "execute_result"
    }
   ],
   "source": [
    "x_train.head(3)"
   ]
  },
  {
   "cell_type": "code",
   "execution_count": 56,
   "metadata": {},
   "outputs": [
    {
     "data": {
      "text/html": [
       "<div>\n",
       "<style scoped>\n",
       "    .dataframe tbody tr th:only-of-type {\n",
       "        vertical-align: middle;\n",
       "    }\n",
       "\n",
       "    .dataframe tbody tr th {\n",
       "        vertical-align: top;\n",
       "    }\n",
       "\n",
       "    .dataframe thead th {\n",
       "        text-align: right;\n",
       "    }\n",
       "</style>\n",
       "<table border=\"1\" class=\"dataframe\">\n",
       "  <thead>\n",
       "    <tr style=\"text-align: right;\">\n",
       "      <th></th>\n",
       "      <th>cc_num</th>\n",
       "      <th>merchant</th>\n",
       "      <th>amt</th>\n",
       "      <th>first</th>\n",
       "      <th>last</th>\n",
       "      <th>city</th>\n",
       "      <th>state</th>\n",
       "      <th>zip</th>\n",
       "      <th>city_pop</th>\n",
       "      <th>job</th>\n",
       "      <th>...</th>\n",
       "      <th>sub_category_care</th>\n",
       "      <th>sub_category_dining</th>\n",
       "      <th>sub_category_entertainment</th>\n",
       "      <th>sub_category_fitness</th>\n",
       "      <th>sub_category_home</th>\n",
       "      <th>sub_category_net</th>\n",
       "      <th>sub_category_pets</th>\n",
       "      <th>sub_category_pos</th>\n",
       "      <th>sub_category_transport</th>\n",
       "      <th>sub_category_travel</th>\n",
       "    </tr>\n",
       "  </thead>\n",
       "  <tbody>\n",
       "    <tr>\n",
       "      <th>0</th>\n",
       "      <td>2703186189652095</td>\n",
       "      <td>514</td>\n",
       "      <td>4.97</td>\n",
       "      <td>162</td>\n",
       "      <td>18</td>\n",
       "      <td>526</td>\n",
       "      <td>27</td>\n",
       "      <td>265</td>\n",
       "      <td>3495</td>\n",
       "      <td>318</td>\n",
       "      <td>...</td>\n",
       "      <td>0</td>\n",
       "      <td>0</td>\n",
       "      <td>0</td>\n",
       "      <td>0</td>\n",
       "      <td>0</td>\n",
       "      <td>1</td>\n",
       "      <td>0</td>\n",
       "      <td>0</td>\n",
       "      <td>0</td>\n",
       "      <td>0</td>\n",
       "    </tr>\n",
       "    <tr>\n",
       "      <th>1</th>\n",
       "      <td>630423337322</td>\n",
       "      <td>241</td>\n",
       "      <td>107.23</td>\n",
       "      <td>309</td>\n",
       "      <td>157</td>\n",
       "      <td>612</td>\n",
       "      <td>47</td>\n",
       "      <td>965</td>\n",
       "      <td>149</td>\n",
       "      <td>363</td>\n",
       "      <td>...</td>\n",
       "      <td>0</td>\n",
       "      <td>0</td>\n",
       "      <td>0</td>\n",
       "      <td>0</td>\n",
       "      <td>0</td>\n",
       "      <td>0</td>\n",
       "      <td>0</td>\n",
       "      <td>1</td>\n",
       "      <td>0</td>\n",
       "      <td>0</td>\n",
       "    </tr>\n",
       "    <tr>\n",
       "      <th>2</th>\n",
       "      <td>38859492057661</td>\n",
       "      <td>390</td>\n",
       "      <td>220.11</td>\n",
       "      <td>115</td>\n",
       "      <td>381</td>\n",
       "      <td>468</td>\n",
       "      <td>13</td>\n",
       "      <td>858</td>\n",
       "      <td>4154</td>\n",
       "      <td>261</td>\n",
       "      <td>...</td>\n",
       "      <td>0</td>\n",
       "      <td>0</td>\n",
       "      <td>1</td>\n",
       "      <td>0</td>\n",
       "      <td>0</td>\n",
       "      <td>0</td>\n",
       "      <td>0</td>\n",
       "      <td>0</td>\n",
       "      <td>0</td>\n",
       "      <td>0</td>\n",
       "    </tr>\n",
       "  </tbody>\n",
       "</table>\n",
       "<p>3 rows × 44 columns</p>\n",
       "</div>"
      ],
      "text/plain": [
       "             cc_num  merchant     amt  first  last  city  state  zip  \\\n",
       "0  2703186189652095       514    4.97    162    18   526     27  265   \n",
       "1      630423337322       241  107.23    309   157   612     47  965   \n",
       "2    38859492057661       390  220.11    115   381   468     13  858   \n",
       "\n",
       "   city_pop  job  ...  sub_category_care  sub_category_dining  \\\n",
       "0      3495  318  ...                  0                    0   \n",
       "1       149  363  ...                  0                    0   \n",
       "2      4154  261  ...                  0                    0   \n",
       "\n",
       "   sub_category_entertainment  sub_category_fitness  sub_category_home  \\\n",
       "0                           0                     0                  0   \n",
       "1                           0                     0                  0   \n",
       "2                           1                     0                  0   \n",
       "\n",
       "   sub_category_net  sub_category_pets  sub_category_pos  \\\n",
       "0                 1                  0                 0   \n",
       "1                 0                  0                 1   \n",
       "2                 0                  0                 0   \n",
       "\n",
       "   sub_category_transport  sub_category_travel  \n",
       "0                       0                    0  \n",
       "1                       0                    0  \n",
       "2                       0                    0  \n",
       "\n",
       "[3 rows x 44 columns]"
      ]
     },
     "execution_count": 56,
     "metadata": {},
     "output_type": "execute_result"
    }
   ],
   "source": [
    "x_train_new.head(3)"
   ]
  },
  {
   "cell_type": "code",
   "execution_count": 3,
   "metadata": {},
   "outputs": [
    {
     "name": "stdout",
     "output_type": "stream",
     "text": [
      "Wall time: 23.5 s\n"
     ]
    }
   ],
   "source": [
    "%%time\n",
    "x_test = pd.read_csv('fraudTest.csv', index_col=0)\n",
    "y_test = x_test['is_fraud']\n",
    "x_test.drop(columns=['is_fraud', 'long', 'lat', 'trans_num', 'trans_date_trans_time'], inplace=True)\n",
    "\n",
    "x_test = preProcess(x_test, y_test, encode=True)"
   ]
  },
  {
   "cell_type": "code",
   "execution_count": 61,
   "metadata": {},
   "outputs": [
    {
     "data": {
      "text/html": [
       "<div>\n",
       "<style scoped>\n",
       "    .dataframe tbody tr th:only-of-type {\n",
       "        vertical-align: middle;\n",
       "    }\n",
       "\n",
       "    .dataframe tbody tr th {\n",
       "        vertical-align: top;\n",
       "    }\n",
       "\n",
       "    .dataframe thead th {\n",
       "        text-align: right;\n",
       "    }\n",
       "</style>\n",
       "<table border=\"1\" class=\"dataframe\">\n",
       "  <thead>\n",
       "    <tr style=\"text-align: right;\">\n",
       "      <th></th>\n",
       "      <th>cc_num</th>\n",
       "      <th>merchant</th>\n",
       "      <th>amt</th>\n",
       "      <th>first</th>\n",
       "      <th>last</th>\n",
       "      <th>city</th>\n",
       "      <th>state</th>\n",
       "      <th>zip</th>\n",
       "      <th>city_pop</th>\n",
       "      <th>job</th>\n",
       "      <th>...</th>\n",
       "      <th>sub_category_care</th>\n",
       "      <th>sub_category_dining</th>\n",
       "      <th>sub_category_entertainment</th>\n",
       "      <th>sub_category_fitness</th>\n",
       "      <th>sub_category_home</th>\n",
       "      <th>sub_category_net</th>\n",
       "      <th>sub_category_pets</th>\n",
       "      <th>sub_category_pos</th>\n",
       "      <th>sub_category_transport</th>\n",
       "      <th>sub_category_travel</th>\n",
       "    </tr>\n",
       "  </thead>\n",
       "  <tbody>\n",
       "    <tr>\n",
       "      <th>0</th>\n",
       "      <td>2291163933867244</td>\n",
       "      <td>319</td>\n",
       "      <td>2.86</td>\n",
       "      <td>151</td>\n",
       "      <td>115</td>\n",
       "      <td>157</td>\n",
       "      <td>39</td>\n",
       "      <td>254</td>\n",
       "      <td>333497</td>\n",
       "      <td>230</td>\n",
       "      <td>...</td>\n",
       "      <td>1</td>\n",
       "      <td>0</td>\n",
       "      <td>0</td>\n",
       "      <td>0</td>\n",
       "      <td>0</td>\n",
       "      <td>0</td>\n",
       "      <td>0</td>\n",
       "      <td>0</td>\n",
       "      <td>0</td>\n",
       "      <td>0</td>\n",
       "    </tr>\n",
       "    <tr>\n",
       "      <th>1</th>\n",
       "      <td>3573030041201292</td>\n",
       "      <td>591</td>\n",
       "      <td>29.84</td>\n",
       "      <td>163</td>\n",
       "      <td>457</td>\n",
       "      <td>16</td>\n",
       "      <td>43</td>\n",
       "      <td>811</td>\n",
       "      <td>302</td>\n",
       "      <td>336</td>\n",
       "      <td>...</td>\n",
       "      <td>1</td>\n",
       "      <td>0</td>\n",
       "      <td>0</td>\n",
       "      <td>0</td>\n",
       "      <td>0</td>\n",
       "      <td>0</td>\n",
       "      <td>0</td>\n",
       "      <td>0</td>\n",
       "      <td>0</td>\n",
       "      <td>0</td>\n",
       "    </tr>\n",
       "    <tr>\n",
       "      <th>2</th>\n",
       "      <td>3598215285024754</td>\n",
       "      <td>611</td>\n",
       "      <td>41.28</td>\n",
       "      <td>24</td>\n",
       "      <td>249</td>\n",
       "      <td>61</td>\n",
       "      <td>33</td>\n",
       "      <td>69</td>\n",
       "      <td>34496</td>\n",
       "      <td>214</td>\n",
       "      <td>...</td>\n",
       "      <td>0</td>\n",
       "      <td>0</td>\n",
       "      <td>0</td>\n",
       "      <td>1</td>\n",
       "      <td>0</td>\n",
       "      <td>0</td>\n",
       "      <td>0</td>\n",
       "      <td>0</td>\n",
       "      <td>0</td>\n",
       "      <td>0</td>\n",
       "    </tr>\n",
       "  </tbody>\n",
       "</table>\n",
       "<p>3 rows × 44 columns</p>\n",
       "</div>"
      ],
      "text/plain": [
       "             cc_num  merchant    amt  first  last  city  state  zip  city_pop  \\\n",
       "0  2291163933867244       319   2.86    151   115   157     39  254    333497   \n",
       "1  3573030041201292       591  29.84    163   457    16     43  811       302   \n",
       "2  3598215285024754       611  41.28     24   249    61     33   69     34496   \n",
       "\n",
       "   job  ...  sub_category_care  sub_category_dining  \\\n",
       "0  230  ...                  1                    0   \n",
       "1  336  ...                  1                    0   \n",
       "2  214  ...                  0                    0   \n",
       "\n",
       "   sub_category_entertainment  sub_category_fitness  sub_category_home  \\\n",
       "0                           0                     0                  0   \n",
       "1                           0                     0                  0   \n",
       "2                           0                     1                  0   \n",
       "\n",
       "   sub_category_net  sub_category_pets  sub_category_pos  \\\n",
       "0                 0                  0                 0   \n",
       "1                 0                  0                 0   \n",
       "2                 0                  0                 0   \n",
       "\n",
       "   sub_category_transport  sub_category_travel  \n",
       "0                       0                    0  \n",
       "1                       0                    0  \n",
       "2                       0                    0  \n",
       "\n",
       "[3 rows x 44 columns]"
      ]
     },
     "execution_count": 61,
     "metadata": {},
     "output_type": "execute_result"
    }
   ],
   "source": [
    "x_test.head(3)"
   ]
  },
  {
   "cell_type": "code",
   "execution_count": 4,
   "metadata": {},
   "outputs": [
    {
     "name": "stdout",
     "output_type": "stream",
     "text": [
      "Wall time: 1min 20s\n"
     ]
    },
    {
     "name": "stderr",
     "output_type": "stream",
     "text": [
      "c:\\Users\\tomda\\source\\pytho\\lib\\site-packages\\sklearn\\linear_model\\_logistic.py:765: ConvergenceWarning: lbfgs failed to converge (status=1):\n",
      "STOP: TOTAL NO. of ITERATIONS REACHED LIMIT.\n",
      "\n",
      "Increase the number of iterations (max_iter) or scale the data as shown in:\n",
      "    https://scikit-learn.org/stable/modules/preprocessing.html\n",
      "Please also refer to the documentation for alternative solver options:\n",
      "    https://scikit-learn.org/stable/modules/linear_model.html#logistic-regression\n",
      "  extra_warning_msg=_LOGISTIC_SOLVER_CONVERGENCE_MSG)\n"
     ]
    }
   ],
   "source": [
    "%%time\n",
    "baseline_model = make_pipeline(StandardScaler(), LogisticRegression()).fit(x_train_new, y_train_new)"
   ]
  },
  {
   "cell_type": "code",
   "execution_count": 5,
   "metadata": {},
   "outputs": [
    {
     "data": {
      "text/plain": [
       "0.9860019182356551"
      ]
     },
     "execution_count": 5,
     "metadata": {},
     "output_type": "execute_result"
    }
   ],
   "source": [
    "baseline_model.score(x_test, y_test)"
   ]
  },
  {
   "cell_type": "code",
   "execution_count": 6,
   "metadata": {},
   "outputs": [
    {
     "name": "stdout",
     "output_type": "stream",
     "text": [
      "              precision    recall  f1-score   support\n",
      "\n",
      "       Clear       1.00      0.99      0.99    553574\n",
      "       Fraud       0.18      0.72      0.28      2145\n",
      "\n",
      "    accuracy                           0.99    555719\n",
      "   macro avg       0.59      0.85      0.64    555719\n",
      "weighted avg       1.00      0.99      0.99    555719\n",
      "\n",
      "AUC = 0.8520302531152029\n"
     ]
    }
   ],
   "source": [
    "from sklearn.metrics import classification_report, roc_auc_score, plot_roc_curve, plot_confusion_matrix\n",
    "print(classification_report(y_test, baseline_model.predict(x_test), target_names=['Clear','Fraud']))\n",
    "print(f'AUC = {roc_auc_score(y_test, baseline_model.predict(x_test))}')"
   ]
  },
  {
   "cell_type": "code",
   "execution_count": 7,
   "metadata": {},
   "outputs": [
    {
     "data": {
      "image/png": "[encoded data removed]",
      "text/plain": [
       "<Figure size 864x432 with 3 Axes>"
      ]
     },
     "metadata": {
      "needs_background": "light"
     },
     "output_type": "display_data"
    }
   ],
   "source": [
    "plt.figure(figsize=(12, 6))\n",
    "plt.subplot(1, 2, 1)\n",
    "plt.title('Confusion Matrix for Baseline Model')\n",
    "plot_confusion_matrix(baseline_model, x_test, y_test, ax=plt.gca())\n",
    "plt.subplot(1, 2, 2)\n",
    "plt.grid()\n",
    "plt.title('Receiver Operating Characteristic Curve for Baseline Model')\n",
    "plot_roc_curve(baseline_model, x_test, y_test, ax=plt.gca())\n",
    "plt.show()"
   ]
  },
  {
   "cell_type": "markdown",
   "metadata": {},
   "source": [
    "#### Midway summary:\n",
    "We chose Logistic Regression as our baseline model (with data scaling). This pipline is doing an \"OK\" job with the data classification, but we obviously would like a model that can do better. Thus, we'll try out some other classification models.\n",
    "\n",
    "### Gradient Boosting:"
   ]
  },
  {
   "cell_type": "code",
   "execution_count": null,
   "metadata": {},
   "outputs": [],
   "source": [
    "#!pip install xgboost\n",
    "#!pip install tune-sklearn\n",
    "#!pip install dask-ml"
   ]
  },
  {
   "cell_type": "code",
   "execution_count": 8,
   "metadata": {},
   "outputs": [
    {
     "name": "stdout",
     "output_type": "stream",
     "text": [
      "(array([0, 1], dtype=int64), array([29712, 30288], dtype=int64))\n"
     ]
    }
   ],
   "source": [
    "N = np.append(np.arange(0, 30 * 10 ** 3), np.arange(len(y_train_new) - 30 * 10 ** 3, len(y_train_new)))\n",
    "print(np.unique(y_train_new[N], return_counts=True))"
   ]
  },
  {
   "cell_type": "code",
   "execution_count": null,
   "metadata": {},
   "outputs": [],
   "source": [
    "%%time\n",
    "from dask.distributed import Client\n",
    "import joblib\n",
    "from sklearn.model_selection import RandomizedSearchCV, GridSearchCV\n",
    "from sklearn.ensemble import GradientBoostingClassifier as GBC\n",
    "client = Client(processes=False)\n",
    "\n",
    "param_space = {\n",
    "    'model__learning_rate': np.logspace(-6, 1, 10),\n",
    "    'model__n_estimators': [90, 100, 110, 120],\n",
    "    'model__loss': ['deviance', 'exponential'],\n",
    "    \n",
    "}\n",
    "model = Pipeline(steps=[('scaler', StandardScaler()), ('model', GBC(verbose=True, n_iter_no_change=5, tol=0.001))])\n",
    "model = GridSearchCV(model, param_grid=param_space, cv=3, return_train_score=True, verbose=10)\n",
    "\n",
    "with joblib.parallel_backend('dask'):\n",
    "    model.fit(x_train_new.iloc[N, :], y_train_new[N])\n",
    "    \n",
    "client.close()"
   ]
  },
  {
   "cell_type": "code",
   "execution_count": 69,
   "metadata": {},
   "outputs": [
    {
     "data": {
      "text/plain": [
       "0.9908"
      ]
     },
     "execution_count": 69,
     "metadata": {},
     "output_type": "execute_result"
    }
   ],
   "source": [
    "model.best_score_"
   ]
  },
  {
   "cell_type": "code",
   "execution_count": 79,
   "metadata": {},
   "outputs": [
    {
     "name": "stderr",
     "output_type": "stream",
     "text": [
      "c:\\Users\\tomda\\source\\pytho\\lib\\site-packages\\distributed\\node.py:155: UserWarning: Port 8787 is already in use.\n",
      "Perhaps you already have a cluster running?\n",
      "Hosting the HTTP server on port 5108 instead\n",
      "  http_address[\"port\"], self.http_server.port\n"
     ]
    },
    {
     "name": "stdout",
     "output_type": "stream",
     "text": [
      "      Iter       Train Loss   Remaining Time \n",
      "         1           1.0735           61.79m\n",
      "         2           0.8923           57.31m\n",
      "         3           0.7793           54.01m\n",
      "         4           0.6969           52.99m\n",
      "         5           0.6429           51.69m\n",
      "         6           0.6002           51.72m\n",
      "         7           0.5719           50.83m\n",
      "         8           0.5467           50.01m\n",
      "         9           0.5258           49.52m\n",
      "        10           0.5061           48.75m\n",
      "        20           0.3681           43.89m\n",
      "        30           0.2812           39.27m\n",
      "        40           0.2233           35.28m\n",
      "        50           0.1821           30.73m\n",
      "        60           0.1488           26.12m\n",
      "        70           0.1245           21.62m\n",
      "        80           0.1063           17.23m\n",
      "        90           0.0932           13.04m\n",
      "       100           0.0827            8.70m\n",
      "Wall time: 52min 14s\n"
     ]
    }
   ],
   "source": [
    "%%time\n",
    "model = model.best_estimator_\n",
    "client = Client(processes=False)\n",
    "with joblib.parallel_backend('dask'):\n",
    "    model = model.fit(x_train_new, y_train_new)"
   ]
  },
  {
   "cell_type": "code",
   "execution_count": 86,
   "metadata": {},
   "outputs": [
    {
     "name": "stdout",
     "output_type": "stream",
     "text": [
      "score = 0.9934409296784886\n"
     ]
    },
    {
     "data": {
      "text/plain": [
       "Pipeline(steps=[('scaler', StandardScaler()),\n",
       "                ('model',\n",
       "                 GradientBoostingClassifier(learning_rate=0.2782559402207126,\n",
       "                                            n_estimators=120,\n",
       "                                            n_iter_no_change=5, tol=0.001,\n",
       "                                            verbose=True))])"
      ]
     },
     "execution_count": 86,
     "metadata": {},
     "output_type": "execute_result"
    }
   ],
   "source": [
    "print(f'score = {model.score(x_test, y_test)}')\n",
    "model"
   ]
  },
  {
   "cell_type": "code",
   "execution_count": 83,
   "metadata": {},
   "outputs": [
    {
     "name": "stdout",
     "output_type": "stream",
     "text": [
      "              precision    recall  f1-score   support\n",
      "\n",
      "       Clear       1.00      0.99      1.00    553574\n",
      "       Fraud       0.36      0.91      0.52      2145\n",
      "\n",
      "    accuracy                           0.99    555719\n",
      "   macro avg       0.68      0.95      0.76    555719\n",
      "weighted avg       1.00      0.99      0.99    555719\n",
      "\n",
      "AUC = 0.9507327489535828\n"
     ]
    }
   ],
   "source": [
    "#joblib.dump(model, 'GBC.pkl')\n",
    "#\n",
    "from sklearn.metrics import classification_report, roc_auc_score, plot_roc_curve, plot_confusion_matrix\n",
    "print(classification_report(y_test, model.predict(x_test), target_names=['Clear','Fraud']))\n",
    "print(f'AUC = {roc_auc_score(y_test, model.predict(x_test))}')"
   ]
  },
  {
   "cell_type": "code",
   "execution_count": 85,
   "metadata": {},
   "outputs": [
    {
     "data": {
      "image/png": "[encoded data removed]",
      "text/plain": [
       "<Figure size 864x432 with 3 Axes>"
      ]
     },
     "metadata": {
      "needs_background": "light"
     },
     "output_type": "display_data"
    }
   ],
   "source": [
    "plt.figure(figsize=(12, 6))\n",
    "plt.subplot(1, 2, 1)\n",
    "plt.title('Confusion Matrix for Gradient Boosting Classifier')\n",
    "plot_confusion_matrix(model, x_test, y_test, ax=plt.gca())\n",
    "plt.subplot(1, 2, 2)\n",
    "plt.grid()\n",
    "plt.title('Receiver Operating Characteristic Curve for Gradient Boosting Classifier')\n",
    "plot_roc_curve(model, x_test, y_test, ax=plt.gca())\n",
    "plt.show()"
   ]
  },
  {
   "cell_type": "code",
   "execution_count": 95,
   "metadata": {},
   "outputs": [
    {
     "name": "stdout",
     "output_type": "stream",
     "text": [
      "Feature importance:\n"
     ]
    },
    {
     "data": {
      "text/plain": [
       "{'cc_num': 7.782392635943769e-05,\n",
       " 'merchant': 0.0,\n",
       " 'amt': 0.7751270389337528,\n",
       " 'first': 7.280378907375774e-05,\n",
       " 'last': 9.055740622349837e-05,\n",
       " 'city': 0.00012678840537999278,\n",
       " 'state': 5.681893815523348e-05,\n",
       " 'zip': 3.68486640120878e-05,\n",
       " 'city_pop': 0.000216410792952557,\n",
       " 'job': 0.00014643619746408667,\n",
       " 'dob': 0.0006966262799325719,\n",
       " 'merch_lat': 0.00010444904848610424,\n",
       " 'merch_long': 0.00013641511718140477,\n",
       " 'hour_minute_sec': 0.023167604440658626,\n",
       " 'street_name': 8.863867136173948e-05,\n",
       " 'street_number': 1.3986621417215577e-05,\n",
       " 'time_diff': 0.007137722127907179,\n",
       " 'dangerous_street': 0.0034858427036275506,\n",
       " 'category_entertainment': 0.007165776212315418,\n",
       " 'category_food_dining': 0.005194860025863803,\n",
       " 'category_gas_transport': 0.014353147852998505,\n",
       " 'category_grocery_net': 0.0008630318543507043,\n",
       " 'category_grocery_pos': 0.007050323987288882,\n",
       " 'category_health_fitness': 0.0067535935716951535,\n",
       " 'category_home': 0.0049691946960764575,\n",
       " 'category_kids_pets': 0.007788619401632563,\n",
       " 'category_misc_net': 0.0019116090668788584,\n",
       " 'category_misc_pos': 0.00985010712860382,\n",
       " 'category_personal_care': 0.0036464965022545617,\n",
       " 'category_shopping_net': 0.002032033934561848,\n",
       " 'category_shopping_pos': 0.006508637646047171,\n",
       " 'category_travel': 0.004138227165205572,\n",
       " 'gender_F': 0.000100878662277533,\n",
       " 'gender_M': 1.9173422011703226e-05,\n",
       " 'sub_category_care': 0.010618327892059411,\n",
       " 'sub_category_dining': 0.006629599911571656,\n",
       " 'sub_category_entertainment': 0.00836353818680629,\n",
       " 'sub_category_fitness': 0.006872337233317741,\n",
       " 'sub_category_home': 0.010242191152961681,\n",
       " 'sub_category_net': 0.011861668745208035,\n",
       " 'sub_category_pets': 0.00957350911181202,\n",
       " 'sub_category_pos': 0.029614517936840074,\n",
       " 'sub_category_transport': 0.003277834874399704,\n",
       " 'sub_category_travel': 0.009817951761014907}"
      ]
     },
     "execution_count": 95,
     "metadata": {},
     "output_type": "execute_result"
    }
   ],
   "source": [
    "print('Feature importance:')\n",
    "{c:i for c, i in zip(x_train_new,model.steps[1][1].feature_importances_)}"
   ]
  },
  {
   "cell_type": "markdown",
   "metadata": {},
   "source": [
    "### XGBoost Classifier:"
   ]
  },
  {
   "cell_type": "code",
   "execution_count": 10,
   "metadata": {},
   "outputs": [],
   "source": [
    "from sklearn.calibration import CalibratedClassifierCV\n",
    "from xgboost.sklearn import XGBClassifier as XGB\n",
    "from dask.distributed import Client\n",
    "import joblib\n",
    "from sklearn.model_selection import GridSearchCV"
   ]
  },
  {
   "cell_type": "code",
   "execution_count": null,
   "metadata": {},
   "outputs": [],
   "source": [
    "%%time\n",
    "client = Client(processes=False)\n",
    "\n",
    "param_space = {\n",
    "    'model__booster': ['gbtree', 'gblinear', 'dart'],\n",
    "    'model__n_estimators': [80, 100, 120],\n",
    "    'model__learning_rate': np.logspace(-4, -1, 4),\n",
    "    'model__reg_alpha': np.array([10**-4, 10**-2, 1, 100]),\n",
    "    'model__reg_lambda': np.array([10**-4, 10**-2, 1, 100])\n",
    "}\n",
    "model = Pipeline(steps=[('scaler', StandardScaler()), ('model', XGB(verbosity=3, objective='binary:logistic', gamma=0.001, tree_method='hist'))])\n",
    "model = GridSearchCV(model, param_grid=param_space, cv=3, return_train_score=True, verbose=10)\n",
    "\n",
    "with joblib.parallel_backend('dask'):\n",
    "    model.fit(x_train_new.iloc[N, :], y_train_new[N])\n",
    "    \n",
    "client.close()"
   ]
  },
  {
   "cell_type": "code",
   "execution_count": 19,
   "metadata": {},
   "outputs": [
    {
     "data": {
      "text/plain": [
       "0.9912333333333333"
      ]
     },
     "execution_count": 19,
     "metadata": {},
     "output_type": "execute_result"
    }
   ],
   "source": [
    "model.best_score_"
   ]
  },
  {
   "cell_type": "code",
   "execution_count": 28,
   "metadata": {},
   "outputs": [
    {
     "data": {
      "text/plain": [
       "XGBClassifier(base_score=0.5, booster='gbtree', colsample_bylevel=1,\n",
       "              colsample_bynode=1, colsample_bytree=1, gamma=0.001, gpu_id=-1,\n",
       "              importance_type='gain', interaction_constraints='',\n",
       "              learning_rate=0.1, max_delta_step=0, max_depth=6,\n",
       "              min_child_weight=1, missing=nan, monotone_constraints='()',\n",
       "              n_estimators=120, n_jobs=8, num_parallel_tree=1, random_state=0,\n",
       "              reg_alpha=0.01, reg_lambda=0.0001, scale_pos_weight=1,\n",
       "              subsample=1, tree_method='hist', validate_parameters=1,\n",
       "              verbosity=3)"
      ]
     },
     "execution_count": 28,
     "metadata": {},
     "output_type": "execute_result"
    }
   ],
   "source": [
    "model.best_estimator_.steps[1][1]"
   ]
  },
  {
   "cell_type": "code",
   "execution_count": 58,
   "metadata": {},
   "outputs": [
    {
     "name": "stderr",
     "output_type": "stream",
     "text": [
      "c:\\Users\\tomda\\source\\pytho\\lib\\site-packages\\xgboost\\data.py:114: UserWarning: Use subset (sliced data) of np.ndarray is not recommended because it will generate extra copies and increase memory consumption\n",
      "  \"because it will generate extra copies and increase \" +\n"
     ]
    },
    {
     "name": "stdout",
     "output_type": "stream",
     "text": [
      "              precision    recall  f1-score   support\n",
      "\n",
      "       Clear       1.00      0.99      1.00    553574\n",
      "       Fraud       0.31      0.91      0.46      2145\n",
      "\n",
      "    accuracy                           0.99    555719\n",
      "   macro avg       0.65      0.95      0.73    555719\n",
      "weighted avg       1.00      0.99      0.99    555719\n",
      "\n"
     ]
    },
    {
     "name": "stderr",
     "output_type": "stream",
     "text": [
      "c:\\Users\\tomda\\source\\pytho\\lib\\site-packages\\xgboost\\data.py:114: UserWarning: Use subset (sliced data) of np.ndarray is not recommended because it will generate extra copies and increase memory consumption\n",
      "  \"because it will generate extra copies and increase \" +\n"
     ]
    },
    {
     "name": "stdout",
     "output_type": "stream",
     "text": [
      "AUC = 0.9533847402439496\n"
     ]
    }
   ],
   "source": [
    "from sklearn.metrics import classification_report, roc_auc_score, plot_roc_curve, plot_confusion_matrix\n",
    "print(classification_report(y_test, model.best_estimator_.predict(x_test), target_names=['Clear','Fraud']))\n",
    "print(f'AUC = {roc_auc_score(y_test, model.best_estimator_.predict(x_test))}')"
   ]
  },
  {
   "cell_type": "markdown",
   "metadata": {},
   "source": [
    "The results seem pretty similar to the Gradient Boosting model. Let's try to enhance them, using model calibration:"
   ]
  },
  {
   "cell_type": "code",
   "execution_count": 54,
   "metadata": {},
   "outputs": [],
   "source": [
    "y_prob = model.best_estimator_.predict_proba(x_test)"
   ]
  },
  {
   "cell_type": "code",
   "execution_count": 59,
   "metadata": {},
   "outputs": [
    {
     "name": "stdout",
     "output_type": "stream",
     "text": [
      "[19:19:19] INFO: C:/Users/Administrator/workspace/xgboost-win64_release_1.4.0/src/gbm/gbtree.cc:177: Tree method is selected to be 'hist', which uses a single updater grow_quantile_histmaker.\n"
     ]
    },
    {
     "name": "stderr",
     "output_type": "stream",
     "text": [
      "c:\\Users\\tomda\\source\\pytho\\lib\\site-packages\\xgboost\\data.py:114: UserWarning: Use subset (sliced data) of np.ndarray is not recommended because it will generate extra copies and increase memory consumption\n",
      "  \"because it will generate extra copies and increase \" +\n"
     ]
    }
   ],
   "source": [
    "xgb_model = XGB(objective='binary:logistic', gamma=0.001, tree_method='hist', booster = 'gbtree', learning_rate=0.1, \n",
    "                reg_alpha=0.01, reg_lambda=0.0001, n_estimators=120)\n",
    "x1, x2, y1, y2 = train_test_split(x_train_new, y_train_new, shuffle=True, test_size=0.5)\n",
    "xgb_model = make_pipeline(StandardScaler(), xgb_model).fit(x1, y1)\n",
    "model = CalibratedClassifierCV(xgb_model, method='isotonic', cv='prefit').fit(x2, y2)"
   ]
  },
  {
   "cell_type": "code",
   "execution_count": null,
   "metadata": {},
   "outputs": [],
   "source": []
  },
  {
   "cell_type": "code",
   "execution_count": 63,
   "metadata": {},
   "outputs": [
    {
     "data": {
      "text/plain": [
       "CalibratedClassifierCV(base_estimator=Pipeline(steps=[('standardscaler',\n",
       "                                                       StandardScaler()),\n",
       "                                                      ('xgbclassifier',\n",
       "                                                       XGBClassifier(base_score=0.5,\n",
       "                                                                     booster='gbtree',\n",
       "                                                                     colsample_bylevel=1,\n",
       "                                                                     colsample_bynode=1,\n",
       "                                                                     colsample_bytree=1,\n",
       "                                                                     gamma=0.001,\n",
       "                                                                     gpu_id=-1,\n",
       "                                                                     importance_type='gain',\n",
       "                                                                     interaction_constraints='',\n",
       "                                                                     learning_rate=0.1,\n",
       "                                                                     max_delta_step=0,\n",
       "                                                                     max_depth=6,\n",
       "                                                                     min_child_weight=1,\n",
       "                                                                     missing=nan,\n",
       "                                                                     monotone_constraints='()',\n",
       "                                                                     n_estimators=120,\n",
       "                                                                     n_jobs=8,\n",
       "                                                                     num_parallel_tree=1,\n",
       "                                                                     random_state=0,\n",
       "                                                                     reg_alpha=0.01,\n",
       "                                                                     reg_lambda=0.0001,\n",
       "                                                                     scale_pos_weight=1,\n",
       "                                                                     subsample=1,\n",
       "                                                                     tree_method='hist',\n",
       "                                                                     validate_parameters=1,\n",
       "                                                                     verbosity=None))]),\n",
       "                       cv='prefit', method='isotonic')"
      ]
     },
     "execution_count": 63,
     "metadata": {},
     "output_type": "execute_result"
    }
   ],
   "source": []
  },
  {
   "cell_type": "code",
   "execution_count": null,
   "metadata": {},
   "outputs": [],
   "source": []
  },
  {
   "cell_type": "code",
   "execution_count": null,
   "metadata": {},
   "outputs": [],
   "source": []
  },
  {
   "cell_type": "code",
   "execution_count": 55,
   "metadata": {},
   "outputs": [
    {
     "data": {
      "text/plain": [
       "<matplotlib.legend.Legend at 0x1c285ce3fc8>"
      ]
     },
     "execution_count": 55,
     "metadata": {},
     "output_type": "execute_result"
    },
    {
     "data": {
      "image/png": "[encoded data removed]",
      "text/plain": [
       "<Figure size 432x288 with 1 Axes>"
      ]
     },
     "metadata": {
      "needs_background": "light"
     },
     "output_type": "display_data"
    }
   ],
   "source": [
    "from sklearn.calibration import calibration_curve\n",
    "\n",
    "curve = calibration_curve(y_true=y_test, y_prob=y_prob[:, 1], n_bins=10)\n",
    "plt.grid()\n",
    "plt.plot([0, 1], [0, 1], \"k:\", label=\"Perfectly calibrated\")\n",
    "plt.plot(curve[0], curve[1], \"s-\")\n",
    "plt.ylabel(\"Fraction of positives\")\n",
    "plt.legend(shadow=True, fancybox=True)"
   ]
  },
  {
   "cell_type": "code",
   "execution_count": null,
   "metadata": {},
   "outputs": [],
   "source": []
  },
  {
   "cell_type": "code",
   "execution_count": null,
   "metadata": {},
   "outputs": [],
   "source": []
  },
  {
   "cell_type": "code",
   "execution_count": null,
   "metadata": {},
   "outputs": [],
   "source": [
    "#joblib.dump(model.best_estimator_, 'XGB.pkl')"
   ]
  },
  {
   "cell_type": "markdown",
   "metadata": {},
   "source": [
    "## Task 5 Feature Selections\n",
    "Identify features that are important for your best model. Which features are most influential,and which features could be removed without decrease in performance? Does removing irrelevant features make your model better?"
   ]
  },
  {
   "cell_type": "markdown",
   "metadata": {},
   "source": [
    "## Task 6 An explainable model\n",
    "Can you create an “explainable” model that is nearly as good as your best model? An explainable model should be small enough to be easily inspected - say a linear model withfew enough coefficients that you can reasonable look at all of them, or a tree with a smallnumber of leafs etc."
   ]
  },
  {
   "cell_type": "code",
   "execution_count": null,
   "metadata": {
    "collapsed": false,
    "jupyter": {
     "outputs_hidden": false
    },
    "pycharm": {
     "name": "#%%\n"
    }
   },
   "outputs": [],
   "source": []
  }
 ],
 "metadata": {
  "kernelspec": {
   "display_name": "Python 3.7.7 64-bit",
   "language": "python",
   "name": "python37764bitfcaeba8ec0034e88ab2ae4e6f7b7e14a"
  },
  "language_info": {
   "codemirror_mode": {
    "name": "ipython",
    "version": 3
   },
   "file_extension": ".py",
   "mimetype": "text/x-python",
   "name": "python",
   "nbconvert_exporter": "python",
   "pygments_lexer": "ipython3",
   "version": "3.7.7"
  },
  "toc": {
   "base_numbering": 1,
   "nav_menu": {},
   "number_sections": false,
   "sideBar": true,
   "skip_h1_title": false,
   "title_cell": "Table of Contents",
   "title_sidebar": "Contents",
   "toc_cell": false,
   "toc_position": {},
   "toc_section_display": true,
   "toc_window_display": true
  }
 },
 "nbformat": 4,
 "nbformat_minor": 4
}
